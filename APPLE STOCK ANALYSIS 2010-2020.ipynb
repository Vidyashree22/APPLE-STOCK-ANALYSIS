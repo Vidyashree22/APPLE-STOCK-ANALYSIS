{
 "cells": [
  {
   "cell_type": "markdown",
   "metadata": {},
   "source": [
    "## APPLE STOCK ANALYSIS AND PREDICTION "
   ]
  },
  {
   "cell_type": "code",
   "execution_count": 1,
   "metadata": {},
   "outputs": [],
   "source": [
    "#Libraries\n",
    "import tensorflow\n",
    "import pandas as pd\n",
    "import numpy as np\n",
    "\n",
    "import matplotlib.pyplot as plt\n",
    "import seaborn as sns\n",
    "sns.set_style('whitegrid')\n",
    "plt.style.use(\"fivethirtyeight\")\n",
    "%matplotlib inline\n",
    "\n",
    "# For reading stock data from yahoo\n",
    "import yfinance as yf\n",
    "\n",
    "# For time stamps\n",
    "from datetime import datetime"
   ]
  },
  {
   "cell_type": "code",
   "execution_count": 2,
   "metadata": {},
   "outputs": [
    {
     "data": {
      "text/html": [
       "\n",
       "    <div class=\"bk-root\">\n",
       "        <a href=\"https://bokeh.org\" target=\"_blank\" class=\"bk-logo bk-logo-small bk-logo-notebook\"></a>\n",
       "        <span id=\"1001\">Loading BokehJS ...</span>\n",
       "    </div>"
      ]
     },
     "metadata": {},
     "output_type": "display_data"
    },
    {
     "data": {
      "application/javascript": [
       "\n",
       "(function(root) {\n",
       "  function now() {\n",
       "    return new Date();\n",
       "  }\n",
       "\n",
       "  var force = true;\n",
       "\n",
       "  if (typeof root._bokeh_onload_callbacks === \"undefined\" || force === true) {\n",
       "    root._bokeh_onload_callbacks = [];\n",
       "    root._bokeh_is_loading = undefined;\n",
       "  }\n",
       "\n",
       "  var JS_MIME_TYPE = 'application/javascript';\n",
       "  var HTML_MIME_TYPE = 'text/html';\n",
       "  var EXEC_MIME_TYPE = 'application/vnd.bokehjs_exec.v0+json';\n",
       "  var CLASS_NAME = 'output_bokeh rendered_html';\n",
       "\n",
       "  /**\n",
       "   * Render data to the DOM node\n",
       "   */\n",
       "  function render(props, node) {\n",
       "    var script = document.createElement(\"script\");\n",
       "    node.appendChild(script);\n",
       "  }\n",
       "\n",
       "  /**\n",
       "   * Handle when an output is cleared or removed\n",
       "   */\n",
       "  function handleClearOutput(event, handle) {\n",
       "    var cell = handle.cell;\n",
       "\n",
       "    var id = cell.output_area._bokeh_element_id;\n",
       "    var server_id = cell.output_area._bokeh_server_id;\n",
       "    // Clean up Bokeh references\n",
       "    if (id != null && id in Bokeh.index) {\n",
       "      Bokeh.index[id].model.document.clear();\n",
       "      delete Bokeh.index[id];\n",
       "    }\n",
       "\n",
       "    if (server_id !== undefined) {\n",
       "      // Clean up Bokeh references\n",
       "      var cmd = \"from bokeh.io.state import curstate; print(curstate().uuid_to_server['\" + server_id + \"'].get_sessions()[0].document.roots[0]._id)\";\n",
       "      cell.notebook.kernel.execute(cmd, {\n",
       "        iopub: {\n",
       "          output: function(msg) {\n",
       "            var id = msg.content.text.trim();\n",
       "            if (id in Bokeh.index) {\n",
       "              Bokeh.index[id].model.document.clear();\n",
       "              delete Bokeh.index[id];\n",
       "            }\n",
       "          }\n",
       "        }\n",
       "      });\n",
       "      // Destroy server and session\n",
       "      var cmd = \"import bokeh.io.notebook as ion; ion.destroy_server('\" + server_id + \"')\";\n",
       "      cell.notebook.kernel.execute(cmd);\n",
       "    }\n",
       "  }\n",
       "\n",
       "  /**\n",
       "   * Handle when a new output is added\n",
       "   */\n",
       "  function handleAddOutput(event, handle) {\n",
       "    var output_area = handle.output_area;\n",
       "    var output = handle.output;\n",
       "\n",
       "    // limit handleAddOutput to display_data with EXEC_MIME_TYPE content only\n",
       "    if ((output.output_type != \"display_data\") || (!output.data.hasOwnProperty(EXEC_MIME_TYPE))) {\n",
       "      return\n",
       "    }\n",
       "\n",
       "    var toinsert = output_area.element.find(\".\" + CLASS_NAME.split(' ')[0]);\n",
       "\n",
       "    if (output.metadata[EXEC_MIME_TYPE][\"id\"] !== undefined) {\n",
       "      toinsert[toinsert.length - 1].firstChild.textContent = output.data[JS_MIME_TYPE];\n",
       "      // store reference to embed id on output_area\n",
       "      output_area._bokeh_element_id = output.metadata[EXEC_MIME_TYPE][\"id\"];\n",
       "    }\n",
       "    if (output.metadata[EXEC_MIME_TYPE][\"server_id\"] !== undefined) {\n",
       "      var bk_div = document.createElement(\"div\");\n",
       "      bk_div.innerHTML = output.data[HTML_MIME_TYPE];\n",
       "      var script_attrs = bk_div.children[0].attributes;\n",
       "      for (var i = 0; i < script_attrs.length; i++) {\n",
       "        toinsert[toinsert.length - 1].firstChild.setAttribute(script_attrs[i].name, script_attrs[i].value);\n",
       "        toinsert[toinsert.length - 1].firstChild.textContent = bk_div.children[0].textContent\n",
       "      }\n",
       "      // store reference to server id on output_area\n",
       "      output_area._bokeh_server_id = output.metadata[EXEC_MIME_TYPE][\"server_id\"];\n",
       "    }\n",
       "  }\n",
       "\n",
       "  function register_renderer(events, OutputArea) {\n",
       "\n",
       "    function append_mime(data, metadata, element) {\n",
       "      // create a DOM node to render to\n",
       "      var toinsert = this.create_output_subarea(\n",
       "        metadata,\n",
       "        CLASS_NAME,\n",
       "        EXEC_MIME_TYPE\n",
       "      );\n",
       "      this.keyboard_manager.register_events(toinsert);\n",
       "      // Render to node\n",
       "      var props = {data: data, metadata: metadata[EXEC_MIME_TYPE]};\n",
       "      render(props, toinsert[toinsert.length - 1]);\n",
       "      element.append(toinsert);\n",
       "      return toinsert\n",
       "    }\n",
       "\n",
       "    /* Handle when an output is cleared or removed */\n",
       "    events.on('clear_output.CodeCell', handleClearOutput);\n",
       "    events.on('delete.Cell', handleClearOutput);\n",
       "\n",
       "    /* Handle when a new output is added */\n",
       "    events.on('output_added.OutputArea', handleAddOutput);\n",
       "\n",
       "    /**\n",
       "     * Register the mime type and append_mime function with output_area\n",
       "     */\n",
       "    OutputArea.prototype.register_mime_type(EXEC_MIME_TYPE, append_mime, {\n",
       "      /* Is output safe? */\n",
       "      safe: true,\n",
       "      /* Index of renderer in `output_area.display_order` */\n",
       "      index: 0\n",
       "    });\n",
       "  }\n",
       "\n",
       "  // register the mime type if in Jupyter Notebook environment and previously unregistered\n",
       "  if (root.Jupyter !== undefined) {\n",
       "    var events = require('base/js/events');\n",
       "    var OutputArea = require('notebook/js/outputarea').OutputArea;\n",
       "\n",
       "    if (OutputArea.prototype.mime_types().indexOf(EXEC_MIME_TYPE) == -1) {\n",
       "      register_renderer(events, OutputArea);\n",
       "    }\n",
       "  }\n",
       "\n",
       "  \n",
       "  if (typeof (root._bokeh_timeout) === \"undefined\" || force === true) {\n",
       "    root._bokeh_timeout = Date.now() + 5000;\n",
       "    root._bokeh_failed_load = false;\n",
       "  }\n",
       "\n",
       "  var NB_LOAD_WARNING = {'data': {'text/html':\n",
       "     \"<div style='background-color: #fdd'>\\n\"+\n",
       "     \"<p>\\n\"+\n",
       "     \"BokehJS does not appear to have successfully loaded. If loading BokehJS from CDN, this \\n\"+\n",
       "     \"may be due to a slow or bad network connection. Possible fixes:\\n\"+\n",
       "     \"</p>\\n\"+\n",
       "     \"<ul>\\n\"+\n",
       "     \"<li>re-rerun `output_notebook()` to attempt to load from CDN again, or</li>\\n\"+\n",
       "     \"<li>use INLINE resources instead, as so:</li>\\n\"+\n",
       "     \"</ul>\\n\"+\n",
       "     \"<code>\\n\"+\n",
       "     \"from bokeh.resources import INLINE\\n\"+\n",
       "     \"output_notebook(resources=INLINE)\\n\"+\n",
       "     \"</code>\\n\"+\n",
       "     \"</div>\"}};\n",
       "\n",
       "  function display_loaded() {\n",
       "    var el = document.getElementById(\"1001\");\n",
       "    if (el != null) {\n",
       "      el.textContent = \"BokehJS is loading...\";\n",
       "    }\n",
       "    if (root.Bokeh !== undefined) {\n",
       "      if (el != null) {\n",
       "        el.textContent = \"BokehJS \" + root.Bokeh.version + \" successfully loaded.\";\n",
       "      }\n",
       "    } else if (Date.now() < root._bokeh_timeout) {\n",
       "      setTimeout(display_loaded, 100)\n",
       "    }\n",
       "  }\n",
       "\n",
       "\n",
       "  function run_callbacks() {\n",
       "    try {\n",
       "      root._bokeh_onload_callbacks.forEach(function(callback) {\n",
       "        if (callback != null)\n",
       "          callback();\n",
       "      });\n",
       "    } finally {\n",
       "      delete root._bokeh_onload_callbacks\n",
       "    }\n",
       "    console.debug(\"Bokeh: all callbacks have finished\");\n",
       "  }\n",
       "\n",
       "  function load_libs(css_urls, js_urls, callback) {\n",
       "    if (css_urls == null) css_urls = [];\n",
       "    if (js_urls == null) js_urls = [];\n",
       "\n",
       "    root._bokeh_onload_callbacks.push(callback);\n",
       "    if (root._bokeh_is_loading > 0) {\n",
       "      console.debug(\"Bokeh: BokehJS is being loaded, scheduling callback at\", now());\n",
       "      return null;\n",
       "    }\n",
       "    if (js_urls == null || js_urls.length === 0) {\n",
       "      run_callbacks();\n",
       "      return null;\n",
       "    }\n",
       "    console.debug(\"Bokeh: BokehJS not loaded, scheduling load and callback at\", now());\n",
       "    root._bokeh_is_loading = css_urls.length + js_urls.length;\n",
       "\n",
       "    function on_load() {\n",
       "      root._bokeh_is_loading--;\n",
       "      if (root._bokeh_is_loading === 0) {\n",
       "        console.debug(\"Bokeh: all BokehJS libraries/stylesheets loaded\");\n",
       "        run_callbacks()\n",
       "      }\n",
       "    }\n",
       "\n",
       "    function on_error() {\n",
       "      console.error(\"failed to load \" + url);\n",
       "    }\n",
       "\n",
       "    for (var i = 0; i < css_urls.length; i++) {\n",
       "      var url = css_urls[i];\n",
       "      const element = document.createElement(\"link\");\n",
       "      element.onload = on_load;\n",
       "      element.onerror = on_error;\n",
       "      element.rel = \"stylesheet\";\n",
       "      element.type = \"text/css\";\n",
       "      element.href = url;\n",
       "      console.debug(\"Bokeh: injecting link tag for BokehJS stylesheet: \", url);\n",
       "      document.body.appendChild(element);\n",
       "    }\n",
       "\n",
       "    const hashes = {\"https://cdn.bokeh.org/bokeh/release/bokeh-2.1.1.min.js\": \"kLr4fYcqcSpbuI95brIH3vnnYCquzzSxHPU6XGQCIkQRGJwhg0StNbj1eegrHs12\", \"https://cdn.bokeh.org/bokeh/release/bokeh-widgets-2.1.1.min.js\": \"xIGPmVtaOm+z0BqfSOMn4lOR6ciex448GIKG4eE61LsAvmGj48XcMQZtKcE/UXZe\", \"https://cdn.bokeh.org/bokeh/release/bokeh-tables-2.1.1.min.js\": \"Dc9u1wF/0zApGIWoBbH77iWEHtdmkuYWG839Uzmv8y8yBLXebjO9ZnERsde5Ln/P\", \"https://cdn.bokeh.org/bokeh/release/bokeh-gl-2.1.1.min.js\": \"cT9JaBz7GiRXdENrJLZNSC6eMNF3nh3fa5fTF51Svp+ukxPdwcU5kGXGPBgDCa2j\"};\n",
       "\n",
       "    for (var i = 0; i < js_urls.length; i++) {\n",
       "      var url = js_urls[i];\n",
       "      var element = document.createElement('script');\n",
       "      element.onload = on_load;\n",
       "      element.onerror = on_error;\n",
       "      element.async = false;\n",
       "      element.src = url;\n",
       "      if (url in hashes) {\n",
       "        element.crossOrigin = \"anonymous\";\n",
       "        element.integrity = \"sha384-\" + hashes[url];\n",
       "      }\n",
       "      console.debug(\"Bokeh: injecting script tag for BokehJS library: \", url);\n",
       "      document.head.appendChild(element);\n",
       "    }\n",
       "  };\n",
       "\n",
       "  function inject_raw_css(css) {\n",
       "    const element = document.createElement(\"style\");\n",
       "    element.appendChild(document.createTextNode(css));\n",
       "    document.body.appendChild(element);\n",
       "  }\n",
       "\n",
       "  \n",
       "  var js_urls = [\"https://cdn.bokeh.org/bokeh/release/bokeh-2.1.1.min.js\", \"https://cdn.bokeh.org/bokeh/release/bokeh-widgets-2.1.1.min.js\", \"https://cdn.bokeh.org/bokeh/release/bokeh-tables-2.1.1.min.js\", \"https://cdn.bokeh.org/bokeh/release/bokeh-gl-2.1.1.min.js\"];\n",
       "  var css_urls = [];\n",
       "  \n",
       "\n",
       "  var inline_js = [\n",
       "    function(Bokeh) {\n",
       "      Bokeh.set_log_level(\"info\");\n",
       "    },\n",
       "    function(Bokeh) {\n",
       "    \n",
       "    \n",
       "    }\n",
       "  ];\n",
       "\n",
       "  function run_inline_js() {\n",
       "    \n",
       "    if (root.Bokeh !== undefined || force === true) {\n",
       "      \n",
       "    for (var i = 0; i < inline_js.length; i++) {\n",
       "      inline_js[i].call(root, root.Bokeh);\n",
       "    }\n",
       "    if (force === true) {\n",
       "        display_loaded();\n",
       "      }} else if (Date.now() < root._bokeh_timeout) {\n",
       "      setTimeout(run_inline_js, 100);\n",
       "    } else if (!root._bokeh_failed_load) {\n",
       "      console.log(\"Bokeh: BokehJS failed to load within specified timeout.\");\n",
       "      root._bokeh_failed_load = true;\n",
       "    } else if (force !== true) {\n",
       "      var cell = $(document.getElementById(\"1001\")).parents('.cell').data().cell;\n",
       "      cell.output_area.append_execute_result(NB_LOAD_WARNING)\n",
       "    }\n",
       "\n",
       "  }\n",
       "\n",
       "  if (root._bokeh_is_loading === 0) {\n",
       "    console.debug(\"Bokeh: BokehJS loaded, going straight to plotting\");\n",
       "    run_inline_js();\n",
       "  } else {\n",
       "    load_libs(css_urls, js_urls, function() {\n",
       "      console.debug(\"Bokeh: BokehJS plotting callback run at\", now());\n",
       "      run_inline_js();\n",
       "    });\n",
       "  }\n",
       "}(window));"
      ],
      "application/vnd.bokehjs_load.v0+json": "\n(function(root) {\n  function now() {\n    return new Date();\n  }\n\n  var force = true;\n\n  if (typeof root._bokeh_onload_callbacks === \"undefined\" || force === true) {\n    root._bokeh_onload_callbacks = [];\n    root._bokeh_is_loading = undefined;\n  }\n\n  \n\n  \n  if (typeof (root._bokeh_timeout) === \"undefined\" || force === true) {\n    root._bokeh_timeout = Date.now() + 5000;\n    root._bokeh_failed_load = false;\n  }\n\n  var NB_LOAD_WARNING = {'data': {'text/html':\n     \"<div style='background-color: #fdd'>\\n\"+\n     \"<p>\\n\"+\n     \"BokehJS does not appear to have successfully loaded. If loading BokehJS from CDN, this \\n\"+\n     \"may be due to a slow or bad network connection. Possible fixes:\\n\"+\n     \"</p>\\n\"+\n     \"<ul>\\n\"+\n     \"<li>re-rerun `output_notebook()` to attempt to load from CDN again, or</li>\\n\"+\n     \"<li>use INLINE resources instead, as so:</li>\\n\"+\n     \"</ul>\\n\"+\n     \"<code>\\n\"+\n     \"from bokeh.resources import INLINE\\n\"+\n     \"output_notebook(resources=INLINE)\\n\"+\n     \"</code>\\n\"+\n     \"</div>\"}};\n\n  function display_loaded() {\n    var el = document.getElementById(\"1001\");\n    if (el != null) {\n      el.textContent = \"BokehJS is loading...\";\n    }\n    if (root.Bokeh !== undefined) {\n      if (el != null) {\n        el.textContent = \"BokehJS \" + root.Bokeh.version + \" successfully loaded.\";\n      }\n    } else if (Date.now() < root._bokeh_timeout) {\n      setTimeout(display_loaded, 100)\n    }\n  }\n\n\n  function run_callbacks() {\n    try {\n      root._bokeh_onload_callbacks.forEach(function(callback) {\n        if (callback != null)\n          callback();\n      });\n    } finally {\n      delete root._bokeh_onload_callbacks\n    }\n    console.debug(\"Bokeh: all callbacks have finished\");\n  }\n\n  function load_libs(css_urls, js_urls, callback) {\n    if (css_urls == null) css_urls = [];\n    if (js_urls == null) js_urls = [];\n\n    root._bokeh_onload_callbacks.push(callback);\n    if (root._bokeh_is_loading > 0) {\n      console.debug(\"Bokeh: BokehJS is being loaded, scheduling callback at\", now());\n      return null;\n    }\n    if (js_urls == null || js_urls.length === 0) {\n      run_callbacks();\n      return null;\n    }\n    console.debug(\"Bokeh: BokehJS not loaded, scheduling load and callback at\", now());\n    root._bokeh_is_loading = css_urls.length + js_urls.length;\n\n    function on_load() {\n      root._bokeh_is_loading--;\n      if (root._bokeh_is_loading === 0) {\n        console.debug(\"Bokeh: all BokehJS libraries/stylesheets loaded\");\n        run_callbacks()\n      }\n    }\n\n    function on_error() {\n      console.error(\"failed to load \" + url);\n    }\n\n    for (var i = 0; i < css_urls.length; i++) {\n      var url = css_urls[i];\n      const element = document.createElement(\"link\");\n      element.onload = on_load;\n      element.onerror = on_error;\n      element.rel = \"stylesheet\";\n      element.type = \"text/css\";\n      element.href = url;\n      console.debug(\"Bokeh: injecting link tag for BokehJS stylesheet: \", url);\n      document.body.appendChild(element);\n    }\n\n    const hashes = {\"https://cdn.bokeh.org/bokeh/release/bokeh-2.1.1.min.js\": \"kLr4fYcqcSpbuI95brIH3vnnYCquzzSxHPU6XGQCIkQRGJwhg0StNbj1eegrHs12\", \"https://cdn.bokeh.org/bokeh/release/bokeh-widgets-2.1.1.min.js\": \"xIGPmVtaOm+z0BqfSOMn4lOR6ciex448GIKG4eE61LsAvmGj48XcMQZtKcE/UXZe\", \"https://cdn.bokeh.org/bokeh/release/bokeh-tables-2.1.1.min.js\": \"Dc9u1wF/0zApGIWoBbH77iWEHtdmkuYWG839Uzmv8y8yBLXebjO9ZnERsde5Ln/P\", \"https://cdn.bokeh.org/bokeh/release/bokeh-gl-2.1.1.min.js\": \"cT9JaBz7GiRXdENrJLZNSC6eMNF3nh3fa5fTF51Svp+ukxPdwcU5kGXGPBgDCa2j\"};\n\n    for (var i = 0; i < js_urls.length; i++) {\n      var url = js_urls[i];\n      var element = document.createElement('script');\n      element.onload = on_load;\n      element.onerror = on_error;\n      element.async = false;\n      element.src = url;\n      if (url in hashes) {\n        element.crossOrigin = \"anonymous\";\n        element.integrity = \"sha384-\" + hashes[url];\n      }\n      console.debug(\"Bokeh: injecting script tag for BokehJS library: \", url);\n      document.head.appendChild(element);\n    }\n  };\n\n  function inject_raw_css(css) {\n    const element = document.createElement(\"style\");\n    element.appendChild(document.createTextNode(css));\n    document.body.appendChild(element);\n  }\n\n  \n  var js_urls = [\"https://cdn.bokeh.org/bokeh/release/bokeh-2.1.1.min.js\", \"https://cdn.bokeh.org/bokeh/release/bokeh-widgets-2.1.1.min.js\", \"https://cdn.bokeh.org/bokeh/release/bokeh-tables-2.1.1.min.js\", \"https://cdn.bokeh.org/bokeh/release/bokeh-gl-2.1.1.min.js\"];\n  var css_urls = [];\n  \n\n  var inline_js = [\n    function(Bokeh) {\n      Bokeh.set_log_level(\"info\");\n    },\n    function(Bokeh) {\n    \n    \n    }\n  ];\n\n  function run_inline_js() {\n    \n    if (root.Bokeh !== undefined || force === true) {\n      \n    for (var i = 0; i < inline_js.length; i++) {\n      inline_js[i].call(root, root.Bokeh);\n    }\n    if (force === true) {\n        display_loaded();\n      }} else if (Date.now() < root._bokeh_timeout) {\n      setTimeout(run_inline_js, 100);\n    } else if (!root._bokeh_failed_load) {\n      console.log(\"Bokeh: BokehJS failed to load within specified timeout.\");\n      root._bokeh_failed_load = true;\n    } else if (force !== true) {\n      var cell = $(document.getElementById(\"1001\")).parents('.cell').data().cell;\n      cell.output_area.append_execute_result(NB_LOAD_WARNING)\n    }\n\n  }\n\n  if (root._bokeh_is_loading === 0) {\n    console.debug(\"Bokeh: BokehJS loaded, going straight to plotting\");\n    run_inline_js();\n  } else {\n    load_libs(css_urls, js_urls, function() {\n      console.debug(\"Bokeh: BokehJS plotting callback run at\", now());\n      run_inline_js();\n    });\n  }\n}(window));"
     },
     "metadata": {},
     "output_type": "display_data"
    }
   ],
   "source": [
    "#Bokeh Libraries\n",
    "from bokeh.plotting import figure\n",
    "from bokeh.io import output_file, show\n",
    "from bokeh.sampledata.iris import flowers\n",
    "from bokeh.models import Range1d, PanTool, ResetTool, HoverTool, ColumnDataSource, LabelSet\n",
    "from bokeh.models import ColumnDataSource, HoverTool\n",
    "from bokeh.models import DatetimeTickFormatter\n",
    "from bokeh.models import Label\n",
    "\n",
    "from bokeh.io import push_notebook, show, output_notebook\n",
    "from bokeh.layouts import row\n",
    "from bokeh.plotting import figure \n",
    "output_notebook()"
   ]
  },
  {
   "cell_type": "markdown",
   "metadata": {},
   "source": [
    "Downloading Daily data from Yahoo Finance from 2000-2020. Apple went public on December 12, 1980 at 22 USD price. The stock has split 4 times, adjusting the price with split-share price is 0.39 USD We are using only past 20 years data, focus is more on last decade post 2008 recession. Apple became a 2 Trillion Dollar company in Sepetember 2020, making it the Most Valuable publicly traded company. It trades with TICKER SYMBOL AAPL."
   ]
  },
  {
   "cell_type": "code",
   "execution_count": 4,
   "metadata": {},
   "outputs": [
    {
     "name": "stdout",
     "output_type": "stream",
     "text": [
      "[*********************100%***********************]  1 of 1 completed\n"
     ]
    }
   ],
   "source": [
    "df_app=yf.download('AAPL',start=\"2000-12-01\", end=\"2021-06-07\",interval = \"1d\")"
   ]
  },
  {
   "cell_type": "markdown",
   "metadata": {},
   "source": [
    "Yahoo Finance gives daily data with Open, High, Low, Close and Adjusted Closing price. We collect from December 1st, 2000 to 4th November, 2020(giving future date doesnt give an error, but easier to collect latest data)."
   ]
  },
  {
   "cell_type": "code",
   "execution_count": 5,
   "metadata": {},
   "outputs": [
    {
     "data": {
      "text/plain": [
       "<bound method DataFrame.info of                   Open        High         Low       Close   Adj Close  \\\n",
       "Date                                                                     \n",
       "2000-12-01    0.303571    0.312500    0.300223    0.304688    0.262002   \n",
       "2000-12-04    0.306920    0.306920    0.293527    0.297991    0.256243   \n",
       "2000-12-05    0.302455    0.311384    0.292411    0.303571    0.261042   \n",
       "2000-12-06    0.261161    0.267857    0.250000    0.255580    0.219774   \n",
       "2000-12-07    0.257813    0.265625    0.250000    0.255580    0.219774   \n",
       "...                ...         ...         ...         ...         ...   \n",
       "2021-05-28  125.570000  125.800003  124.550003  124.610001  124.610001   \n",
       "2021-06-01  125.080002  125.349998  123.940002  124.279999  124.279999   \n",
       "2021-06-02  124.279999  125.239998  124.050003  125.059998  125.059998   \n",
       "2021-06-03  124.680000  124.849998  123.129997  123.540001  123.540001   \n",
       "2021-06-04  124.070000  126.160004  123.849998  125.889999  125.889999   \n",
       "\n",
       "                Volume  \n",
       "Date                    \n",
       "2000-12-01   385705600  \n",
       "2000-12-04   371520800  \n",
       "2000-12-05   613978400  \n",
       "2000-12-06  1374464000  \n",
       "2000-12-07   408917600  \n",
       "...                ...  \n",
       "2021-05-28    71311100  \n",
       "2021-06-01    67637100  \n",
       "2021-06-02    59278900  \n",
       "2021-06-03    76229200  \n",
       "2021-06-04    75087300  \n",
       "\n",
       "[5158 rows x 6 columns]>"
      ]
     },
     "execution_count": 5,
     "metadata": {},
     "output_type": "execute_result"
    }
   ],
   "source": [
    "df_app.info"
   ]
  },
  {
   "cell_type": "code",
   "execution_count": 6,
   "metadata": {},
   "outputs": [
    {
     "data": {
      "text/plain": [
       "(5158, 6)"
      ]
     },
     "execution_count": 6,
     "metadata": {},
     "output_type": "execute_result"
    }
   ],
   "source": [
    "df_app.shape"
   ]
  },
  {
   "cell_type": "code",
   "execution_count": 7,
   "metadata": {},
   "outputs": [
    {
     "data": {
      "text/html": [
       "<div>\n",
       "<style scoped>\n",
       "    .dataframe tbody tr th:only-of-type {\n",
       "        vertical-align: middle;\n",
       "    }\n",
       "\n",
       "    .dataframe tbody tr th {\n",
       "        vertical-align: top;\n",
       "    }\n",
       "\n",
       "    .dataframe thead th {\n",
       "        text-align: right;\n",
       "    }\n",
       "</style>\n",
       "<table border=\"1\" class=\"dataframe\">\n",
       "  <thead>\n",
       "    <tr style=\"text-align: right;\">\n",
       "      <th></th>\n",
       "      <th>Open</th>\n",
       "      <th>High</th>\n",
       "      <th>Low</th>\n",
       "      <th>Close</th>\n",
       "      <th>Adj Close</th>\n",
       "      <th>Volume</th>\n",
       "    </tr>\n",
       "  </thead>\n",
       "  <tbody>\n",
       "    <tr>\n",
       "      <th>count</th>\n",
       "      <td>5158.000000</td>\n",
       "      <td>5158.000000</td>\n",
       "      <td>5158.000000</td>\n",
       "      <td>5158.000000</td>\n",
       "      <td>5158.000000</td>\n",
       "      <td>5.158000e+03</td>\n",
       "    </tr>\n",
       "    <tr>\n",
       "      <th>mean</th>\n",
       "      <td>21.787272</td>\n",
       "      <td>22.018055</td>\n",
       "      <td>21.548140</td>\n",
       "      <td>21.790547</td>\n",
       "      <td>20.699111</td>\n",
       "      <td>4.366301e+08</td>\n",
       "    </tr>\n",
       "    <tr>\n",
       "      <th>std</th>\n",
       "      <td>28.408069</td>\n",
       "      <td>28.735195</td>\n",
       "      <td>28.055406</td>\n",
       "      <td>28.404026</td>\n",
       "      <td>28.270734</td>\n",
       "      <td>3.816266e+08</td>\n",
       "    </tr>\n",
       "    <tr>\n",
       "      <th>min</th>\n",
       "      <td>0.231964</td>\n",
       "      <td>0.235536</td>\n",
       "      <td>0.227143</td>\n",
       "      <td>0.234286</td>\n",
       "      <td>0.201463</td>\n",
       "      <td>3.934000e+07</td>\n",
       "    </tr>\n",
       "    <tr>\n",
       "      <th>25%</th>\n",
       "      <td>2.215179</td>\n",
       "      <td>2.254911</td>\n",
       "      <td>2.188839</td>\n",
       "      <td>2.213929</td>\n",
       "      <td>1.903764</td>\n",
       "      <td>1.641288e+08</td>\n",
       "    </tr>\n",
       "    <tr>\n",
       "      <th>50%</th>\n",
       "      <td>12.023214</td>\n",
       "      <td>12.149464</td>\n",
       "      <td>11.931250</td>\n",
       "      <td>12.051072</td>\n",
       "      <td>10.362749</td>\n",
       "      <td>3.219314e+08</td>\n",
       "    </tr>\n",
       "    <tr>\n",
       "      <th>75%</th>\n",
       "      <td>29.126874</td>\n",
       "      <td>29.358750</td>\n",
       "      <td>28.886875</td>\n",
       "      <td>29.076875</td>\n",
       "      <td>26.996854</td>\n",
       "      <td>5.890409e+08</td>\n",
       "    </tr>\n",
       "    <tr>\n",
       "      <th>max</th>\n",
       "      <td>143.600006</td>\n",
       "      <td>145.089996</td>\n",
       "      <td>141.369995</td>\n",
       "      <td>143.160004</td>\n",
       "      <td>142.704010</td>\n",
       "      <td>3.372970e+09</td>\n",
       "    </tr>\n",
       "  </tbody>\n",
       "</table>\n",
       "</div>"
      ],
      "text/plain": [
       "              Open         High          Low        Close    Adj Close  \\\n",
       "count  5158.000000  5158.000000  5158.000000  5158.000000  5158.000000   \n",
       "mean     21.787272    22.018055    21.548140    21.790547    20.699111   \n",
       "std      28.408069    28.735195    28.055406    28.404026    28.270734   \n",
       "min       0.231964     0.235536     0.227143     0.234286     0.201463   \n",
       "25%       2.215179     2.254911     2.188839     2.213929     1.903764   \n",
       "50%      12.023214    12.149464    11.931250    12.051072    10.362749   \n",
       "75%      29.126874    29.358750    28.886875    29.076875    26.996854   \n",
       "max     143.600006   145.089996   141.369995   143.160004   142.704010   \n",
       "\n",
       "             Volume  \n",
       "count  5.158000e+03  \n",
       "mean   4.366301e+08  \n",
       "std    3.816266e+08  \n",
       "min    3.934000e+07  \n",
       "25%    1.641288e+08  \n",
       "50%    3.219314e+08  \n",
       "75%    5.890409e+08  \n",
       "max    3.372970e+09  "
      ]
     },
     "execution_count": 7,
     "metadata": {},
     "output_type": "execute_result"
    }
   ],
   "source": [
    "df_app.describe()"
   ]
  },
  {
   "cell_type": "code",
   "execution_count": 8,
   "metadata": {},
   "outputs": [
    {
     "data": {
      "text/html": [
       "<div>\n",
       "<style scoped>\n",
       "    .dataframe tbody tr th:only-of-type {\n",
       "        vertical-align: middle;\n",
       "    }\n",
       "\n",
       "    .dataframe tbody tr th {\n",
       "        vertical-align: top;\n",
       "    }\n",
       "\n",
       "    .dataframe thead th {\n",
       "        text-align: right;\n",
       "    }\n",
       "</style>\n",
       "<table border=\"1\" class=\"dataframe\">\n",
       "  <thead>\n",
       "    <tr style=\"text-align: right;\">\n",
       "      <th></th>\n",
       "      <th>Date</th>\n",
       "      <th>Open</th>\n",
       "      <th>High</th>\n",
       "      <th>Low</th>\n",
       "      <th>Close</th>\n",
       "      <th>Adj Close</th>\n",
       "      <th>Volume</th>\n",
       "    </tr>\n",
       "  </thead>\n",
       "  <tbody>\n",
       "    <tr>\n",
       "      <th>0</th>\n",
       "      <td>2000-12-01</td>\n",
       "      <td>0.303571</td>\n",
       "      <td>0.312500</td>\n",
       "      <td>0.300223</td>\n",
       "      <td>0.304688</td>\n",
       "      <td>0.262002</td>\n",
       "      <td>385705600</td>\n",
       "    </tr>\n",
       "    <tr>\n",
       "      <th>1</th>\n",
       "      <td>2000-12-04</td>\n",
       "      <td>0.306920</td>\n",
       "      <td>0.306920</td>\n",
       "      <td>0.293527</td>\n",
       "      <td>0.297991</td>\n",
       "      <td>0.256243</td>\n",
       "      <td>371520800</td>\n",
       "    </tr>\n",
       "    <tr>\n",
       "      <th>2</th>\n",
       "      <td>2000-12-05</td>\n",
       "      <td>0.302455</td>\n",
       "      <td>0.311384</td>\n",
       "      <td>0.292411</td>\n",
       "      <td>0.303571</td>\n",
       "      <td>0.261042</td>\n",
       "      <td>613978400</td>\n",
       "    </tr>\n",
       "    <tr>\n",
       "      <th>3</th>\n",
       "      <td>2000-12-06</td>\n",
       "      <td>0.261161</td>\n",
       "      <td>0.267857</td>\n",
       "      <td>0.250000</td>\n",
       "      <td>0.255580</td>\n",
       "      <td>0.219774</td>\n",
       "      <td>1374464000</td>\n",
       "    </tr>\n",
       "    <tr>\n",
       "      <th>4</th>\n",
       "      <td>2000-12-07</td>\n",
       "      <td>0.257813</td>\n",
       "      <td>0.265625</td>\n",
       "      <td>0.250000</td>\n",
       "      <td>0.255580</td>\n",
       "      <td>0.219774</td>\n",
       "      <td>408917600</td>\n",
       "    </tr>\n",
       "  </tbody>\n",
       "</table>\n",
       "</div>"
      ],
      "text/plain": [
       "        Date      Open      High       Low     Close  Adj Close      Volume\n",
       "0 2000-12-01  0.303571  0.312500  0.300223  0.304688   0.262002   385705600\n",
       "1 2000-12-04  0.306920  0.306920  0.293527  0.297991   0.256243   371520800\n",
       "2 2000-12-05  0.302455  0.311384  0.292411  0.303571   0.261042   613978400\n",
       "3 2000-12-06  0.261161  0.267857  0.250000  0.255580   0.219774  1374464000\n",
       "4 2000-12-07  0.257813  0.265625  0.250000  0.255580   0.219774   408917600"
      ]
     },
     "execution_count": 8,
     "metadata": {},
     "output_type": "execute_result"
    }
   ],
   "source": [
    "#df_app.head()\n",
    "df_app=df_app.reset_index()\n",
    "df_app.head()"
   ]
  },
  {
   "cell_type": "code",
   "execution_count": 9,
   "metadata": {},
   "outputs": [],
   "source": [
    "df_app['Date']=pd.to_datetime(df_app['Date'],format=\"%m/%d/%Y\") #Changing data type and format of the date col"
   ]
  },
  {
   "cell_type": "markdown",
   "metadata": {},
   "source": [
    "Graph Function will be called several times with filtered dataframe. We will be plotting Date Vs Closing Price. This function has bokeh properties defined. Since this is Time Series data, xaxis is always Year, yaxis is Price. The text color, font, font size and alignment can be changed. Refer to Bokeh Documentation.\n",
    "\n",
    "To keep track of the highest and the lowest stock price for any given period of time, it is highlighted with green and red dots respectively. The Hover tools gives the flexibility to hover through the line and trace the changinf price."
   ]
  },
  {
   "cell_type": "code",
   "execution_count": 10,
   "metadata": {},
   "outputs": [],
   "source": [
    "def graph(df,p):\n",
    "    #print (df.head())\n",
    "    p.xaxis.axis_label = 'Year'\n",
    "    p.yaxis.axis_label = 'Price'\n",
    "\n",
    "    p.title.text_color = \"black\"\n",
    "    p.title.text_font = \"calibri\"\n",
    "    p.title.text_font_size = \"20px\"\n",
    "    p.title.align = \"center\"\n",
    "\n",
    "    p.xaxis.minor_tick_line_color = \"black\"\n",
    "    p.yaxis.major_label_orientation = \"vertical\"\n",
    "    p.xaxis.visible = True\n",
    "    p.xaxis.minor_tick_in = -6\n",
    "    \n",
    "    \n",
    "    #x axis is year, y is the price\n",
    "    y2=(df['Close'].max())\n",
    "    ind=df['Close'].idxmax()\n",
    "    x2=df['Date'][ind].date()\n",
    "    name=\"$\"+str(round(y2,2))+\", \"+str(x2)\n",
    "    p.circle(x2,df['Close'].max(),size = 10, color = 'green',legend_label=name)\n",
    "\n",
    "    p.legend.location = \"top_left\"\n",
    "    y1=(df['Close'].min())\n",
    "    ind=df['Close'].idxmin()\n",
    "    x1=df['Date'][ind].date()\n",
    "    name=\"$\"+str(round(y1,2))+\", \"+str(x1)\n",
    "    p.circle(x1,y1,size = 10, color = 'red',legend_label=name)\n",
    "      \n",
    "    x=df.Date\n",
    "    y=df.Close\n",
    "    p.line(x,y,line_color=\"purple\", line_width = 3)\n",
    "    \n",
    "    p.xaxis.formatter=DatetimeTickFormatter(\n",
    "        days= [\"%b %y\"],\n",
    "        months=[\"%b %y\"],\n",
    "        years=[\"%b %y\"]\n",
    "    )\n",
    "\n",
    "    p.add_tools(HoverTool(tooltips=[\n",
    "        #('date','@x'),\n",
    "        ('close',  '$@{y}')], # use @{ } for field names with spaces   \n",
    "                          formatters={\n",
    "                         #    'date':'datetime',\n",
    "                              'adj close' : 'printf', \n",
    "                          },  # use 'printf' formatter for 'adj close' field\n",
    "                                  # use default 'numeral' formatter for other fields\n",
    "    \n",
    "                          mode='vline' # display a tooltip whenever the cursor is vertically in line with a glyph\n",
    "                         ))"
   ]
  },
  {
   "cell_type": "markdown",
   "metadata": {},
   "source": [
    "Below are attributes that specific to each graph, such as title, dataframe and name of the html file. Hence they cannot be included in the graph function."
   ]
  },
  {
   "cell_type": "code",
   "execution_count": 11,
   "metadata": {},
   "outputs": [
    {
     "data": {
      "text/html": [
       "\n",
       "\n",
       "\n",
       "\n",
       "\n",
       "\n",
       "  <div class=\"bk-root\" id=\"2ef7f991-2798-4900-b58f-03ecb7510b2f\" data-root-id=\"1002\"></div>\n"
      ]
     },
     "metadata": {},
     "output_type": "display_data"
    },
    {
     "data": {
      "application/javascript": [
       "(function(root) {\n",
       "  function embed_document(root) {\n",
       "    \n",
       "  var docs_json = {\"848fe5ac-1978-4648-b567-95eee99560bf\":{\"roots\":{\"references\":[{\"attributes\":{\"below\":[{\"id\":\"1013\"}],\"center\":[{\"id\":\"1016\"},{\"id\":\"1020\"},{\"id\":\"1046\"}],\"left\":[{\"id\":\"1017\"}],\"plot_height\":500,\"plot_width\":1000,\"renderers\":[{\"id\":\"1025\"},{\"id\":\"1051\"},{\"id\":\"1078\"}],\"title\":{\"id\":\"1003\"},\"toolbar\":{\"id\":\"1021\"},\"x_range\":{\"id\":\"1005\"},\"x_scale\":{\"id\":\"1009\"},\"y_range\":{\"id\":\"1007\"},\"y_scale\":{\"id\":\"1011\"}},\"id\":\"1002\",\"subtype\":\"Figure\",\"type\":\"Plot\"},{\"attributes\":{},\"id\":\"1043\",\"type\":\"YearsTicker\"},{\"attributes\":{\"months\":[0,4,8]},\"id\":\"1041\",\"type\":\"MonthsTicker\"},{\"attributes\":{\"label\":{\"value\":\"$0.23, 2003-04-17\"},\"renderers\":[{\"id\":\"1051\"}]},\"id\":\"1074\",\"type\":\"LegendItem\"},{\"attributes\":{\"data\":{},\"selected\":{\"id\":\"1073\"},\"selection_policy\":{\"id\":\"1072\"}},\"id\":\"1048\",\"type\":\"ColumnDataSource\"},{\"attributes\":{\"fill_color\":{\"value\":\"red\"},\"line_color\":{\"value\":\"red\"},\"size\":{\"units\":\"screen\",\"value\":10},\"x\":{\"value\":1050537600000.0},\"y\":{\"value\":0.23428599536418915}},\"id\":\"1049\",\"type\":\"Circle\"},{\"attributes\":{},\"id\":\"1031\",\"type\":\"BasicTickFormatter\"},{\"attributes\":{\"axis_label\":\"Price\",\"formatter\":{\"id\":\"1031\"},\"major_label_orientation\":\"vertical\",\"ticker\":{\"id\":\"1018\"}},\"id\":\"1017\",\"type\":\"LinearAxis\"},{\"attributes\":{\"source\":{\"id\":\"1075\"}},\"id\":\"1079\",\"type\":\"CDSView\"},{\"attributes\":{\"fill_color\":{\"value\":\"green\"},\"line_color\":{\"value\":\"green\"},\"size\":{\"units\":\"screen\",\"value\":10},\"x\":{\"value\":1611619200000.0},\"y\":{\"value\":143.16000366210938}},\"id\":\"1023\",\"type\":\"Circle\"},{\"attributes\":{},\"id\":\"1044\",\"type\":\"UnionRenderers\"},{\"attributes\":{},\"id\":\"1045\",\"type\":\"Selection\"},{\"attributes\":{},\"id\":\"1105\",\"type\":\"Selection\"},{\"attributes\":{},\"id\":\"1009\",\"type\":\"LinearScale\"},{\"attributes\":{\"source\":{\"id\":\"1048\"}},\"id\":\"1052\",\"type\":\"CDSView\"},{\"attributes\":{},\"id\":\"1104\",\"type\":\"UnionRenderers\"},{\"attributes\":{},\"id\":\"1072\",\"type\":\"UnionRenderers\"},{\"attributes\":{\"data\":{},\"selected\":{\"id\":\"1045\"},\"selection_policy\":{\"id\":\"1044\"}},\"id\":\"1022\",\"type\":\"ColumnDataSource\"},{\"attributes\":{\"data_source\":{\"id\":\"1022\"},\"glyph\":{\"id\":\"1023\"},\"hover_glyph\":null,\"muted_glyph\":null,\"nonselection_glyph\":{\"id\":\"1024\"},\"selection_glyph\":null,\"view\":{\"id\":\"1026\"}},\"id\":\"1025\",\"type\":\"GlyphRenderer\"},{\"attributes\":{\"fill_alpha\":{\"value\":0.1},\"fill_color\":{\"value\":\"red\"},\"line_alpha\":{\"value\":0.1},\"line_color\":{\"value\":\"red\"},\"size\":{\"units\":\"screen\",\"value\":10},\"x\":{\"value\":1050537600000.0},\"y\":{\"value\":0.23428599536418915}},\"id\":\"1050\",\"type\":\"Circle\"},{\"attributes\":{},\"id\":\"1073\",\"type\":\"Selection\"},{\"attributes\":{\"data_source\":{\"id\":\"1048\"},\"glyph\":{\"id\":\"1049\"},\"hover_glyph\":null,\"muted_glyph\":null,\"nonselection_glyph\":{\"id\":\"1050\"},\"selection_glyph\":null,\"view\":{\"id\":\"1052\"}},\"id\":\"1051\",\"type\":\"GlyphRenderer\"},{\"attributes\":{\"num_minor_ticks\":5,\"tickers\":[{\"id\":\"1032\"},{\"id\":\"1033\"},{\"id\":\"1034\"},{\"id\":\"1035\"},{\"id\":\"1036\"},{\"id\":\"1037\"},{\"id\":\"1038\"},{\"id\":\"1039\"},{\"id\":\"1040\"},{\"id\":\"1041\"},{\"id\":\"1042\"},{\"id\":\"1043\"}]},\"id\":\"1014\",\"type\":\"DatetimeTicker\"},{\"attributes\":{\"fill_alpha\":{\"value\":0.1},\"fill_color\":{\"value\":\"green\"},\"line_alpha\":{\"value\":0.1},\"line_color\":{\"value\":\"green\"},\"size\":{\"units\":\"screen\",\"value\":10},\"x\":{\"value\":1611619200000.0},\"y\":{\"value\":143.16000366210938}},\"id\":\"1024\",\"type\":\"Circle\"},{\"attributes\":{\"align\":\"center\",\"text\":\"APPLE\",\"text_color\":{\"value\":\"black\"},\"text_font\":\"calibri\",\"text_font_size\":{\"value\":\"20px\"}},\"id\":\"1003\",\"type\":\"Title\"},{\"attributes\":{\"axis_label\":\"Year\",\"formatter\":{\"id\":\"1080\"},\"minor_tick_in\":-6,\"ticker\":{\"id\":\"1014\"}},\"id\":\"1013\",\"type\":\"DatetimeAxis\"},{\"attributes\":{},\"id\":\"1007\",\"type\":\"DataRange1d\"},{\"attributes\":{},\"id\":\"1018\",\"type\":\"BasicTicker\"},{\"attributes\":{},\"id\":\"1011\",\"type\":\"LinearScale\"},{\"attributes\":{\"days\":[\"%b %y\"],\"months\":[\"%b %y\"],\"years\":[\"%b %y\"]},\"id\":\"1080\",\"type\":\"DatetimeTickFormatter\"},{\"attributes\":{},\"id\":\"1005\",\"type\":\"DataRange1d\"},{\"attributes\":{\"mantissas\":[1,2,5],\"max_interval\":500.0,\"num_minor_ticks\":0},\"id\":\"1032\",\"type\":\"AdaptiveTicker\"},{\"attributes\":{\"axis\":{\"id\":\"1013\"},\"ticker\":null},\"id\":\"1016\",\"type\":\"Grid\"},{\"attributes\":{\"line_alpha\":0.1,\"line_color\":\"purple\",\"line_width\":3,\"x\":{\"field\":\"x\"},\"y\":{\"field\":\"y\"}},\"id\":\"1077\",\"type\":\"Line\"},{\"attributes\":{\"source\":{\"id\":\"1022\"}},\"id\":\"1026\",\"type\":\"CDSView\"},{\"attributes\":{\"base\":60,\"mantissas\":[1,2,5,10,15,20,30],\"max_interval\":1800000.0,\"min_interval\":1000.0,\"num_minor_ticks\":0},\"id\":\"1033\",\"type\":\"AdaptiveTicker\"},{\"attributes\":{\"line_color\":\"purple\",\"line_width\":3,\"x\":{\"field\":\"x\"},\"y\":{\"field\":\"y\"}},\"id\":\"1076\",\"type\":\"Line\"},{\"attributes\":{\"data_source\":{\"id\":\"1075\"},\"glyph\":{\"id\":\"1076\"},\"hover_glyph\":null,\"muted_glyph\":null,\"nonselection_glyph\":{\"id\":\"1077\"},\"selection_glyph\":null,\"view\":{\"id\":\"1079\"}},\"id\":\"1078\",\"type\":\"GlyphRenderer\"},{\"attributes\":{\"items\":[{\"id\":\"1047\"},{\"id\":\"1074\"}],\"location\":\"top_left\"},\"id\":\"1046\",\"type\":\"Legend\"},{\"attributes\":{\"days\":[1,2,3,4,5,6,7,8,9,10,11,12,13,14,15,16,17,18,19,20,21,22,23,24,25,26,27,28,29,30,31]},\"id\":\"1035\",\"type\":\"DaysTicker\"},{\"attributes\":{\"data\":{\"x\":{\"__ndarray__\":\"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\",\"dtype\":\"float64\",\"order\":\"little\",\"shape\":[5158]},\"y\":{\"__ndarray__\":\"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\",\"dtype\":\"float64\",\"order\":\"little\",\"shape\":[5158]}},\"selected\":{\"id\":\"1105\"},\"selection_policy\":{\"id\":\"1104\"}},\"id\":\"1075\",\"type\":\"ColumnDataSource\"},{\"attributes\":{\"base\":24,\"mantissas\":[1,2,4,6,8,12],\"max_interval\":43200000.0,\"min_interval\":3600000.0,\"num_minor_ticks\":0},\"id\":\"1034\",\"type\":\"AdaptiveTicker\"},{\"attributes\":{\"callback\":null,\"formatters\":{\"adj close\":\"printf\"},\"mode\":\"vline\",\"tooltips\":[[\"close\",\"$@{y}\"]]},\"id\":\"1082\",\"type\":\"HoverTool\"},{\"attributes\":{\"label\":{\"value\":\"$143.16, 2021-01-26\"},\"renderers\":[{\"id\":\"1025\"}]},\"id\":\"1047\",\"type\":\"LegendItem\"},{\"attributes\":{\"months\":[0,1,2,3,4,5,6,7,8,9,10,11]},\"id\":\"1039\",\"type\":\"MonthsTicker\"},{\"attributes\":{\"months\":[0,2,4,6,8,10]},\"id\":\"1040\",\"type\":\"MonthsTicker\"},{\"attributes\":{\"days\":[1,4,7,10,13,16,19,22,25,28]},\"id\":\"1036\",\"type\":\"DaysTicker\"},{\"attributes\":{\"days\":[1,15]},\"id\":\"1038\",\"type\":\"DaysTicker\"},{\"attributes\":{\"active_drag\":\"auto\",\"active_inspect\":\"auto\",\"active_multi\":null,\"active_scroll\":\"auto\",\"active_tap\":\"auto\",\"tools\":[{\"id\":\"1082\"}]},\"id\":\"1021\",\"type\":\"Toolbar\"},{\"attributes\":{\"months\":[0,6]},\"id\":\"1042\",\"type\":\"MonthsTicker\"},{\"attributes\":{\"axis\":{\"id\":\"1017\"},\"dimension\":1,\"ticker\":null},\"id\":\"1020\",\"type\":\"Grid\"},{\"attributes\":{\"days\":[1,8,15,22]},\"id\":\"1037\",\"type\":\"DaysTicker\"}],\"root_ids\":[\"1002\"]},\"title\":\"Bokeh Application\",\"version\":\"2.1.1\"}};\n",
       "  var render_items = [{\"docid\":\"848fe5ac-1978-4648-b567-95eee99560bf\",\"notebook_comms_target\":\"1106\",\"root_ids\":[\"1002\"],\"roots\":{\"1002\":\"2ef7f991-2798-4900-b58f-03ecb7510b2f\"}}];\n",
       "  root.Bokeh.embed.embed_items_notebook(docs_json, render_items);\n",
       "\n",
       "  }\n",
       "  if (root.Bokeh !== undefined) {\n",
       "    embed_document(root);\n",
       "  } else {\n",
       "    var attempts = 0;\n",
       "    var timer = setInterval(function(root) {\n",
       "      if (root.Bokeh !== undefined) {\n",
       "        clearInterval(timer);\n",
       "        embed_document(root);\n",
       "      } else {\n",
       "        attempts++;\n",
       "        if (attempts > 100) {\n",
       "          clearInterval(timer);\n",
       "          console.log(\"Bokeh: ERROR: Unable to run BokehJS code because BokehJS library is missing\");\n",
       "        }\n",
       "      }\n",
       "    }, 10, root)\n",
       "  }\n",
       "})(window);"
      ],
      "application/vnd.bokehjs_exec.v0+json": ""
     },
     "metadata": {
      "application/vnd.bokehjs_exec.v0+json": {
       "id": "1002"
      }
     },
     "output_type": "display_data"
    },
    {
     "data": {
      "text/html": [
       "<p><code>&lt;Bokeh Notebook handle for <strong>In[11]</strong>&gt;</code></p>"
      ],
      "text/plain": [
       "<bokeh.io.notebook.CommsHandle at 0x149ca8483a0>"
      ]
     },
     "execution_count": 11,
     "metadata": {},
     "output_type": "execute_result"
    }
   ],
   "source": [
    "TOOLS = \"hover,save,pan,box_zoom,reset,wheel_zoom,tap\"\n",
    "#output_file(\"line_chart.html\", title=\"Line Chart\")\n",
    "p = figure(x_axis_type='datetime', y_axis_type=\"linear\",plot_height = 500,plot_width = 1000,tools=\"\",title=\"APPLE\")\n",
    "#p.title.text = \"APPLE\"\n",
    "graph(df_app,p)\n",
    "show( p , notebook_handle=True) "
   ]
  },
  {
   "cell_type": "markdown",
   "metadata": {},
   "source": [
    "###### 1. Apple time series from 2000-2020 plot.\n",
    "\n",
    "Apple stock has grown steadily since 1980. For this dataset, the minimum price was on 17th April, 2003 at 0.23 USD. The highest price was on 1st September 2020. On August 19th 2020, Apple became a 2 Trillion Dollar company. It took 42 years to reach 1 Trillion market cap on 2nd August 2018 and just over 24 months to reach 2 Trillion Dollar Market cap. iPhone got Apple to 1 Trillion and Services got Apple to 2 Trillion. In 2020, midst of pandemic, apple shares have increased by 50% in price. \n",
    "\n",
    "https://www.theverge.com/2020/8/19/21375223/apple-2-trillion-market-cap-first-us-company-stock-price"
   ]
  },
  {
   "cell_type": "code",
   "execution_count": 12,
   "metadata": {},
   "outputs": [],
   "source": [
    "df_app['Change']=df_app['High']-df_app['Low']\n",
    "df_app['C']=df_app['Open']-df_app['Close']"
   ]
  },
  {
   "cell_type": "code",
   "execution_count": 15,
   "metadata": {},
   "outputs": [
    {
     "data": {
      "text/html": [
       "\n",
       "\n",
       "\n",
       "\n",
       "\n",
       "\n",
       "  <div class=\"bk-root\" id=\"38a12336-f028-4bd8-b30b-f19ca1df4912\" data-root-id=\"2404\"></div>\n"
      ]
     },
     "metadata": {},
     "output_type": "display_data"
    },
    {
     "data": {
      "application/javascript": [
       "(function(root) {\n",
       "  function embed_document(root) {\n",
       "    \n",
       "  var docs_json = {\"b80e2c2e-3742-45df-82d8-b16d96227cae\":{\"roots\":{\"references\":[{\"attributes\":{\"below\":[{\"id\":\"2413\"}],\"center\":[{\"id\":\"2416\"},{\"id\":\"2420\"},{\"id\":\"2452\"}],\"left\":[{\"id\":\"2417\"}],\"plot_height\":500,\"plot_width\":1000,\"renderers\":[{\"id\":\"2430\"},{\"id\":\"2457\"},{\"id\":\"2485\"}],\"title\":{\"id\":\"2422\"},\"toolbar\":{\"id\":\"2421\"},\"x_range\":{\"id\":\"2405\"},\"x_scale\":{\"id\":\"2409\"},\"y_range\":{\"id\":\"2407\"},\"y_scale\":{\"id\":\"2411\"}},\"id\":\"2404\",\"subtype\":\"Figure\",\"type\":\"Plot\"},{\"attributes\":{\"data_source\":{\"id\":\"2427\"},\"glyph\":{\"id\":\"2428\"},\"hover_glyph\":null,\"muted_glyph\":null,\"nonselection_glyph\":{\"id\":\"2429\"},\"selection_glyph\":null,\"view\":{\"id\":\"2431\"}},\"id\":\"2430\",\"type\":\"GlyphRenderer\"},{\"attributes\":{\"days\":[1,15]},\"id\":\"2444\",\"type\":\"DaysTicker\"},{\"attributes\":{},\"id\":\"2409\",\"type\":\"LinearScale\"},{\"attributes\":{\"months\":[0,6]},\"id\":\"2448\",\"type\":\"MonthsTicker\"},{\"attributes\":{\"days\":[1,8,15,22]},\"id\":\"2443\",\"type\":\"DaysTicker\"},{\"attributes\":{},\"id\":\"2581\",\"type\":\"Selection\"},{\"attributes\":{},\"id\":\"2449\",\"type\":\"YearsTicker\"},{\"attributes\":{\"data\":{},\"selected\":{\"id\":\"2480\"},\"selection_policy\":{\"id\":\"2479\"}},\"id\":\"2454\",\"type\":\"ColumnDataSource\"},{\"attributes\":{\"months\":[0,4,8]},\"id\":\"2447\",\"type\":\"MonthsTicker\"},{\"attributes\":{\"items\":[{\"id\":\"2453\"},{\"id\":\"2481\"}],\"location\":\"top_left\"},\"id\":\"2452\",\"type\":\"Legend\"},{\"attributes\":{\"num_minor_ticks\":5,\"tickers\":[{\"id\":\"2438\"},{\"id\":\"2439\"},{\"id\":\"2440\"},{\"id\":\"2441\"},{\"id\":\"2442\"},{\"id\":\"2443\"},{\"id\":\"2444\"},{\"id\":\"2445\"},{\"id\":\"2446\"},{\"id\":\"2447\"},{\"id\":\"2448\"},{\"id\":\"2449\"}]},\"id\":\"2414\",\"type\":\"DatetimeTicker\"},{\"attributes\":{\"fill_alpha\":{\"value\":0.1},\"fill_color\":{\"value\":\"red\"},\"line_alpha\":{\"value\":0.1},\"line_color\":{\"value\":\"red\"},\"size\":{\"units\":\"screen\",\"value\":10},\"x\":{\"value\":1308528000000.0},\"y\":{\"value\":11.261428833007812}},\"id\":\"2456\",\"type\":\"Circle\"},{\"attributes\":{},\"id\":\"2479\",\"type\":\"UnionRenderers\"},{\"attributes\":{\"fill_color\":{\"value\":\"green\"},\"line_color\":{\"value\":\"green\"},\"size\":{\"units\":\"screen\",\"value\":10},\"x\":{\"value\":1611619200000.0},\"y\":{\"value\":143.16000366210938}},\"id\":\"2428\",\"type\":\"Circle\"},{\"attributes\":{},\"id\":\"2480\",\"type\":\"Selection\"},{\"attributes\":{},\"id\":\"2437\",\"type\":\"BasicTickFormatter\"},{\"attributes\":{\"axis_label\":\"Year\",\"formatter\":{\"id\":\"2487\"},\"minor_tick_in\":-6,\"ticker\":{\"id\":\"2414\"}},\"id\":\"2413\",\"type\":\"DatetimeAxis\"},{\"attributes\":{\"active_drag\":\"auto\",\"active_inspect\":\"auto\",\"active_multi\":null,\"active_scroll\":\"auto\",\"active_tap\":\"auto\",\"tools\":[{\"id\":\"2489\"}]},\"id\":\"2421\",\"type\":\"Toolbar\"},{\"attributes\":{\"label\":{\"value\":\"$11.26, 2011-06-20\"},\"renderers\":[{\"id\":\"2457\"}]},\"id\":\"2481\",\"type\":\"LegendItem\"},{\"attributes\":{},\"id\":\"2450\",\"type\":\"UnionRenderers\"},{\"attributes\":{},\"id\":\"2451\",\"type\":\"Selection\"},{\"attributes\":{},\"id\":\"2580\",\"type\":\"UnionRenderers\"},{\"attributes\":{\"label\":{\"value\":\"$143.16, 2021-01-26\"},\"renderers\":[{\"id\":\"2430\"}]},\"id\":\"2453\",\"type\":\"LegendItem\"},{\"attributes\":{\"fill_color\":{\"value\":\"red\"},\"line_color\":{\"value\":\"red\"},\"size\":{\"units\":\"screen\",\"value\":10},\"x\":{\"value\":1308528000000.0},\"y\":{\"value\":11.261428833007812}},\"id\":\"2455\",\"type\":\"Circle\"},{\"attributes\":{\"line_color\":\"purple\",\"line_width\":3,\"x\":{\"field\":\"x\"},\"y\":{\"field\":\"y\"}},\"id\":\"2483\",\"type\":\"Line\"},{\"attributes\":{\"align\":\"center\",\"text\":\"APPLE 2011-2020\",\"text_color\":{\"value\":\"black\"},\"text_font\":\"calibri\",\"text_font_size\":{\"value\":\"20px\"}},\"id\":\"2422\",\"type\":\"Title\"},{\"attributes\":{\"axis\":{\"id\":\"2417\"},\"dimension\":1,\"ticker\":null},\"id\":\"2420\",\"type\":\"Grid\"},{\"attributes\":{\"months\":[0,1,2,3,4,5,6,7,8,9,10,11]},\"id\":\"2445\",\"type\":\"MonthsTicker\"},{\"attributes\":{},\"id\":\"2411\",\"type\":\"LinearScale\"},{\"attributes\":{\"data_source\":{\"id\":\"2454\"},\"glyph\":{\"id\":\"2455\"},\"hover_glyph\":null,\"muted_glyph\":null,\"nonselection_glyph\":{\"id\":\"2456\"},\"selection_glyph\":null,\"view\":{\"id\":\"2458\"}},\"id\":\"2457\",\"type\":\"GlyphRenderer\"},{\"attributes\":{\"axis\":{\"id\":\"2413\"},\"ticker\":null},\"id\":\"2416\",\"type\":\"Grid\"},{\"attributes\":{\"source\":{\"id\":\"2482\"}},\"id\":\"2486\",\"type\":\"CDSView\"},{\"attributes\":{\"data\":{\"x\":{\"__ndarray__\":\"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\",\"dtype\":\"float64\",\"order\":\"little\",\"shape\":[2623]},\"y\":{\"__ndarray__\":\"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\",\"dtype\":\"float64\",\"order\":\"little\",\"shape\":[2623]}},\"selected\":{\"id\":\"2581\"},\"selection_policy\":{\"id\":\"2580\"}},\"id\":\"2482\",\"type\":\"ColumnDataSource\"},{\"attributes\":{\"days\":[\"%b %y\"],\"months\":[\"%b %y\"],\"years\":[\"%b %y\"]},\"id\":\"2487\",\"type\":\"DatetimeTickFormatter\"},{\"attributes\":{\"data_source\":{\"id\":\"2482\"},\"glyph\":{\"id\":\"2483\"},\"hover_glyph\":null,\"muted_glyph\":null,\"nonselection_glyph\":{\"id\":\"2484\"},\"selection_glyph\":null,\"view\":{\"id\":\"2486\"}},\"id\":\"2485\",\"type\":\"GlyphRenderer\"},{\"attributes\":{\"callback\":null,\"formatters\":{\"adj close\":\"printf\"},\"mode\":\"vline\",\"tooltips\":[[\"close\",\"$@{y}\"]]},\"id\":\"2489\",\"type\":\"HoverTool\"},{\"attributes\":{},\"id\":\"2418\",\"type\":\"BasicTicker\"},{\"attributes\":{\"line_alpha\":0.1,\"line_color\":\"purple\",\"line_width\":3,\"x\":{\"field\":\"x\"},\"y\":{\"field\":\"y\"}},\"id\":\"2484\",\"type\":\"Line\"},{\"attributes\":{\"data\":{},\"selected\":{\"id\":\"2451\"},\"selection_policy\":{\"id\":\"2450\"}},\"id\":\"2427\",\"type\":\"ColumnDataSource\"},{\"attributes\":{},\"id\":\"2407\",\"type\":\"DataRange1d\"},{\"attributes\":{\"mantissas\":[1,2,5],\"max_interval\":500.0,\"num_minor_ticks\":0},\"id\":\"2438\",\"type\":\"AdaptiveTicker\"},{\"attributes\":{\"fill_alpha\":{\"value\":0.1},\"fill_color\":{\"value\":\"green\"},\"line_alpha\":{\"value\":0.1},\"line_color\":{\"value\":\"green\"},\"size\":{\"units\":\"screen\",\"value\":10},\"x\":{\"value\":1611619200000.0},\"y\":{\"value\":143.16000366210938}},\"id\":\"2429\",\"type\":\"Circle\"},{\"attributes\":{\"base\":60,\"mantissas\":[1,2,5,10,15,20,30],\"max_interval\":1800000.0,\"min_interval\":1000.0,\"num_minor_ticks\":0},\"id\":\"2439\",\"type\":\"AdaptiveTicker\"},{\"attributes\":{\"source\":{\"id\":\"2427\"}},\"id\":\"2431\",\"type\":\"CDSView\"},{\"attributes\":{\"days\":[1,2,3,4,5,6,7,8,9,10,11,12,13,14,15,16,17,18,19,20,21,22,23,24,25,26,27,28,29,30,31]},\"id\":\"2441\",\"type\":\"DaysTicker\"},{\"attributes\":{},\"id\":\"2405\",\"type\":\"DataRange1d\"},{\"attributes\":{\"base\":24,\"mantissas\":[1,2,4,6,8,12],\"max_interval\":43200000.0,\"min_interval\":3600000.0,\"num_minor_ticks\":0},\"id\":\"2440\",\"type\":\"AdaptiveTicker\"},{\"attributes\":{\"axis_label\":\"Price\",\"formatter\":{\"id\":\"2437\"},\"major_label_orientation\":\"vertical\",\"ticker\":{\"id\":\"2418\"}},\"id\":\"2417\",\"type\":\"LinearAxis\"},{\"attributes\":{\"source\":{\"id\":\"2454\"}},\"id\":\"2458\",\"type\":\"CDSView\"},{\"attributes\":{\"months\":[0,2,4,6,8,10]},\"id\":\"2446\",\"type\":\"MonthsTicker\"},{\"attributes\":{\"days\":[1,4,7,10,13,16,19,22,25,28]},\"id\":\"2442\",\"type\":\"DaysTicker\"}],\"root_ids\":[\"2404\"]},\"title\":\"Bokeh Application\",\"version\":\"2.1.1\"}};\n",
       "  var render_items = [{\"docid\":\"b80e2c2e-3742-45df-82d8-b16d96227cae\",\"notebook_comms_target\":\"2582\",\"root_ids\":[\"2404\"],\"roots\":{\"2404\":\"38a12336-f028-4bd8-b30b-f19ca1df4912\"}}];\n",
       "  root.Bokeh.embed.embed_items_notebook(docs_json, render_items);\n",
       "\n",
       "  }\n",
       "  if (root.Bokeh !== undefined) {\n",
       "    embed_document(root);\n",
       "  } else {\n",
       "    var attempts = 0;\n",
       "    var timer = setInterval(function(root) {\n",
       "      if (root.Bokeh !== undefined) {\n",
       "        clearInterval(timer);\n",
       "        embed_document(root);\n",
       "      } else {\n",
       "        attempts++;\n",
       "        if (attempts > 100) {\n",
       "          clearInterval(timer);\n",
       "          console.log(\"Bokeh: ERROR: Unable to run BokehJS code because BokehJS library is missing\");\n",
       "        }\n",
       "      }\n",
       "    }, 10, root)\n",
       "  }\n",
       "})(window);"
      ],
      "application/vnd.bokehjs_exec.v0+json": ""
     },
     "metadata": {
      "application/vnd.bokehjs_exec.v0+json": {
       "id": "2404"
      }
     },
     "output_type": "display_data"
    },
    {
     "data": {
      "text/html": [
       "<p><code>&lt;Bokeh Notebook handle for <strong>In[15]</strong>&gt;</code></p>"
      ],
      "text/plain": [
       "<bokeh.io.notebook.CommsHandle at 0x149cbb27ca0>"
      ]
     },
     "execution_count": 15,
     "metadata": {},
     "output_type": "execute_result"
    }
   ],
   "source": [
    "df_1120=df_app[(df_app['Date']>\"2010-12-31\")]\n",
    "output_file(\"APPLE_2011_2020.html\", title=\"APPLE 2011-2012\")\n",
    "p = figure(x_axis_type='datetime', y_axis_type=\"linear\",plot_height = 500,plot_width = 1000,tools=\"\")\n",
    "p.title.text = \"APPLE 2011-2020\"\n",
    "graph(df_1120,p)\n",
    "show( p , notebook_handle=True) "
   ]
  },
  {
   "cell_type": "markdown",
   "metadata": {},
   "source": [
    "Apple makes announcement of new devices in September and the product release in October.\n",
    "iphone 5\t21-09-2012,\n",
    "iphone 6\t2014-09-09,\n",
    "iphone 6s\t25-09-2015,\n",
    "iphone 7\t16-09-2016,\n",
    "iphone 8\t22-09-2017,\n",
    "iphone xr\t26-10-2018,\n",
    "iphone 11\t20-09-2019\n",
    "\n",
    "Its worth noting if the stock price varies with the announcement or release of new products/updates. Recently political, signing new deal and other factors have more impact that Apples product announcements. "
   ]
  },
  {
   "cell_type": "markdown",
   "metadata": {},
   "source": [
    "### Apple Yearly Analysis"
   ]
  },
  {
   "cell_type": "code",
   "execution_count": 14,
   "metadata": {},
   "outputs": [
    {
     "data": {
      "text/html": [
       "\n",
       "\n",
       "\n",
       "\n",
       "\n",
       "\n",
       "  <div class=\"bk-root\" id=\"f81fdbb0-672e-400b-833a-560ad835b189\" data-root-id=\"1810\"></div>\n"
      ]
     },
     "metadata": {},
     "output_type": "display_data"
    },
    {
     "data": {
      "application/javascript": [
       "(function(root) {\n",
       "  function embed_document(root) {\n",
       "    \n",
       "  var docs_json = {\"c8293a00-d33c-47de-83da-1ca4299cb6f7\":{\"roots\":{\"references\":[{\"attributes\":{\"below\":[{\"id\":\"1819\"}],\"center\":[{\"id\":\"1822\"},{\"id\":\"1826\"},{\"id\":\"1858\"}],\"left\":[{\"id\":\"1823\"}],\"plot_height\":500,\"plot_width\":1000,\"renderers\":[{\"id\":\"1836\"},{\"id\":\"1863\"},{\"id\":\"1891\"}],\"title\":{\"id\":\"1828\"},\"toolbar\":{\"id\":\"1827\"},\"x_range\":{\"id\":\"1811\"},\"x_scale\":{\"id\":\"1815\"},\"y_range\":{\"id\":\"1813\"},\"y_scale\":{\"id\":\"1817\"}},\"id\":\"1810\",\"subtype\":\"Figure\",\"type\":\"Plot\"},{\"attributes\":{\"label\":{\"value\":\"$15.08, 2011-10-18\"},\"renderers\":[{\"id\":\"1836\"}]},\"id\":\"1859\",\"type\":\"LegendItem\"},{\"attributes\":{\"axis_label\":\"Year\",\"formatter\":{\"id\":\"1893\"},\"minor_tick_in\":-6,\"ticker\":{\"id\":\"1820\"}},\"id\":\"1819\",\"type\":\"DatetimeAxis\"},{\"attributes\":{},\"id\":\"1811\",\"type\":\"DataRange1d\"},{\"attributes\":{\"num_minor_ticks\":5,\"tickers\":[{\"id\":\"1844\"},{\"id\":\"1845\"},{\"id\":\"1846\"},{\"id\":\"1847\"},{\"id\":\"1848\"},{\"id\":\"1849\"},{\"id\":\"1850\"},{\"id\":\"1851\"},{\"id\":\"1852\"},{\"id\":\"1853\"},{\"id\":\"1854\"},{\"id\":\"1855\"}]},\"id\":\"1820\",\"type\":\"DatetimeTicker\"},{\"attributes\":{\"fill_alpha\":{\"value\":0.1},\"fill_color\":{\"value\":\"green\"},\"line_alpha\":{\"value\":0.1},\"line_color\":{\"value\":\"green\"},\"size\":{\"units\":\"screen\",\"value\":10},\"x\":{\"value\":1318896000000.0},\"y\":{\"value\":15.079999923706055}},\"id\":\"1835\",\"type\":\"Circle\"},{\"attributes\":{\"fill_color\":{\"value\":\"red\"},\"line_color\":{\"value\":\"red\"},\"size\":{\"units\":\"screen\",\"value\":10},\"x\":{\"value\":1308528000000.0},\"y\":{\"value\":11.261428833007812}},\"id\":\"1861\",\"type\":\"Circle\"},{\"attributes\":{\"mantissas\":[1,2,5],\"max_interval\":500.0,\"num_minor_ticks\":0},\"id\":\"1844\",\"type\":\"AdaptiveTicker\"},{\"attributes\":{\"base\":60,\"mantissas\":[1,2,5,10,15,20,30],\"max_interval\":1800000.0,\"min_interval\":1000.0,\"num_minor_ticks\":0},\"id\":\"1845\",\"type\":\"AdaptiveTicker\"},{\"attributes\":{\"days\":[1,2,3,4,5,6,7,8,9,10,11,12,13,14,15,16,17,18,19,20,21,22,23,24,25,26,27,28,29,30,31]},\"id\":\"1847\",\"type\":\"DaysTicker\"},{\"attributes\":{\"items\":[{\"id\":\"1859\"},{\"id\":\"1887\"}],\"location\":\"top_left\"},\"id\":\"1858\",\"type\":\"Legend\"},{\"attributes\":{\"source\":{\"id\":\"1860\"}},\"id\":\"1864\",\"type\":\"CDSView\"},{\"attributes\":{},\"id\":\"1824\",\"type\":\"BasicTicker\"},{\"attributes\":{\"data\":{},\"selected\":{\"id\":\"1886\"},\"selection_policy\":{\"id\":\"1885\"}},\"id\":\"1860\",\"type\":\"ColumnDataSource\"},{\"attributes\":{\"base\":24,\"mantissas\":[1,2,4,6,8,12],\"max_interval\":43200000.0,\"min_interval\":3600000.0,\"num_minor_ticks\":0},\"id\":\"1846\",\"type\":\"AdaptiveTicker\"},{\"attributes\":{},\"id\":\"1813\",\"type\":\"DataRange1d\"},{\"attributes\":{\"fill_alpha\":{\"value\":0.1},\"fill_color\":{\"value\":\"red\"},\"line_alpha\":{\"value\":0.1},\"line_color\":{\"value\":\"red\"},\"size\":{\"units\":\"screen\",\"value\":10},\"x\":{\"value\":1308528000000.0},\"y\":{\"value\":11.261428833007812}},\"id\":\"1862\",\"type\":\"Circle\"},{\"attributes\":{\"axis\":{\"id\":\"1819\"},\"ticker\":null},\"id\":\"1822\",\"type\":\"Grid\"},{\"attributes\":{\"data_source\":{\"id\":\"1860\"},\"glyph\":{\"id\":\"1861\"},\"hover_glyph\":null,\"muted_glyph\":null,\"nonselection_glyph\":{\"id\":\"1862\"},\"selection_glyph\":null,\"view\":{\"id\":\"1864\"}},\"id\":\"1863\",\"type\":\"GlyphRenderer\"},{\"attributes\":{\"align\":\"center\",\"text\":\"APPLE 2011\",\"text_color\":{\"value\":\"black\"},\"text_font\":\"calibri\",\"text_font_size\":{\"value\":\"20px\"}},\"id\":\"1828\",\"type\":\"Title\"},{\"attributes\":{},\"id\":\"1815\",\"type\":\"LinearScale\"},{\"attributes\":{\"label\":{\"value\":\"$11.26, 2011-06-20\"},\"renderers\":[{\"id\":\"1863\"}]},\"id\":\"1887\",\"type\":\"LegendItem\"},{\"attributes\":{\"days\":[1,4,7,10,13,16,19,22,25,28]},\"id\":\"1848\",\"type\":\"DaysTicker\"},{\"attributes\":{\"axis_label\":\"Price\",\"formatter\":{\"id\":\"1843\"},\"major_label_orientation\":\"vertical\",\"ticker\":{\"id\":\"1824\"}},\"id\":\"1823\",\"type\":\"LinearAxis\"},{\"attributes\":{},\"id\":\"1856\",\"type\":\"UnionRenderers\"},{\"attributes\":{},\"id\":\"1857\",\"type\":\"Selection\"},{\"attributes\":{\"days\":[1,8,15,22]},\"id\":\"1849\",\"type\":\"DaysTicker\"},{\"attributes\":{},\"id\":\"1963\",\"type\":\"UnionRenderers\"},{\"attributes\":{},\"id\":\"1817\",\"type\":\"LinearScale\"},{\"attributes\":{\"axis\":{\"id\":\"1823\"},\"dimension\":1,\"ticker\":null},\"id\":\"1826\",\"type\":\"Grid\"},{\"attributes\":{\"months\":[0,6]},\"id\":\"1854\",\"type\":\"MonthsTicker\"},{\"attributes\":{},\"id\":\"1885\",\"type\":\"UnionRenderers\"},{\"attributes\":{\"active_drag\":\"auto\",\"active_inspect\":\"auto\",\"active_multi\":null,\"active_scroll\":\"auto\",\"active_tap\":\"auto\",\"tools\":[{\"id\":\"1895\"}]},\"id\":\"1827\",\"type\":\"Toolbar\"},{\"attributes\":{\"data\":{},\"selected\":{\"id\":\"1857\"},\"selection_policy\":{\"id\":\"1856\"}},\"id\":\"1833\",\"type\":\"ColumnDataSource\"},{\"attributes\":{},\"id\":\"1964\",\"type\":\"Selection\"},{\"attributes\":{},\"id\":\"1843\",\"type\":\"BasicTickFormatter\"},{\"attributes\":{},\"id\":\"1886\",\"type\":\"Selection\"},{\"attributes\":{\"fill_color\":{\"value\":\"green\"},\"line_color\":{\"value\":\"green\"},\"size\":{\"units\":\"screen\",\"value\":10},\"x\":{\"value\":1318896000000.0},\"y\":{\"value\":15.079999923706055}},\"id\":\"1834\",\"type\":\"Circle\"},{\"attributes\":{\"months\":[0,1,2,3,4,5,6,7,8,9,10,11]},\"id\":\"1851\",\"type\":\"MonthsTicker\"},{\"attributes\":{\"months\":[0,4,8]},\"id\":\"1853\",\"type\":\"MonthsTicker\"},{\"attributes\":{\"data_source\":{\"id\":\"1833\"},\"glyph\":{\"id\":\"1834\"},\"hover_glyph\":null,\"muted_glyph\":null,\"nonselection_glyph\":{\"id\":\"1835\"},\"selection_glyph\":null,\"view\":{\"id\":\"1837\"}},\"id\":\"1836\",\"type\":\"GlyphRenderer\"},{\"attributes\":{\"days\":[\"%b %y\"],\"months\":[\"%b %y\"],\"years\":[\"%b %y\"]},\"id\":\"1893\",\"type\":\"DatetimeTickFormatter\"},{\"attributes\":{},\"id\":\"1855\",\"type\":\"YearsTicker\"},{\"attributes\":{\"line_alpha\":0.1,\"line_color\":\"purple\",\"line_width\":3,\"x\":{\"field\":\"x\"},\"y\":{\"field\":\"y\"}},\"id\":\"1890\",\"type\":\"Line\"},{\"attributes\":{\"months\":[0,2,4,6,8,10]},\"id\":\"1852\",\"type\":\"MonthsTicker\"},{\"attributes\":{\"callback\":null,\"formatters\":{\"adj close\":\"printf\"},\"mode\":\"vline\",\"tooltips\":[[\"close\",\"$@{y}\"]]},\"id\":\"1895\",\"type\":\"HoverTool\"},{\"attributes\":{\"days\":[1,15]},\"id\":\"1850\",\"type\":\"DaysTicker\"},{\"attributes\":{\"source\":{\"id\":\"1888\"}},\"id\":\"1892\",\"type\":\"CDSView\"},{\"attributes\":{\"line_color\":\"purple\",\"line_width\":3,\"x\":{\"field\":\"x\"},\"y\":{\"field\":\"y\"}},\"id\":\"1889\",\"type\":\"Line\"},{\"attributes\":{\"data_source\":{\"id\":\"1888\"},\"glyph\":{\"id\":\"1889\"},\"hover_glyph\":null,\"muted_glyph\":null,\"nonselection_glyph\":{\"id\":\"1890\"},\"selection_glyph\":null,\"view\":{\"id\":\"1892\"}},\"id\":\"1891\",\"type\":\"GlyphRenderer\"},{\"attributes\":{\"data\":{\"x\":{\"__ndarray__\":\"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\",\"dtype\":\"float64\",\"order\":\"little\",\"shape\":[252]},\"y\":{\"__ndarray__\":\"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\",\"dtype\":\"float64\",\"order\":\"little\",\"shape\":[252]}},\"selected\":{\"id\":\"1964\"},\"selection_policy\":{\"id\":\"1963\"}},\"id\":\"1888\",\"type\":\"ColumnDataSource\"},{\"attributes\":{\"source\":{\"id\":\"1833\"}},\"id\":\"1837\",\"type\":\"CDSView\"}],\"root_ids\":[\"1810\"]},\"title\":\"Bokeh Application\",\"version\":\"2.1.1\"}};\n",
       "  var render_items = [{\"docid\":\"c8293a00-d33c-47de-83da-1ca4299cb6f7\",\"notebook_comms_target\":\"1965\",\"root_ids\":[\"1810\"],\"roots\":{\"1810\":\"f81fdbb0-672e-400b-833a-560ad835b189\"}}];\n",
       "  root.Bokeh.embed.embed_items_notebook(docs_json, render_items);\n",
       "\n",
       "  }\n",
       "  if (root.Bokeh !== undefined) {\n",
       "    embed_document(root);\n",
       "  } else {\n",
       "    var attempts = 0;\n",
       "    var timer = setInterval(function(root) {\n",
       "      if (root.Bokeh !== undefined) {\n",
       "        clearInterval(timer);\n",
       "        embed_document(root);\n",
       "      } else {\n",
       "        attempts++;\n",
       "        if (attempts > 100) {\n",
       "          clearInterval(timer);\n",
       "          console.log(\"Bokeh: ERROR: Unable to run BokehJS code because BokehJS library is missing\");\n",
       "        }\n",
       "      }\n",
       "    }, 10, root)\n",
       "  }\n",
       "})(window);"
      ],
      "application/vnd.bokehjs_exec.v0+json": ""
     },
     "metadata": {
      "application/vnd.bokehjs_exec.v0+json": {
       "id": "1810"
      }
     },
     "output_type": "display_data"
    },
    {
     "data": {
      "text/html": [
       "<p><code>&lt;Bokeh Notebook handle for <strong>In[14]</strong>&gt;</code></p>"
      ],
      "text/plain": [
       "<bokeh.io.notebook.CommsHandle at 0x149ca79f6d0>"
      ]
     },
     "execution_count": 14,
     "metadata": {},
     "output_type": "execute_result"
    }
   ],
   "source": [
    "df_2011=df_app[(df_app['Date']>\"2010-12-31\") & (df_app['Date']<\"2012-01-01\")]\n",
    "output_file(\"APPLE_2011.html\", title=\"APPLE 2011\")\n",
    "p = figure(x_axis_type='datetime', y_axis_type=\"linear\",plot_height = 500,plot_width = 1000,tools=\"\")\n",
    "p.title.text = \"APPLE 2011\"\n",
    "graph(df_2011,p)\n",
    "show( p , notebook_handle=True) "
   ]
  },
  {
   "cell_type": "markdown",
   "metadata": {},
   "source": [
    "On 5th October 2011, Steve Jobs passed away making Timm Cook the CEO. The stock price has increased since early 2000s. In October 2011, iPhone 4s was released. October 14th the product was released, 4 million units were sold, double the sales of iphone 4. This led to increase in share price towards end of October.\n",
    "\n",
    "https://techcrunch.com/2011/12/30/apple-2011/"
   ]
  },
  {
   "cell_type": "code",
   "execution_count": 16,
   "metadata": {},
   "outputs": [
    {
     "data": {
      "text/html": [
       "\n",
       "\n",
       "\n",
       "\n",
       "\n",
       "\n",
       "  <div class=\"bk-root\" id=\"62353749-0d3b-4b53-a711-8f60b5107775\" data-root-id=\"3021\"></div>\n"
      ]
     },
     "metadata": {},
     "output_type": "display_data"
    },
    {
     "data": {
      "application/javascript": [
       "(function(root) {\n",
       "  function embed_document(root) {\n",
       "    \n",
       "  var docs_json = {\"fd4f0ca3-31f6-42fc-a324-0001d9395a2f\":{\"roots\":{\"references\":[{\"attributes\":{\"below\":[{\"id\":\"3030\"}],\"center\":[{\"id\":\"3033\"},{\"id\":\"3037\"},{\"id\":\"3069\"}],\"left\":[{\"id\":\"3034\"}],\"plot_height\":500,\"plot_width\":1000,\"renderers\":[{\"id\":\"3047\"},{\"id\":\"3074\"},{\"id\":\"3102\"}],\"title\":{\"id\":\"3039\"},\"toolbar\":{\"id\":\"3038\"},\"x_range\":{\"id\":\"3022\"},\"x_scale\":{\"id\":\"3026\"},\"y_range\":{\"id\":\"3024\"},\"y_scale\":{\"id\":\"3028\"}},\"id\":\"3021\",\"subtype\":\"Figure\",\"type\":\"Plot\"},{\"attributes\":{},\"id\":\"3024\",\"type\":\"DataRange1d\"},{\"attributes\":{\"days\":[1,8,15,22]},\"id\":\"3060\",\"type\":\"DaysTicker\"},{\"attributes\":{\"source\":{\"id\":\"3044\"}},\"id\":\"3048\",\"type\":\"CDSView\"},{\"attributes\":{},\"id\":\"3022\",\"type\":\"DataRange1d\"},{\"attributes\":{\"align\":\"center\",\"text\":\"APPLE 2012\",\"text_color\":{\"value\":\"black\"},\"text_font\":\"calibri\",\"text_font_size\":{\"value\":\"20px\"}},\"id\":\"3039\",\"type\":\"Title\"},{\"attributes\":{},\"id\":\"3221\",\"type\":\"Selection\"},{\"attributes\":{\"data\":{},\"selected\":{\"id\":\"3068\"},\"selection_policy\":{\"id\":\"3067\"}},\"id\":\"3044\",\"type\":\"ColumnDataSource\"},{\"attributes\":{},\"id\":\"3028\",\"type\":\"LinearScale\"},{\"attributes\":{\"fill_color\":{\"value\":\"red\"},\"line_color\":{\"value\":\"red\"},\"size\":{\"units\":\"screen\",\"value\":10},\"x\":{\"value\":1325548800000.0},\"y\":{\"value\":14.686785697937012}},\"id\":\"3072\",\"type\":\"Circle\"},{\"attributes\":{\"mantissas\":[1,2,5],\"max_interval\":500.0,\"num_minor_ticks\":0},\"id\":\"3055\",\"type\":\"AdaptiveTicker\"},{\"attributes\":{\"fill_alpha\":{\"value\":0.1},\"fill_color\":{\"value\":\"green\"},\"line_alpha\":{\"value\":0.1},\"line_color\":{\"value\":\"green\"},\"size\":{\"units\":\"screen\",\"value\":10},\"x\":{\"value\":1348012800000.0},\"y\":{\"value\":25.075000762939453}},\"id\":\"3046\",\"type\":\"Circle\"},{\"attributes\":{\"source\":{\"id\":\"3071\"}},\"id\":\"3075\",\"type\":\"CDSView\"},{\"attributes\":{\"axis_label\":\"Year\",\"formatter\":{\"id\":\"3104\"},\"minor_tick_in\":-6,\"ticker\":{\"id\":\"3031\"}},\"id\":\"3030\",\"type\":\"DatetimeAxis\"},{\"attributes\":{\"base\":60,\"mantissas\":[1,2,5,10,15,20,30],\"max_interval\":1800000.0,\"min_interval\":1000.0,\"num_minor_ticks\":0},\"id\":\"3056\",\"type\":\"AdaptiveTicker\"},{\"attributes\":{\"axis_label\":\"Price\",\"formatter\":{\"id\":\"3054\"},\"major_label_orientation\":\"vertical\",\"ticker\":{\"id\":\"3035\"}},\"id\":\"3034\",\"type\":\"LinearAxis\"},{\"attributes\":{\"data\":{},\"selected\":{\"id\":\"3097\"},\"selection_policy\":{\"id\":\"3096\"}},\"id\":\"3071\",\"type\":\"ColumnDataSource\"},{\"attributes\":{\"label\":{\"value\":\"$25.08, 2012-09-19\"},\"renderers\":[{\"id\":\"3047\"}]},\"id\":\"3070\",\"type\":\"LegendItem\"},{\"attributes\":{\"base\":24,\"mantissas\":[1,2,4,6,8,12],\"max_interval\":43200000.0,\"min_interval\":3600000.0,\"num_minor_ticks\":0},\"id\":\"3057\",\"type\":\"AdaptiveTicker\"},{\"attributes\":{\"fill_alpha\":{\"value\":0.1},\"fill_color\":{\"value\":\"red\"},\"line_alpha\":{\"value\":0.1},\"line_color\":{\"value\":\"red\"},\"size\":{\"units\":\"screen\",\"value\":10},\"x\":{\"value\":1325548800000.0},\"y\":{\"value\":14.686785697937012}},\"id\":\"3073\",\"type\":\"Circle\"},{\"attributes\":{\"days\":[1,2,3,4,5,6,7,8,9,10,11,12,13,14,15,16,17,18,19,20,21,22,23,24,25,26,27,28,29,30,31]},\"id\":\"3058\",\"type\":\"DaysTicker\"},{\"attributes\":{},\"id\":\"3026\",\"type\":\"LinearScale\"},{\"attributes\":{\"items\":[{\"id\":\"3070\"},{\"id\":\"3098\"}],\"location\":\"top_left\"},\"id\":\"3069\",\"type\":\"Legend\"},{\"attributes\":{},\"id\":\"3220\",\"type\":\"UnionRenderers\"},{\"attributes\":{\"axis\":{\"id\":\"3030\"},\"ticker\":null},\"id\":\"3033\",\"type\":\"Grid\"},{\"attributes\":{\"data_source\":{\"id\":\"3044\"},\"glyph\":{\"id\":\"3045\"},\"hover_glyph\":null,\"muted_glyph\":null,\"nonselection_glyph\":{\"id\":\"3046\"},\"selection_glyph\":null,\"view\":{\"id\":\"3048\"}},\"id\":\"3047\",\"type\":\"GlyphRenderer\"},{\"attributes\":{\"data_source\":{\"id\":\"3071\"},\"glyph\":{\"id\":\"3072\"},\"hover_glyph\":null,\"muted_glyph\":null,\"nonselection_glyph\":{\"id\":\"3073\"},\"selection_glyph\":null,\"view\":{\"id\":\"3075\"}},\"id\":\"3074\",\"type\":\"GlyphRenderer\"},{\"attributes\":{\"num_minor_ticks\":5,\"tickers\":[{\"id\":\"3055\"},{\"id\":\"3056\"},{\"id\":\"3057\"},{\"id\":\"3058\"},{\"id\":\"3059\"},{\"id\":\"3060\"},{\"id\":\"3061\"},{\"id\":\"3062\"},{\"id\":\"3063\"},{\"id\":\"3064\"},{\"id\":\"3065\"},{\"id\":\"3066\"}]},\"id\":\"3031\",\"type\":\"DatetimeTicker\"},{\"attributes\":{\"label\":{\"value\":\"$14.69, 2012-01-03\"},\"renderers\":[{\"id\":\"3074\"}]},\"id\":\"3098\",\"type\":\"LegendItem\"},{\"attributes\":{},\"id\":\"3067\",\"type\":\"UnionRenderers\"},{\"attributes\":{},\"id\":\"3068\",\"type\":\"Selection\"},{\"attributes\":{\"axis\":{\"id\":\"3034\"},\"dimension\":1,\"ticker\":null},\"id\":\"3037\",\"type\":\"Grid\"},{\"attributes\":{\"months\":[0,6]},\"id\":\"3065\",\"type\":\"MonthsTicker\"},{\"attributes\":{\"callback\":null,\"formatters\":{\"adj close\":\"printf\"},\"mode\":\"vline\",\"tooltips\":[[\"close\",\"$@{y}\"]]},\"id\":\"3106\",\"type\":\"HoverTool\"},{\"attributes\":{\"active_drag\":\"auto\",\"active_inspect\":\"auto\",\"active_multi\":null,\"active_scroll\":\"auto\",\"active_tap\":\"auto\",\"tools\":[{\"id\":\"3106\"}]},\"id\":\"3038\",\"type\":\"Toolbar\"},{\"attributes\":{},\"id\":\"3035\",\"type\":\"BasicTicker\"},{\"attributes\":{},\"id\":\"3096\",\"type\":\"UnionRenderers\"},{\"attributes\":{\"months\":[0,2,4,6,8,10]},\"id\":\"3063\",\"type\":\"MonthsTicker\"},{\"attributes\":{},\"id\":\"3097\",\"type\":\"Selection\"},{\"attributes\":{\"days\":[1,4,7,10,13,16,19,22,25,28]},\"id\":\"3059\",\"type\":\"DaysTicker\"},{\"attributes\":{},\"id\":\"3054\",\"type\":\"BasicTickFormatter\"},{\"attributes\":{\"months\":[0,4,8]},\"id\":\"3064\",\"type\":\"MonthsTicker\"},{\"attributes\":{},\"id\":\"3066\",\"type\":\"YearsTicker\"},{\"attributes\":{\"days\":[1,15]},\"id\":\"3061\",\"type\":\"DaysTicker\"},{\"attributes\":{\"months\":[0,1,2,3,4,5,6,7,8,9,10,11]},\"id\":\"3062\",\"type\":\"MonthsTicker\"},{\"attributes\":{\"line_alpha\":0.1,\"line_color\":\"purple\",\"line_width\":3,\"x\":{\"field\":\"x\"},\"y\":{\"field\":\"y\"}},\"id\":\"3101\",\"type\":\"Line\"},{\"attributes\":{\"days\":[\"%b %y\"],\"months\":[\"%b %y\"],\"years\":[\"%b %y\"]},\"id\":\"3104\",\"type\":\"DatetimeTickFormatter\"},{\"attributes\":{\"line_color\":\"purple\",\"line_width\":3,\"x\":{\"field\":\"x\"},\"y\":{\"field\":\"y\"}},\"id\":\"3100\",\"type\":\"Line\"},{\"attributes\":{\"source\":{\"id\":\"3099\"}},\"id\":\"3103\",\"type\":\"CDSView\"},{\"attributes\":{\"data_source\":{\"id\":\"3099\"},\"glyph\":{\"id\":\"3100\"},\"hover_glyph\":null,\"muted_glyph\":null,\"nonselection_glyph\":{\"id\":\"3101\"},\"selection_glyph\":null,\"view\":{\"id\":\"3103\"}},\"id\":\"3102\",\"type\":\"GlyphRenderer\"},{\"attributes\":{\"data\":{\"x\":{\"__ndarray__\":\"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\",\"dtype\":\"float64\",\"order\":\"little\",\"shape\":[250]},\"y\":{\"__ndarray__\":\"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\",\"dtype\":\"float64\",\"order\":\"little\",\"shape\":[250]}},\"selected\":{\"id\":\"3221\"},\"selection_policy\":{\"id\":\"3220\"}},\"id\":\"3099\",\"type\":\"ColumnDataSource\"},{\"attributes\":{\"fill_color\":{\"value\":\"green\"},\"line_color\":{\"value\":\"green\"},\"size\":{\"units\":\"screen\",\"value\":10},\"x\":{\"value\":1348012800000.0},\"y\":{\"value\":25.075000762939453}},\"id\":\"3045\",\"type\":\"Circle\"}],\"root_ids\":[\"3021\"]},\"title\":\"Bokeh Application\",\"version\":\"2.1.1\"}};\n",
       "  var render_items = [{\"docid\":\"fd4f0ca3-31f6-42fc-a324-0001d9395a2f\",\"notebook_comms_target\":\"3222\",\"root_ids\":[\"3021\"],\"roots\":{\"3021\":\"62353749-0d3b-4b53-a711-8f60b5107775\"}}];\n",
       "  root.Bokeh.embed.embed_items_notebook(docs_json, render_items);\n",
       "\n",
       "  }\n",
       "  if (root.Bokeh !== undefined) {\n",
       "    embed_document(root);\n",
       "  } else {\n",
       "    var attempts = 0;\n",
       "    var timer = setInterval(function(root) {\n",
       "      if (root.Bokeh !== undefined) {\n",
       "        clearInterval(timer);\n",
       "        embed_document(root);\n",
       "      } else {\n",
       "        attempts++;\n",
       "        if (attempts > 100) {\n",
       "          clearInterval(timer);\n",
       "          console.log(\"Bokeh: ERROR: Unable to run BokehJS code because BokehJS library is missing\");\n",
       "        }\n",
       "      }\n",
       "    }, 10, root)\n",
       "  }\n",
       "})(window);"
      ],
      "application/vnd.bokehjs_exec.v0+json": ""
     },
     "metadata": {
      "application/vnd.bokehjs_exec.v0+json": {
       "id": "3021"
      }
     },
     "output_type": "display_data"
    },
    {
     "data": {
      "text/html": [
       "<p><code>&lt;Bokeh Notebook handle for <strong>In[16]</strong>&gt;</code></p>"
      ],
      "text/plain": [
       "<bokeh.io.notebook.CommsHandle at 0x149cbb6c6d0>"
      ]
     },
     "execution_count": 16,
     "metadata": {},
     "output_type": "execute_result"
    }
   ],
   "source": [
    "sub_2012=df_app[(df_app['Date']>\"2011-12-31\") & (df_app['Date']<\"2013-01-01\")]\n",
    "output_file(\"APPLE_2012.html\", title=\"APPLE 2012\")\n",
    "p = figure(x_axis_type='datetime', y_axis_type=\"linear\",plot_height = 500,plot_width = 1000,tools=\"\")\n",
    "p.title.text = \"APPLE 2012\"\n",
    "graph(sub_2012,p)\n",
    "show( p , notebook_handle=True) "
   ]
  },
  {
   "cell_type": "markdown",
   "metadata": {},
   "source": [
    "March 5, 2012—Apple  announced that more than 25 billion apps have been downloaded from its revolutionary App Store by the users of the more than 315 million iPhone, iPad and iPod touch devices worldwide. \n",
    "\n",
    "\n",
    "https://www.apple.com/in/newsroom/2012/03/05Apples-App-Store-Downloads-Top-25-Billion/\n",
    "\n",
    "On March 7th Apple Brings 1080p High Definition to New Apple TV, launched new iPad.Since its launch, iPad announced it had sold 3 million units. In June it announced MacBook Pro with Retina display.\n",
    "Apple Release IOS 6 on 19th September 2012. The stock was highest for that year at $25.08 on that day. It also announced iPhone 5, iPod touch and iPod Nano in September. iPhone 5 sales in the first weekend was 5 million units. Apple products sold 2 millions units of iPhone 5 in China in December."
   ]
  },
  {
   "cell_type": "code",
   "execution_count": 17,
   "metadata": {},
   "outputs": [
    {
     "data": {
      "text/html": [
       "\n",
       "\n",
       "\n",
       "\n",
       "\n",
       "\n",
       "  <div class=\"bk-root\" id=\"64de86c5-d990-434a-b817-4097a88252a6\" data-root-id=\"3661\"></div>\n"
      ]
     },
     "metadata": {},
     "output_type": "display_data"
    },
    {
     "data": {
      "application/javascript": [
       "(function(root) {\n",
       "  function embed_document(root) {\n",
       "    \n",
       "  var docs_json = {\"112ea9ce-e5da-488c-921a-af428b077f63\":{\"roots\":{\"references\":[{\"attributes\":{\"below\":[{\"id\":\"3670\"}],\"center\":[{\"id\":\"3673\"},{\"id\":\"3677\"},{\"id\":\"3709\"}],\"left\":[{\"id\":\"3674\"}],\"plot_height\":500,\"plot_width\":1000,\"renderers\":[{\"id\":\"3687\"},{\"id\":\"3714\"},{\"id\":\"3742\"}],\"title\":{\"id\":\"3679\"},\"toolbar\":{\"id\":\"3678\"},\"x_range\":{\"id\":\"3662\"},\"x_scale\":{\"id\":\"3666\"},\"y_range\":{\"id\":\"3664\"},\"y_scale\":{\"id\":\"3668\"}},\"id\":\"3661\",\"subtype\":\"Figure\",\"type\":\"Plot\"},{\"attributes\":{\"source\":{\"id\":\"3684\"}},\"id\":\"3688\",\"type\":\"CDSView\"},{\"attributes\":{\"mantissas\":[1,2,5],\"max_interval\":500.0,\"num_minor_ticks\":0},\"id\":\"3695\",\"type\":\"AdaptiveTicker\"},{\"attributes\":{\"fill_alpha\":{\"value\":0.1},\"fill_color\":{\"value\":\"green\"},\"line_alpha\":{\"value\":0.1},\"line_color\":{\"value\":\"green\"},\"size\":{\"units\":\"screen\",\"value\":10},\"x\":{\"value\":1387756800000.0},\"y\":{\"value\":20.3603572845459}},\"id\":\"3686\",\"type\":\"Circle\"},{\"attributes\":{},\"id\":\"3662\",\"type\":\"DataRange1d\"},{\"attributes\":{\"base\":60,\"mantissas\":[1,2,5,10,15,20,30],\"max_interval\":1800000.0,\"min_interval\":1000.0,\"num_minor_ticks\":0},\"id\":\"3696\",\"type\":\"AdaptiveTicker\"},{\"attributes\":{},\"id\":\"3884\",\"type\":\"Selection\"},{\"attributes\":{\"days\":[1,2,3,4,5,6,7,8,9,10,11,12,13,14,15,16,17,18,19,20,21,22,23,24,25,26,27,28,29,30,31]},\"id\":\"3698\",\"type\":\"DaysTicker\"},{\"attributes\":{\"label\":{\"value\":\"$20.36, 2013-12-23\"},\"renderers\":[{\"id\":\"3687\"}]},\"id\":\"3710\",\"type\":\"LegendItem\"},{\"attributes\":{\"base\":24,\"mantissas\":[1,2,4,6,8,12],\"max_interval\":43200000.0,\"min_interval\":3600000.0,\"num_minor_ticks\":0},\"id\":\"3697\",\"type\":\"AdaptiveTicker\"},{\"attributes\":{\"fill_color\":{\"value\":\"red\"},\"line_color\":{\"value\":\"red\"},\"size\":{\"units\":\"screen\",\"value\":10},\"x\":{\"value\":1366329600000.0},\"y\":{\"value\":13.947500228881836}},\"id\":\"3712\",\"type\":\"Circle\"},{\"attributes\":{\"items\":[{\"id\":\"3710\"},{\"id\":\"3738\"}],\"location\":\"top_left\"},\"id\":\"3709\",\"type\":\"Legend\"},{\"attributes\":{\"source\":{\"id\":\"3711\"}},\"id\":\"3715\",\"type\":\"CDSView\"},{\"attributes\":{\"months\":[0,1,2,3,4,5,6,7,8,9,10,11]},\"id\":\"3702\",\"type\":\"MonthsTicker\"},{\"attributes\":{\"data_source\":{\"id\":\"3684\"},\"glyph\":{\"id\":\"3685\"},\"hover_glyph\":null,\"muted_glyph\":null,\"nonselection_glyph\":{\"id\":\"3686\"},\"selection_glyph\":null,\"view\":{\"id\":\"3688\"}},\"id\":\"3687\",\"type\":\"GlyphRenderer\"},{\"attributes\":{\"data\":{},\"selected\":{\"id\":\"3737\"},\"selection_policy\":{\"id\":\"3736\"}},\"id\":\"3711\",\"type\":\"ColumnDataSource\"},{\"attributes\":{\"months\":[0,2,4,6,8,10]},\"id\":\"3703\",\"type\":\"MonthsTicker\"},{\"attributes\":{\"fill_alpha\":{\"value\":0.1},\"fill_color\":{\"value\":\"red\"},\"line_alpha\":{\"value\":0.1},\"line_color\":{\"value\":\"red\"},\"size\":{\"units\":\"screen\",\"value\":10},\"x\":{\"value\":1366329600000.0},\"y\":{\"value\":13.947500228881836}},\"id\":\"3713\",\"type\":\"Circle\"},{\"attributes\":{\"days\":[1,4,7,10,13,16,19,22,25,28]},\"id\":\"3699\",\"type\":\"DaysTicker\"},{\"attributes\":{},\"id\":\"3675\",\"type\":\"BasicTicker\"},{\"attributes\":{\"days\":[1,15]},\"id\":\"3701\",\"type\":\"DaysTicker\"},{\"attributes\":{\"data_source\":{\"id\":\"3711\"},\"glyph\":{\"id\":\"3712\"},\"hover_glyph\":null,\"muted_glyph\":null,\"nonselection_glyph\":{\"id\":\"3713\"},\"selection_glyph\":null,\"view\":{\"id\":\"3715\"}},\"id\":\"3714\",\"type\":\"GlyphRenderer\"},{\"attributes\":{\"months\":[0,6]},\"id\":\"3705\",\"type\":\"MonthsTicker\"},{\"attributes\":{},\"id\":\"3883\",\"type\":\"UnionRenderers\"},{\"attributes\":{\"label\":{\"value\":\"$13.95, 2013-04-19\"},\"renderers\":[{\"id\":\"3714\"}]},\"id\":\"3738\",\"type\":\"LegendItem\"},{\"attributes\":{\"days\":[1,8,15,22]},\"id\":\"3700\",\"type\":\"DaysTicker\"},{\"attributes\":{\"callback\":null,\"formatters\":{\"adj close\":\"printf\"},\"mode\":\"vline\",\"tooltips\":[[\"close\",\"$@{y}\"]]},\"id\":\"3746\",\"type\":\"HoverTool\"},{\"attributes\":{},\"id\":\"3706\",\"type\":\"YearsTicker\"},{\"attributes\":{\"data\":{},\"selected\":{\"id\":\"3708\"},\"selection_policy\":{\"id\":\"3707\"}},\"id\":\"3684\",\"type\":\"ColumnDataSource\"},{\"attributes\":{\"months\":[0,4,8]},\"id\":\"3704\",\"type\":\"MonthsTicker\"},{\"attributes\":{\"axis_label\":\"Price\",\"formatter\":{\"id\":\"3694\"},\"major_label_orientation\":\"vertical\",\"ticker\":{\"id\":\"3675\"}},\"id\":\"3674\",\"type\":\"LinearAxis\"},{\"attributes\":{\"align\":\"center\",\"text\":\"APPLE 2013\",\"text_color\":{\"value\":\"black\"},\"text_font\":\"calibri\",\"text_font_size\":{\"value\":\"20px\"}},\"id\":\"3679\",\"type\":\"Title\"},{\"attributes\":{\"num_minor_ticks\":5,\"tickers\":[{\"id\":\"3695\"},{\"id\":\"3696\"},{\"id\":\"3697\"},{\"id\":\"3698\"},{\"id\":\"3699\"},{\"id\":\"3700\"},{\"id\":\"3701\"},{\"id\":\"3702\"},{\"id\":\"3703\"},{\"id\":\"3704\"},{\"id\":\"3705\"},{\"id\":\"3706\"}]},\"id\":\"3671\",\"type\":\"DatetimeTicker\"},{\"attributes\":{},\"id\":\"3736\",\"type\":\"UnionRenderers\"},{\"attributes\":{\"axis\":{\"id\":\"3670\"},\"ticker\":null},\"id\":\"3673\",\"type\":\"Grid\"},{\"attributes\":{\"active_drag\":\"auto\",\"active_inspect\":\"auto\",\"active_multi\":null,\"active_scroll\":\"auto\",\"active_tap\":\"auto\",\"tools\":[{\"id\":\"3746\"}]},\"id\":\"3678\",\"type\":\"Toolbar\"},{\"attributes\":{},\"id\":\"3694\",\"type\":\"BasicTickFormatter\"},{\"attributes\":{},\"id\":\"3737\",\"type\":\"Selection\"},{\"attributes\":{},\"id\":\"3668\",\"type\":\"LinearScale\"},{\"attributes\":{},\"id\":\"3664\",\"type\":\"DataRange1d\"},{\"attributes\":{},\"id\":\"3707\",\"type\":\"UnionRenderers\"},{\"attributes\":{},\"id\":\"3708\",\"type\":\"Selection\"},{\"attributes\":{\"axis_label\":\"Year\",\"formatter\":{\"id\":\"3744\"},\"minor_tick_in\":-6,\"ticker\":{\"id\":\"3671\"}},\"id\":\"3670\",\"type\":\"DatetimeAxis\"},{\"attributes\":{\"axis\":{\"id\":\"3674\"},\"dimension\":1,\"ticker\":null},\"id\":\"3677\",\"type\":\"Grid\"},{\"attributes\":{\"days\":[\"%b %y\"],\"months\":[\"%b %y\"],\"years\":[\"%b %y\"]},\"id\":\"3744\",\"type\":\"DatetimeTickFormatter\"},{\"attributes\":{\"fill_color\":{\"value\":\"green\"},\"line_color\":{\"value\":\"green\"},\"size\":{\"units\":\"screen\",\"value\":10},\"x\":{\"value\":1387756800000.0},\"y\":{\"value\":20.3603572845459}},\"id\":\"3685\",\"type\":\"Circle\"},{\"attributes\":{\"line_alpha\":0.1,\"line_color\":\"purple\",\"line_width\":3,\"x\":{\"field\":\"x\"},\"y\":{\"field\":\"y\"}},\"id\":\"3741\",\"type\":\"Line\"},{\"attributes\":{\"line_color\":\"purple\",\"line_width\":3,\"x\":{\"field\":\"x\"},\"y\":{\"field\":\"y\"}},\"id\":\"3740\",\"type\":\"Line\"},{\"attributes\":{\"data_source\":{\"id\":\"3739\"},\"glyph\":{\"id\":\"3740\"},\"hover_glyph\":null,\"muted_glyph\":null,\"nonselection_glyph\":{\"id\":\"3741\"},\"selection_glyph\":null,\"view\":{\"id\":\"3743\"}},\"id\":\"3742\",\"type\":\"GlyphRenderer\"},{\"attributes\":{},\"id\":\"3666\",\"type\":\"LinearScale\"},{\"attributes\":{\"data\":{\"x\":{\"__ndarray__\":\"AABA64i/c0IAAABR279zQgAAwLYtwHNCAAAA6CTBc0IAAMBNd8FzQgAAgLPJwXNCAABAGRzCc0IAAAB/bsJzQgAAQLBlw3NCAAAAFrjDc0IAAMB7CsRzQgAAgOFcxHNCAABAR6/Ec0IAAEDe+MVzQgAAAERLxnNCAADAqZ3Gc0IAAIAP8MZzQgAAwEDnx3NCAACApjnIc0IAAEAMjMhzQgAAAHLeyHNCAADA1zDJc0IAAAAJKMpzQgAAwG56ynNCAACA1MzKc0IAAEA6H8tzQgAAAKBxy3NCAABA0WjMc0IAAAA3u8xzQgAAwJwNzXNCAACAAmDNc0IAAEBoss1zQgAAQP/7znNCAAAAZU7Pc0IAAMDKoM9zQgAAgDDzz3NCAADAYerQc0IAAIDHPNFzQgAAQC2P0XNCAAAAk+HRc0IAAMD4M9JzQgAAACor03NCAADAj33Tc0IAAID1z9NzQgAAQFsi1HNCAAAAwXTUc0IAAEDya9VzQgAAAFi+1XNCAADAvRDWc0IAAIAjY9ZzQgAAQIm11nNCAACAuqzXc0IAAEAg/9dzQgAAAIZR2HNCAADA66PYc0IAAIBR9thzQgAAwILt2XNCAACA6D/ac0IAAEBOktpzQgAAALTk2nNCAAAASy7cc0IAAMCwgNxzQgAAgBbT3HNCAABAfCXdc0IAAADid91zQgAAQBNv3nNCAAAAecHec0IAAMDeE99zQgAAgERm33NCAABAqrjfc0IAAIDbr+BzQgAAQEEC4XNCAAAAp1Thc0IAAMAMp+FzQgAAgHL54XNCAADAo/Dic0IAAIAJQ+NzQgAAQG+V43NCAAAA1efjc0IAAMA6OuRzQgAAAGwx5XNCAADA0YPlc0IAAIA31uVzQgAAQJ0o5nNCAAAAA3vmc0IAAEA0cudzQgAAAJrE53NCAADA/xboc0IAAIBlaehzQgAAQMu76HNCAACA/LLpc0IAAEBiBepzQgAAAMhX6nNCAADALarqc0IAAICT/OpzQgAAwMTz63NCAACAKkbsc0IAAECQmOxzQgAAAPbq7HNCAADAWz3tc0IAAMDyhu5zQgAAgFjZ7nNCAABAvivvc0IAAAAkfu9zQgAAQFV18HNCAAAAu8fwc0IAAMAgGvFzQgAAgIZs8XNCAABA7L7xc0IAAIAdtvJzQgAAQIMI83NCAAAA6Vrzc0IAAMBOrfNzQgAAgLT/83NCAADA5fb0c0IAAIBLSfVzQgAAQLGb9XNCAAAAF+71c0IAAMB8QPZzQgAAAK4393NCAADAE4r3c0IAAIB53PdzQgAAQN8u+HNCAAAARYH4c0IAAEB2ePlzQgAAANzK+XNCAADAQR36c0IAAEANwvpzQgAAgD65+3NCAABApAv8c0IAAAAKXvxzQgAAwG+w/HNCAACA1QL9c0IAAMAG+v1zQgAAgGxM/nNCAABA0p7+c0IAAAA48f5zQgAAwJ1D/3NCAAAAzzoAdEIAAMA0jQB0QgAAgJrfAHRCAABAADIBdEIAAABmhAF0QgAAQJd7AnRCAAAA/c0CdEIAAMBiIAN0QgAAgMhyA3RCAABALsUDdEIAAIBfvAR0QgAAQMUOBXRCAAAAK2EFdEIAAMCQswV0QgAAgPYFBnRCAADAJ/0GdEIAAICNTwd0QgAAQPOhB3RCAAAAWfQHdEIAAMC+Rgh0QgAAAPA9CXRCAADAVZAJdEIAAIC74gl0QgAAQCE1CnRCAAAAh4cKdEIAAEC4fgt0QgAAAB7RC3RCAADAgyMMdEIAAIDpdQx0QgAAQE/IDHRCAABA5hEOdEIAAABMZA50QgAAwLG2DnRCAACAFwkPdEIAAMBIABB0QgAAgK5SEHRCAABAFKUQdEIAAAB69xB0QgAAwN9JEXRCAAAAEUESdEIAAMB2kxJ0QgAAgNzlEnRCAABAQjgTdEIAAACoihN0QgAAQNmBFHRCAAAAP9QUdEIAAMCkJhV0QgAAgAp5FXRCAABAcMsVdEIAAIChwhZ0QgAAQAcVF3RCAAAAbWcXdEIAAMDSuRd0QgAAgDgMGHRCAADAaQMZdEIAAIDPVRl0QgAAQDWoGXRCAAAAm/oZdEIAAMAATRp0QgAAADJEG3RCAADAl5YbdEIAAID96Bt0QgAAQGM7HHRCAAAAyY0cdEIAAED6hB10QgAAAGDXHXRCAADAxSkedEIAAIArfB50QgAAQJHOHnRCAACAwsUfdEIAAEAoGCB0QgAAAI5qIHRCAADA87wgdEIAAIBZDyF0QgAAwIoGInRCAACA8FgidEIAAEBWqyJ0QgAAALz9InRCAADAIVAjdEIAAABTRyR0QgAAwLiZJHRCAACAHuwkdEIAAECEPiV0QgAAAOqQJXRCAABAG4gmdEIAAACB2iZ0QgAAwOYsJ3RCAACATH8ndEIAAECy0Sd0QgAAgOPIKHRCAABASRspdEIAAACvbSl0QgAAgHoSKnRCAADAqwkrdEIAAIARXCt0QgAAQHeuK3RCAAAA3QAsdEIAAMBCUyx0QgAAAHRKLXRCAADA2ZwtdEIAAIA/7y10QgAAQKVBLnRCAAAAC5QudEIAAEA8iy90QgAAAKLdL3RCAADABzAwdEIAAIBtgjB0QgAAQNPUMHRCAACABMwxdEIAAEBqHjJ0QgAAwDXDMnRCAACAmxUzdEIAAMDMDDR0QgAAgDJfNHRC\",\"dtype\":\"float64\",\"order\":\"little\",\"shape\":[252]},\"y\":{\"__ndarray__\":\"AAAA4LObM0AAAADAV1wzQAAAACBJ0jJAAAAAYPG1MkAAAACA1cIyQAAAAIDFdzJAAAAAoGCyMkAAAABgB5UyQAAAAMBt6zFAAAAAgLJaMUAAAADAGxMyQAAAAGDu8zFAAAAAwG3bMUAAAABACgcyQAAAACCFWzJAAAAAgNsWMEAAAAAghWsvQAAAAEC7EDBAAAAAoOVdMEAAAABAu1AwQAAAAOB6RDBAAAAAAGIzMEAAAAAgI5gvQAAAAED3WTBAAAAAYHxVMEAAAABg3rgwQAAAAKCs9jBAAAAAYO4jMUAAAABg8bUwQAAAAEDOrTBAAAAAQPepMEAAAABgLW8wQAAAAGCfbTBAAAAAgMUHMEAAAACAhtwvQAAAAACxGTBAAAAAIOqgL0AAAABg3ggwQAAAAKBHwS9AAAAAgFCHL0AAAACgc78uQAAAACDqAC5AAAAA4LPLLkAAAABAf2cuQAAAAIB2wS5AAAAAAE/WLkAAAAAAxEYvQAAAAAAmmi5AAAAAgK+YLkAAAABgkuQuQAAAAOCjsC9AAAAAQJVGMEAAAABgVjswQAAAAIBNJTBAAAAA4D4rMEAAAABgLX8wQAAAACByjjBAAAAAICN4MEAAAACATSUwQAAAAMBani9AAAAAAO2iLkAAAABgBLMuQAAAAOA+2y5AAAAAYCqNLkAAAADAgzouQAAAAOCNcS5AAAAAYKJ/LkAAAAAg5x4vQAAAAOAIBi9AAAAAQDOzLkAAAADgQf0tQAAAAGAaci5AAAAAQHzFLEAAAAAg6gAsQAAAAMAe5StAAAAAIPd5LEAAAACgYAItQAAAACAg9ixAAAAAIIUrLUAAAADAzMwtQAAAAEANuS5AAAAAYIygL0AAAABAu2AvQAAAAOCm0i9AAAAAYBoSMEAAAADANHQwQAAAAIB2YTBAAAAAoNKQMEAAAADALlAwQAAAAKBwLTBAAAAAYJ89MEAAAAAgTLQvQAAAAADUoS5AAAAAAJsKL0AAAADgd/IuQAAAAKBKoy9AAAAAQH9nL0AAAABgZoYvQAAAAIDYlC9AAAAAwOLLL0AAAACgC4gvQAAAAIA6yC9AAAAAQLsgMEAAAABA0Q8wQAAAAGDeGDBAAAAAIPoLMEAAAACAJ8svQAAAAOCNUS9AAAAAwM+OL0AAAADAalkvQAAAAADUQS9AAAAAIOfeLkAAAAAA1yMvQAAAAIDFty5AAAAAoG3bLkAAAAAAOdcuQAAAAIDbNi5AAAAAoDfGLUAAAACAJIktQAAAAEC7wCxAAAAAoGDCLEAAAACg/m4sQAAAAGCMICxAAAAAoNVSLEAAAABA4TotQAAAAGBj5C1AAAAA4KAOLkAAAACg0tAtQAAAAEB8pS1AAAAAwPgqLkAAAAAgWQ0uQAAAAIBNhS5AAAAAQAp3LkAAAACgC4guQAAAAMCDui5AAAAAgIa8LkAAAABACtcuQAAAAMCDWi5AAAAAAGJzLkAAAAAgiO0tQAAAAEAKdy9AAAAAIElSL0AAAABA0X8vQAAAAAAp/C9AAAAA4KMwMEAAAADAaikwQAAAACBcTzBAAAAA4O+EMEAAAABAHcQwQAAAAOC2nTBAAAAA4D6bMEAAAADg8nYwQAAAAKD4OjBAAAAAgAGxMEAAAACgEXwxQAAAAOC2zTFAAAAA4FHIMUAAAABAu/AxQAAAAMAxIjJAAAAAIDblMUAAAACAAfExQAAAAMB99jFAAAAAIMHkMUAAAABAlfYxQAAAAMAbczFAAAAAgDqIMUAAAAAAi48xQAAAAECVZjFAAAAAYARzMUAAAACAc88xQAAAAMAusDFAAAAAgCfLMUAAAAAA1xMyQAAAAEBsqjFAAAAAwDS0MEAAAADAvOEwQAAAAKCDmjBAAAAAAGITMEAAAAAA7UIwQAAAAMCAmDBAAAAA4CveMEAAAACAdrEwQAAAAADahTFAAAAAgMV3MUAAAABgjzIxQAAAAKBwXTFAAAAA4LY9MUAAAACA2wYxQAAAAEBZbTFAAAAAIPp7MUAAAACgv0MxQAAAAEBGQDFAAAAAwG1rMUAAAACAKi0xQAAAAKDSYDFAAAAAYLV8MUAAAAAAsZkxQAAAAAA5tzFAAAAAIFzPMUAAAADAk+UxQAAAAECSBDJAAAAAYLUsMkAAAABguJ4yQAAAAOAYkTJAAAAAYKK/MkAAAABgLf8yQAAAAADHyDJAAAAAAJ7sMkAAAABg7nMyQAAAAAAWvzJAAAAAoPiqMkAAAABgj5IyQAAAAAAA0DJAAAAAQB3EMkAAAACAspoyQAAAAGCfTTJAAAAA4GeXMkAAAACgmYkyQAAAAKBgkjJAAAAAwAuYMkAAAABA5NwyQAAAAKDovzJAAAAAgMKFMkAAAADgK44yQAAAAECSZDJAAAAAYLWcMkAAAAAAdZAyQAAAAOB6tDJAAAAAwMwMM0AAAABgon8zQAAAAKAR3DNAAAAAQNGvM0AAAABgyDk0QAAAAOC2LTRAAAAAgDpINEAAAADALgA0QAAAAODJOjRAAAAAIL4yNEAAAAAgbww0QAAAAODvBDRAAAAAABPNM0AAAACAJOkzQAAAAMAx0jNAAAAAgJyrM0AAAACA63EzQAAAAICcmzNAAAAAYEBcNEAAAABAIEY0QAAAAECoIzRAAAAAoNIANEAAAACg5c0zQAAAAGBTCTRA\",\"dtype\":\"float64\",\"order\":\"little\",\"shape\":[252]}},\"selected\":{\"id\":\"3884\"},\"selection_policy\":{\"id\":\"3883\"}},\"id\":\"3739\",\"type\":\"ColumnDataSource\"},{\"attributes\":{\"source\":{\"id\":\"3739\"}},\"id\":\"3743\",\"type\":\"CDSView\"}],\"root_ids\":[\"3661\"]},\"title\":\"Bokeh Application\",\"version\":\"2.1.1\"}};\n",
       "  var render_items = [{\"docid\":\"112ea9ce-e5da-488c-921a-af428b077f63\",\"notebook_comms_target\":\"3885\",\"root_ids\":[\"3661\"],\"roots\":{\"3661\":\"64de86c5-d990-434a-b817-4097a88252a6\"}}];\n",
       "  root.Bokeh.embed.embed_items_notebook(docs_json, render_items);\n",
       "\n",
       "  }\n",
       "  if (root.Bokeh !== undefined) {\n",
       "    embed_document(root);\n",
       "  } else {\n",
       "    var attempts = 0;\n",
       "    var timer = setInterval(function(root) {\n",
       "      if (root.Bokeh !== undefined) {\n",
       "        clearInterval(timer);\n",
       "        embed_document(root);\n",
       "      } else {\n",
       "        attempts++;\n",
       "        if (attempts > 100) {\n",
       "          clearInterval(timer);\n",
       "          console.log(\"Bokeh: ERROR: Unable to run BokehJS code because BokehJS library is missing\");\n",
       "        }\n",
       "      }\n",
       "    }, 10, root)\n",
       "  }\n",
       "})(window);"
      ],
      "application/vnd.bokehjs_exec.v0+json": ""
     },
     "metadata": {
      "application/vnd.bokehjs_exec.v0+json": {
       "id": "3661"
      }
     },
     "output_type": "display_data"
    },
    {
     "data": {
      "text/html": [
       "<p><code>&lt;Bokeh Notebook handle for <strong>In[17]</strong>&gt;</code></p>"
      ],
      "text/plain": [
       "<bokeh.io.notebook.CommsHandle at 0x149cbb90cd0>"
      ]
     },
     "execution_count": 17,
     "metadata": {},
     "output_type": "execute_result"
    }
   ],
   "source": [
    "sub=df_app[(df_app['Date']>\"2012-12-31\") & (df_app['Date']<\"2014-01-01\")]\n",
    "output_file(\"APPLE_2013.html\", title=\"APPLE 2013\")\n",
    "p = figure(x_axis_type='datetime', y_axis_type=\"linear\",plot_height = 500,plot_width = 1000,tools=\"\")\n",
    "p.title.text = \"APPLE 2013\"\n",
    "graph(sub,p)\n",
    "show( p , notebook_handle=True) "
   ]
  },
  {
   "cell_type": "markdown",
   "metadata": {},
   "source": [
    "Apple showed slow in sales growth for 3 quarters. The trend was slowly moving up. In July, Paul Deneve was appointed as new Vice President.\n",
    "But September showed a slow acceleration. September saw lot of new product releases. 10th September iPhone 5C and iPhone 5s. The first weekend of its release, Apple sold 9 million units. 18th September, iOS 7 was released. Post 19th September, the price steadily increased. In October, Angela Ahrendt was appointed as new CEO. Ipad Air and iPad Mini were released. Apple sold 33.8 million units of iPhones and 14.1 million units of iPad.\n",
    "\n",
    "Apple signed a deal with China Mobile that resulted in 31% increase in Apple share price. It had access to China Mobile's 700 million subscribers with the new deal.\n",
    "\n",
    "- https://www.bbc.com/news/business-25489430\n",
    "- https://www.cultofmac.com/257364/entire-year-apple-news-one-post/\n",
    "- https://www.theverge.com/2013/12/22/4710262/apple-iphone-china-mobile-deal\n"
   ]
  },
  {
   "cell_type": "code",
   "execution_count": 19,
   "metadata": {},
   "outputs": [
    {
     "data": {
      "text/html": [
       "\n",
       "\n",
       "\n",
       "\n",
       "\n",
       "\n",
       "  <div class=\"bk-root\" id=\"7d8bb233-d9d2-4b14-89e3-35a975b84878\" data-root-id=\"5010\"></div>\n"
      ]
     },
     "metadata": {},
     "output_type": "display_data"
    },
    {
     "data": {
      "application/javascript": [
       "(function(root) {\n",
       "  function embed_document(root) {\n",
       "    \n",
       "  var docs_json = {\"ce304998-bfd8-4747-b79b-b2ebd31cc1c2\":{\"roots\":{\"references\":[{\"attributes\":{\"below\":[{\"id\":\"5019\"}],\"center\":[{\"id\":\"5022\"},{\"id\":\"5026\"},{\"id\":\"5058\"}],\"left\":[{\"id\":\"5023\"}],\"plot_height\":500,\"plot_width\":1000,\"renderers\":[{\"id\":\"5036\"},{\"id\":\"5063\"},{\"id\":\"5091\"}],\"title\":{\"id\":\"5028\"},\"toolbar\":{\"id\":\"5027\"},\"x_range\":{\"id\":\"5011\"},\"x_scale\":{\"id\":\"5015\"},\"y_range\":{\"id\":\"5013\"},\"y_scale\":{\"id\":\"5017\"}},\"id\":\"5010\",\"subtype\":\"Figure\",\"type\":\"Plot\"},{\"attributes\":{\"axis\":{\"id\":\"5019\"},\"ticker\":null},\"id\":\"5022\",\"type\":\"Grid\"},{\"attributes\":{\"align\":\"center\",\"text\":\"APPLE 2014\",\"text_color\":{\"value\":\"black\"},\"text_font\":\"calibri\",\"text_font_size\":{\"value\":\"20px\"}},\"id\":\"5028\",\"type\":\"Title\"},{\"attributes\":{\"fill_color\":{\"value\":\"green\"},\"line_color\":{\"value\":\"green\"},\"size\":{\"units\":\"screen\",\"value\":10},\"x\":{\"value\":1416960000000.0},\"y\":{\"value\":29.75}},\"id\":\"5034\",\"type\":\"Circle\"},{\"attributes\":{\"axis\":{\"id\":\"5023\"},\"dimension\":1,\"ticker\":null},\"id\":\"5026\",\"type\":\"Grid\"},{\"attributes\":{\"data\":{},\"selected\":{\"id\":\"5086\"},\"selection_policy\":{\"id\":\"5085\"}},\"id\":\"5060\",\"type\":\"ColumnDataSource\"},{\"attributes\":{},\"id\":\"5085\",\"type\":\"UnionRenderers\"},{\"attributes\":{},\"id\":\"5043\",\"type\":\"BasicTickFormatter\"},{\"attributes\":{},\"id\":\"5024\",\"type\":\"BasicTicker\"},{\"attributes\":{\"axis_label\":\"Year\",\"formatter\":{\"id\":\"5093\"},\"minor_tick_in\":-6,\"ticker\":{\"id\":\"5020\"}},\"id\":\"5019\",\"type\":\"DatetimeAxis\"},{\"attributes\":{\"fill_alpha\":{\"value\":0.1},\"fill_color\":{\"value\":\"green\"},\"line_alpha\":{\"value\":0.1},\"line_color\":{\"value\":\"green\"},\"size\":{\"units\":\"screen\",\"value\":10},\"x\":{\"value\":1416960000000.0},\"y\":{\"value\":29.75}},\"id\":\"5035\",\"type\":\"Circle\"},{\"attributes\":{},\"id\":\"5279\",\"type\":\"Selection\"},{\"attributes\":{},\"id\":\"5086\",\"type\":\"Selection\"},{\"attributes\":{\"axis_label\":\"Price\",\"formatter\":{\"id\":\"5043\"},\"major_label_orientation\":\"vertical\",\"ticker\":{\"id\":\"5024\"}},\"id\":\"5023\",\"type\":\"LinearAxis\"},{\"attributes\":{},\"id\":\"5056\",\"type\":\"UnionRenderers\"},{\"attributes\":{\"num_minor_ticks\":5,\"tickers\":[{\"id\":\"5044\"},{\"id\":\"5045\"},{\"id\":\"5046\"},{\"id\":\"5047\"},{\"id\":\"5048\"},{\"id\":\"5049\"},{\"id\":\"5050\"},{\"id\":\"5051\"},{\"id\":\"5052\"},{\"id\":\"5053\"},{\"id\":\"5054\"},{\"id\":\"5055\"}]},\"id\":\"5020\",\"type\":\"DatetimeTicker\"},{\"attributes\":{},\"id\":\"5057\",\"type\":\"Selection\"},{\"attributes\":{\"base\":60,\"mantissas\":[1,2,5,10,15,20,30],\"max_interval\":1800000.0,\"min_interval\":1000.0,\"num_minor_ticks\":0},\"id\":\"5045\",\"type\":\"AdaptiveTicker\"},{\"attributes\":{\"items\":[{\"id\":\"5059\"},{\"id\":\"5087\"}],\"location\":\"top_left\"},\"id\":\"5058\",\"type\":\"Legend\"},{\"attributes\":{\"line_color\":\"purple\",\"line_width\":3,\"x\":{\"field\":\"x\"},\"y\":{\"field\":\"y\"}},\"id\":\"5089\",\"type\":\"Line\"},{\"attributes\":{\"label\":{\"value\":\"$29.75, 2014-11-26\"},\"renderers\":[{\"id\":\"5036\"}]},\"id\":\"5059\",\"type\":\"LegendItem\"},{\"attributes\":{\"days\":[1,8,15,22]},\"id\":\"5049\",\"type\":\"DaysTicker\"},{\"attributes\":{},\"id\":\"5015\",\"type\":\"LinearScale\"},{\"attributes\":{\"data\":{},\"selected\":{\"id\":\"5057\"},\"selection_policy\":{\"id\":\"5056\"}},\"id\":\"5033\",\"type\":\"ColumnDataSource\"},{\"attributes\":{\"callback\":null,\"formatters\":{\"adj close\":\"printf\"},\"mode\":\"vline\",\"tooltips\":[[\"close\",\"$@{y}\"]]},\"id\":\"5095\",\"type\":\"HoverTool\"},{\"attributes\":{\"fill_alpha\":{\"value\":0.1},\"fill_color\":{\"value\":\"red\"},\"line_alpha\":{\"value\":0.1},\"line_color\":{\"value\":\"red\"},\"size\":{\"units\":\"screen\",\"value\":10},\"x\":{\"value\":1391040000000.0},\"y\":{\"value\":17.849285125732422}},\"id\":\"5062\",\"type\":\"Circle\"},{\"attributes\":{\"line_alpha\":0.1,\"line_color\":\"purple\",\"line_width\":3,\"x\":{\"field\":\"x\"},\"y\":{\"field\":\"y\"}},\"id\":\"5090\",\"type\":\"Line\"},{\"attributes\":{\"data_source\":{\"id\":\"5088\"},\"glyph\":{\"id\":\"5089\"},\"hover_glyph\":null,\"muted_glyph\":null,\"nonselection_glyph\":{\"id\":\"5090\"},\"selection_glyph\":null,\"view\":{\"id\":\"5092\"}},\"id\":\"5091\",\"type\":\"GlyphRenderer\"},{\"attributes\":{\"fill_color\":{\"value\":\"red\"},\"line_color\":{\"value\":\"red\"},\"size\":{\"units\":\"screen\",\"value\":10},\"x\":{\"value\":1391040000000.0},\"y\":{\"value\":17.849285125732422}},\"id\":\"5061\",\"type\":\"Circle\"},{\"attributes\":{\"data\":{\"x\":{\"__ndarray__\":\"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\",\"dtype\":\"float64\",\"order\":\"little\",\"shape\":[252]},\"y\":{\"__ndarray__\":\"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\",\"dtype\":\"float64\",\"order\":\"little\",\"shape\":[252]}},\"selected\":{\"id\":\"5279\"},\"selection_policy\":{\"id\":\"5278\"}},\"id\":\"5088\",\"type\":\"ColumnDataSource\"},{\"attributes\":{\"source\":{\"id\":\"5088\"}},\"id\":\"5092\",\"type\":\"CDSView\"},{\"attributes\":{\"active_drag\":\"auto\",\"active_inspect\":\"auto\",\"active_multi\":null,\"active_scroll\":\"auto\",\"active_tap\":\"auto\",\"tools\":[{\"id\":\"5095\"}]},\"id\":\"5027\",\"type\":\"Toolbar\"},{\"attributes\":{},\"id\":\"5011\",\"type\":\"DataRange1d\"},{\"attributes\":{\"mantissas\":[1,2,5],\"max_interval\":500.0,\"num_minor_ticks\":0},\"id\":\"5044\",\"type\":\"AdaptiveTicker\"},{\"attributes\":{\"days\":[1,2,3,4,5,6,7,8,9,10,11,12,13,14,15,16,17,18,19,20,21,22,23,24,25,26,27,28,29,30,31]},\"id\":\"5047\",\"type\":\"DaysTicker\"},{\"attributes\":{\"base\":24,\"mantissas\":[1,2,4,6,8,12],\"max_interval\":43200000.0,\"min_interval\":3600000.0,\"num_minor_ticks\":0},\"id\":\"5046\",\"type\":\"AdaptiveTicker\"},{\"attributes\":{},\"id\":\"5278\",\"type\":\"UnionRenderers\"},{\"attributes\":{\"data_source\":{\"id\":\"5033\"},\"glyph\":{\"id\":\"5034\"},\"hover_glyph\":null,\"muted_glyph\":null,\"nonselection_glyph\":{\"id\":\"5035\"},\"selection_glyph\":null,\"view\":{\"id\":\"5037\"}},\"id\":\"5036\",\"type\":\"GlyphRenderer\"},{\"attributes\":{\"months\":[0,1,2,3,4,5,6,7,8,9,10,11]},\"id\":\"5051\",\"type\":\"MonthsTicker\"},{\"attributes\":{\"months\":[0,2,4,6,8,10]},\"id\":\"5052\",\"type\":\"MonthsTicker\"},{\"attributes\":{\"source\":{\"id\":\"5033\"}},\"id\":\"5037\",\"type\":\"CDSView\"},{\"attributes\":{},\"id\":\"5017\",\"type\":\"LinearScale\"},{\"attributes\":{\"source\":{\"id\":\"5060\"}},\"id\":\"5064\",\"type\":\"CDSView\"},{\"attributes\":{\"days\":[1,4,7,10,13,16,19,22,25,28]},\"id\":\"5048\",\"type\":\"DaysTicker\"},{\"attributes\":{\"days\":[1,15]},\"id\":\"5050\",\"type\":\"DaysTicker\"},{\"attributes\":{\"months\":[0,6]},\"id\":\"5054\",\"type\":\"MonthsTicker\"},{\"attributes\":{\"days\":[\"%b %y\"],\"months\":[\"%b %y\"],\"years\":[\"%b %y\"]},\"id\":\"5093\",\"type\":\"DatetimeTickFormatter\"},{\"attributes\":{},\"id\":\"5013\",\"type\":\"DataRange1d\"},{\"attributes\":{\"data_source\":{\"id\":\"5060\"},\"glyph\":{\"id\":\"5061\"},\"hover_glyph\":null,\"muted_glyph\":null,\"nonselection_glyph\":{\"id\":\"5062\"},\"selection_glyph\":null,\"view\":{\"id\":\"5064\"}},\"id\":\"5063\",\"type\":\"GlyphRenderer\"},{\"attributes\":{},\"id\":\"5055\",\"type\":\"YearsTicker\"},{\"attributes\":{\"label\":{\"value\":\"$17.85, 2014-01-30\"},\"renderers\":[{\"id\":\"5063\"}]},\"id\":\"5087\",\"type\":\"LegendItem\"},{\"attributes\":{\"months\":[0,4,8]},\"id\":\"5053\",\"type\":\"MonthsTicker\"}],\"root_ids\":[\"5010\"]},\"title\":\"Bokeh Application\",\"version\":\"2.1.1\"}};\n",
       "  var render_items = [{\"docid\":\"ce304998-bfd8-4747-b79b-b2ebd31cc1c2\",\"notebook_comms_target\":\"5280\",\"root_ids\":[\"5010\"],\"roots\":{\"5010\":\"7d8bb233-d9d2-4b14-89e3-35a975b84878\"}}];\n",
       "  root.Bokeh.embed.embed_items_notebook(docs_json, render_items);\n",
       "\n",
       "  }\n",
       "  if (root.Bokeh !== undefined) {\n",
       "    embed_document(root);\n",
       "  } else {\n",
       "    var attempts = 0;\n",
       "    var timer = setInterval(function(root) {\n",
       "      if (root.Bokeh !== undefined) {\n",
       "        clearInterval(timer);\n",
       "        embed_document(root);\n",
       "      } else {\n",
       "        attempts++;\n",
       "        if (attempts > 100) {\n",
       "          clearInterval(timer);\n",
       "          console.log(\"Bokeh: ERROR: Unable to run BokehJS code because BokehJS library is missing\");\n",
       "        }\n",
       "      }\n",
       "    }, 10, root)\n",
       "  }\n",
       "})(window);"
      ],
      "application/vnd.bokehjs_exec.v0+json": ""
     },
     "metadata": {
      "application/vnd.bokehjs_exec.v0+json": {
       "id": "5010"
      }
     },
     "output_type": "display_data"
    },
    {
     "data": {
      "text/html": [
       "<p><code>&lt;Bokeh Notebook handle for <strong>In[19]</strong>&gt;</code></p>"
      ],
      "text/plain": [
       "<bokeh.io.notebook.CommsHandle at 0x149ca844940>"
      ]
     },
     "execution_count": 19,
     "metadata": {},
     "output_type": "execute_result"
    }
   ],
   "source": [
    "sub=df_app[(df_app['Date']>\"2013-12-31\") & (df_app['Date']<\"2015-01-01\")]\n",
    "#output_file(\"APPLE_2014.html\", title=\"APPLE 2014\")\n",
    "p = figure(x_axis_type='datetime', y_axis_type=\"linear\",plot_height = 500,plot_width = 1000,tools=\"\")\n",
    "p.title.text = \"APPLE 2014\"\n",
    "graph(sub,p)\n",
    "show( p , notebook_handle=True) "
   ]
  },
  {
   "cell_type": "markdown",
   "metadata": {},
   "source": [
    "Apple purchases have been high during Thanksigiving weekend. In 2014, the high was on 26th November. It was predicted to reach its highest by many analysts.\n",
    "On November 25th Apple was said to ship nearly 72 million phones for the holiday quarter. In 2014, apple had release its new iphone model, iphone 6. Iphone 5 was released 2 year prior and hence there was expectedly more rush for new model.\n",
    "- https://invezz.com/news/2014/11/25/apple-share-price-company-poised-to-sell-71-5-million-iphones-in-q1/\n",
    "- https://fortune.com/2014/11/11/apple-the-thanksgiving-effect/"
   ]
  },
  {
   "cell_type": "code",
   "execution_count": 20,
   "metadata": {},
   "outputs": [
    {
     "data": {
      "text/html": [
       "\n",
       "\n",
       "\n",
       "\n",
       "\n",
       "\n",
       "  <div class=\"bk-root\" id=\"e42266a4-fdc8-4470-a1ad-1acdc91f51d6\" data-root-id=\"5719\"></div>\n"
      ]
     },
     "metadata": {},
     "output_type": "display_data"
    },
    {
     "data": {
      "application/javascript": [
       "(function(root) {\n",
       "  function embed_document(root) {\n",
       "    \n",
       "  var docs_json = {\"3ae47f60-d5ee-416f-b1de-8e91bc6ec01c\":{\"roots\":{\"references\":[{\"attributes\":{\"below\":[{\"id\":\"5728\"}],\"center\":[{\"id\":\"5731\"},{\"id\":\"5735\"},{\"id\":\"5767\"}],\"left\":[{\"id\":\"5732\"}],\"plot_height\":500,\"plot_width\":1000,\"renderers\":[{\"id\":\"5745\"},{\"id\":\"5772\"},{\"id\":\"5800\"}],\"title\":{\"id\":\"5737\"},\"toolbar\":{\"id\":\"5736\"},\"x_range\":{\"id\":\"5720\"},\"x_scale\":{\"id\":\"5724\"},\"y_range\":{\"id\":\"5722\"},\"y_scale\":{\"id\":\"5726\"}},\"id\":\"5719\",\"subtype\":\"Figure\",\"type\":\"Plot\"},{\"attributes\":{\"fill_color\":{\"value\":\"green\"},\"line_color\":{\"value\":\"green\"},\"size\":{\"units\":\"screen\",\"value\":10},\"x\":{\"value\":1424649600000.0},\"y\":{\"value\":33.25}},\"id\":\"5743\",\"type\":\"Circle\"},{\"attributes\":{},\"id\":\"5752\",\"type\":\"BasicTickFormatter\"},{\"attributes\":{\"active_drag\":\"auto\",\"active_inspect\":\"auto\",\"active_multi\":null,\"active_scroll\":\"auto\",\"active_tap\":\"auto\",\"tools\":[{\"id\":\"5804\"}]},\"id\":\"5736\",\"type\":\"Toolbar\"},{\"attributes\":{},\"id\":\"5795\",\"type\":\"Selection\"},{\"attributes\":{\"data_source\":{\"id\":\"5769\"},\"glyph\":{\"id\":\"5770\"},\"hover_glyph\":null,\"muted_glyph\":null,\"nonselection_glyph\":{\"id\":\"5771\"},\"selection_glyph\":null,\"view\":{\"id\":\"5773\"}},\"id\":\"5772\",\"type\":\"GlyphRenderer\"},{\"attributes\":{},\"id\":\"5765\",\"type\":\"UnionRenderers\"},{\"attributes\":{\"align\":\"center\",\"text\":\"APPLE 2015\",\"text_color\":{\"value\":\"black\"},\"text_font\":\"calibri\",\"text_font_size\":{\"value\":\"20px\"}},\"id\":\"5737\",\"type\":\"Title\"},{\"attributes\":{},\"id\":\"5766\",\"type\":\"Selection\"},{\"attributes\":{\"label\":{\"value\":\"$33.25, 2015-02-23\"},\"renderers\":[{\"id\":\"5745\"}]},\"id\":\"5768\",\"type\":\"LegendItem\"},{\"attributes\":{\"line_alpha\":0.1,\"line_color\":\"purple\",\"line_width\":3,\"x\":{\"field\":\"x\"},\"y\":{\"field\":\"y\"}},\"id\":\"5799\",\"type\":\"Line\"},{\"attributes\":{\"fill_alpha\":{\"value\":0.1},\"fill_color\":{\"value\":\"red\"},\"line_alpha\":{\"value\":0.1},\"line_color\":{\"value\":\"red\"},\"size\":{\"units\":\"screen\",\"value\":10},\"x\":{\"value\":1440374400000.0},\"y\":{\"value\":25.780000686645508}},\"id\":\"5771\",\"type\":\"Circle\"},{\"attributes\":{\"axis\":{\"id\":\"5732\"},\"dimension\":1,\"ticker\":null},\"id\":\"5735\",\"type\":\"Grid\"},{\"attributes\":{\"fill_color\":{\"value\":\"red\"},\"line_color\":{\"value\":\"red\"},\"size\":{\"units\":\"screen\",\"value\":10},\"x\":{\"value\":1440374400000.0},\"y\":{\"value\":25.780000686645508}},\"id\":\"5770\",\"type\":\"Circle\"},{\"attributes\":{\"data\":{\"x\":{\"__ndarray__\":\"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\",\"dtype\":\"float64\",\"order\":\"little\",\"shape\":[252]},\"y\":{\"__ndarray__\":\"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\",\"dtype\":\"float64\",\"order\":\"little\",\"shape\":[252]}},\"selected\":{\"id\":\"6011\"},\"selection_policy\":{\"id\":\"6010\"}},\"id\":\"5797\",\"type\":\"ColumnDataSource\"},{\"attributes\":{\"line_color\":\"purple\",\"line_width\":3,\"x\":{\"field\":\"x\"},\"y\":{\"field\":\"y\"}},\"id\":\"5798\",\"type\":\"Line\"},{\"attributes\":{\"callback\":null,\"formatters\":{\"adj close\":\"printf\"},\"mode\":\"vline\",\"tooltips\":[[\"close\",\"$@{y}\"]]},\"id\":\"5804\",\"type\":\"HoverTool\"},{\"attributes\":{\"source\":{\"id\":\"5769\"}},\"id\":\"5773\",\"type\":\"CDSView\"},{\"attributes\":{\"source\":{\"id\":\"5797\"}},\"id\":\"5801\",\"type\":\"CDSView\"},{\"attributes\":{\"data\":{},\"selected\":{\"id\":\"5766\"},\"selection_policy\":{\"id\":\"5765\"}},\"id\":\"5742\",\"type\":\"ColumnDataSource\"},{\"attributes\":{\"source\":{\"id\":\"5742\"}},\"id\":\"5746\",\"type\":\"CDSView\"},{\"attributes\":{},\"id\":\"5720\",\"type\":\"DataRange1d\"},{\"attributes\":{\"fill_alpha\":{\"value\":0.1},\"fill_color\":{\"value\":\"green\"},\"line_alpha\":{\"value\":0.1},\"line_color\":{\"value\":\"green\"},\"size\":{\"units\":\"screen\",\"value\":10},\"x\":{\"value\":1424649600000.0},\"y\":{\"value\":33.25}},\"id\":\"5744\",\"type\":\"Circle\"},{\"attributes\":{},\"id\":\"5722\",\"type\":\"DataRange1d\"},{\"attributes\":{\"mantissas\":[1,2,5],\"max_interval\":500.0,\"num_minor_ticks\":0},\"id\":\"5753\",\"type\":\"AdaptiveTicker\"},{\"attributes\":{\"base\":60,\"mantissas\":[1,2,5,10,15,20,30],\"max_interval\":1800000.0,\"min_interval\":1000.0,\"num_minor_ticks\":0},\"id\":\"5754\",\"type\":\"AdaptiveTicker\"},{\"attributes\":{\"days\":[1,2,3,4,5,6,7,8,9,10,11,12,13,14,15,16,17,18,19,20,21,22,23,24,25,26,27,28,29,30,31]},\"id\":\"5756\",\"type\":\"DaysTicker\"},{\"attributes\":{\"data\":{},\"selected\":{\"id\":\"5795\"},\"selection_policy\":{\"id\":\"5794\"}},\"id\":\"5769\",\"type\":\"ColumnDataSource\"},{\"attributes\":{\"base\":24,\"mantissas\":[1,2,4,6,8,12],\"max_interval\":43200000.0,\"min_interval\":3600000.0,\"num_minor_ticks\":0},\"id\":\"5755\",\"type\":\"AdaptiveTicker\"},{\"attributes\":{},\"id\":\"6011\",\"type\":\"Selection\"},{\"attributes\":{\"items\":[{\"id\":\"5768\"},{\"id\":\"5796\"}],\"location\":\"top_left\"},\"id\":\"5767\",\"type\":\"Legend\"},{\"attributes\":{\"data_source\":{\"id\":\"5742\"},\"glyph\":{\"id\":\"5743\"},\"hover_glyph\":null,\"muted_glyph\":null,\"nonselection_glyph\":{\"id\":\"5744\"},\"selection_glyph\":null,\"view\":{\"id\":\"5746\"}},\"id\":\"5745\",\"type\":\"GlyphRenderer\"},{\"attributes\":{\"days\":[\"%b %y\"],\"months\":[\"%b %y\"],\"years\":[\"%b %y\"]},\"id\":\"5802\",\"type\":\"DatetimeTickFormatter\"},{\"attributes\":{\"months\":[0,1,2,3,4,5,6,7,8,9,10,11]},\"id\":\"5760\",\"type\":\"MonthsTicker\"},{\"attributes\":{\"axis\":{\"id\":\"5728\"},\"ticker\":null},\"id\":\"5731\",\"type\":\"Grid\"},{\"attributes\":{\"months\":[0,2,4,6,8,10]},\"id\":\"5761\",\"type\":\"MonthsTicker\"},{\"attributes\":{\"days\":[1,4,7,10,13,16,19,22,25,28]},\"id\":\"5757\",\"type\":\"DaysTicker\"},{\"attributes\":{\"num_minor_ticks\":5,\"tickers\":[{\"id\":\"5753\"},{\"id\":\"5754\"},{\"id\":\"5755\"},{\"id\":\"5756\"},{\"id\":\"5757\"},{\"id\":\"5758\"},{\"id\":\"5759\"},{\"id\":\"5760\"},{\"id\":\"5761\"},{\"id\":\"5762\"},{\"id\":\"5763\"},{\"id\":\"5764\"}]},\"id\":\"5729\",\"type\":\"DatetimeTicker\"},{\"attributes\":{\"days\":[1,15]},\"id\":\"5759\",\"type\":\"DaysTicker\"},{\"attributes\":{\"axis_label\":\"Year\",\"formatter\":{\"id\":\"5802\"},\"minor_tick_in\":-6,\"ticker\":{\"id\":\"5729\"}},\"id\":\"5728\",\"type\":\"DatetimeAxis\"},{\"attributes\":{\"months\":[0,6]},\"id\":\"5763\",\"type\":\"MonthsTicker\"},{\"attributes\":{\"days\":[1,8,15,22]},\"id\":\"5758\",\"type\":\"DaysTicker\"},{\"attributes\":{\"label\":{\"value\":\"$25.78, 2015-08-24\"},\"renderers\":[{\"id\":\"5772\"}]},\"id\":\"5796\",\"type\":\"LegendItem\"},{\"attributes\":{},\"id\":\"5764\",\"type\":\"YearsTicker\"},{\"attributes\":{\"data_source\":{\"id\":\"5797\"},\"glyph\":{\"id\":\"5798\"},\"hover_glyph\":null,\"muted_glyph\":null,\"nonselection_glyph\":{\"id\":\"5799\"},\"selection_glyph\":null,\"view\":{\"id\":\"5801\"}},\"id\":\"5800\",\"type\":\"GlyphRenderer\"},{\"attributes\":{\"axis_label\":\"Price\",\"formatter\":{\"id\":\"5752\"},\"major_label_orientation\":\"vertical\",\"ticker\":{\"id\":\"5733\"}},\"id\":\"5732\",\"type\":\"LinearAxis\"},{\"attributes\":{\"months\":[0,4,8]},\"id\":\"5762\",\"type\":\"MonthsTicker\"},{\"attributes\":{},\"id\":\"6010\",\"type\":\"UnionRenderers\"},{\"attributes\":{},\"id\":\"5724\",\"type\":\"LinearScale\"},{\"attributes\":{},\"id\":\"5733\",\"type\":\"BasicTicker\"},{\"attributes\":{},\"id\":\"5726\",\"type\":\"LinearScale\"},{\"attributes\":{},\"id\":\"5794\",\"type\":\"UnionRenderers\"}],\"root_ids\":[\"5719\"]},\"title\":\"Bokeh Application\",\"version\":\"2.1.1\"}};\n",
       "  var render_items = [{\"docid\":\"3ae47f60-d5ee-416f-b1de-8e91bc6ec01c\",\"notebook_comms_target\":\"6012\",\"root_ids\":[\"5719\"],\"roots\":{\"5719\":\"e42266a4-fdc8-4470-a1ad-1acdc91f51d6\"}}];\n",
       "  root.Bokeh.embed.embed_items_notebook(docs_json, render_items);\n",
       "\n",
       "  }\n",
       "  if (root.Bokeh !== undefined) {\n",
       "    embed_document(root);\n",
       "  } else {\n",
       "    var attempts = 0;\n",
       "    var timer = setInterval(function(root) {\n",
       "      if (root.Bokeh !== undefined) {\n",
       "        clearInterval(timer);\n",
       "        embed_document(root);\n",
       "      } else {\n",
       "        attempts++;\n",
       "        if (attempts > 100) {\n",
       "          clearInterval(timer);\n",
       "          console.log(\"Bokeh: ERROR: Unable to run BokehJS code because BokehJS library is missing\");\n",
       "        }\n",
       "      }\n",
       "    }, 10, root)\n",
       "  }\n",
       "})(window);"
      ],
      "application/vnd.bokehjs_exec.v0+json": ""
     },
     "metadata": {
      "application/vnd.bokehjs_exec.v0+json": {
       "id": "5719"
      }
     },
     "output_type": "display_data"
    },
    {
     "data": {
      "text/html": [
       "<p><code>&lt;Bokeh Notebook handle for <strong>In[20]</strong>&gt;</code></p>"
      ],
      "text/plain": [
       "<bokeh.io.notebook.CommsHandle at 0x149cbc1e220>"
      ]
     },
     "execution_count": 20,
     "metadata": {},
     "output_type": "execute_result"
    }
   ],
   "source": [
    "sub=df_app[(df_app['Date']>\"2014-12-31\") & (df_app['Date']<\"2016-01-01\")]\n",
    "output_file(\"APPLE_2015.html\", title=\"APPLE 2015\")\n",
    "p = figure(x_axis_type='datetime', y_axis_type=\"linear\",plot_height = 500,plot_width = 1000,tools=\"\")\n",
    "p.title.text = \"APPLE 2015\"\n",
    "graph(sub,p)\n",
    "show( p , notebook_handle=True) "
   ]
  },
  {
   "cell_type": "markdown",
   "metadata": {},
   "source": [
    "Apple hit peak in February but it continued it streak in April till early August. The iphone 6 series generated nearly 2/3rd of the revenue.\n",
    "- https://www.fool.com/investing/general/2015/08/11/3-reasons-apple-stock-could-rise.aspx\n",
    "- https://www.valuewalk.com/2015/04/apple-stock-on-earnings-release/\n",
    "\n",
    "It announced a €1.7 billion plan to build and operate two data centres in Europe, each powered by 100 percent renewable energy. The facilities, located in County Galway, Ireland, and Denmark’s central Jutland, will power Apple’s online services including the iTunes Store, the App Store, iMessage, Maps and Siri for customers across Europe.\n",
    "- https://www.apple.com/in/newsroom/2015/02/23Apple-to-Invest-1-7-Billion-in-New-European-Data-Centres/"
   ]
  },
  {
   "cell_type": "code",
   "execution_count": 21,
   "metadata": {},
   "outputs": [
    {
     "data": {
      "text/html": [
       "\n",
       "\n",
       "\n",
       "\n",
       "\n",
       "\n",
       "  <div class=\"bk-root\" id=\"4249f3af-c01c-429e-8da7-207cb743cb60\" data-root-id=\"6451\"></div>\n"
      ]
     },
     "metadata": {},
     "output_type": "display_data"
    },
    {
     "data": {
      "application/javascript": [
       "(function(root) {\n",
       "  function embed_document(root) {\n",
       "    \n",
       "  var docs_json = {\"addc6686-9759-4a22-8e29-c48ef361a0db\":{\"roots\":{\"references\":[{\"attributes\":{\"below\":[{\"id\":\"6460\"}],\"center\":[{\"id\":\"6463\"},{\"id\":\"6467\"},{\"id\":\"6499\"}],\"left\":[{\"id\":\"6464\"}],\"plot_height\":500,\"plot_width\":1000,\"renderers\":[{\"id\":\"6477\"},{\"id\":\"6504\"},{\"id\":\"6532\"}],\"title\":{\"id\":\"6469\"},\"toolbar\":{\"id\":\"6468\"},\"x_range\":{\"id\":\"6452\"},\"x_scale\":{\"id\":\"6456\"},\"y_range\":{\"id\":\"6454\"},\"y_scale\":{\"id\":\"6458\"}},\"id\":\"6451\",\"subtype\":\"Figure\",\"type\":\"Plot\"},{\"attributes\":{},\"id\":\"6497\",\"type\":\"UnionRenderers\"},{\"attributes\":{},\"id\":\"6498\",\"type\":\"Selection\"},{\"attributes\":{\"fill_color\":{\"value\":\"green\"},\"line_color\":{\"value\":\"green\"},\"size\":{\"units\":\"screen\",\"value\":10},\"x\":{\"value\":1477353600000.0},\"y\":{\"value\":29.5625}},\"id\":\"6475\",\"type\":\"Circle\"},{\"attributes\":{\"line_color\":\"purple\",\"line_width\":3,\"x\":{\"field\":\"x\"},\"y\":{\"field\":\"y\"}},\"id\":\"6530\",\"type\":\"Line\"},{\"attributes\":{\"label\":{\"value\":\"$29.56, 2016-10-25\"},\"renderers\":[{\"id\":\"6477\"}]},\"id\":\"6500\",\"type\":\"LegendItem\"},{\"attributes\":{\"fill_alpha\":{\"value\":0.1},\"fill_color\":{\"value\":\"red\"},\"line_alpha\":{\"value\":0.1},\"line_color\":{\"value\":\"red\"},\"size\":{\"units\":\"screen\",\"value\":10},\"x\":{\"value\":1463011200000.0},\"y\":{\"value\":22.584999084472656}},\"id\":\"6503\",\"type\":\"Circle\"},{\"attributes\":{\"callback\":null,\"formatters\":{\"adj close\":\"printf\"},\"mode\":\"vline\",\"tooltips\":[[\"close\",\"$@{y}\"]]},\"id\":\"6536\",\"type\":\"HoverTool\"},{\"attributes\":{\"line_alpha\":0.1,\"line_color\":\"purple\",\"line_width\":3,\"x\":{\"field\":\"x\"},\"y\":{\"field\":\"y\"}},\"id\":\"6531\",\"type\":\"Line\"},{\"attributes\":{},\"id\":\"6454\",\"type\":\"DataRange1d\"},{\"attributes\":{\"data_source\":{\"id\":\"6529\"},\"glyph\":{\"id\":\"6530\"},\"hover_glyph\":null,\"muted_glyph\":null,\"nonselection_glyph\":{\"id\":\"6531\"},\"selection_glyph\":null,\"view\":{\"id\":\"6533\"}},\"id\":\"6532\",\"type\":\"GlyphRenderer\"},{\"attributes\":{\"axis\":{\"id\":\"6460\"},\"ticker\":null},\"id\":\"6463\",\"type\":\"Grid\"},{\"attributes\":{\"align\":\"center\",\"text\":\"APPLE 2016\",\"text_color\":{\"value\":\"black\"},\"text_font\":\"calibri\",\"text_font_size\":{\"value\":\"20px\"}},\"id\":\"6469\",\"type\":\"Title\"},{\"attributes\":{\"data\":{\"x\":{\"__ndarray__\":\"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\",\"dtype\":\"float64\",\"order\":\"little\",\"shape\":[252]},\"y\":{\"__ndarray__\":\"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\",\"dtype\":\"float64\",\"order\":\"little\",\"shape\":[252]}},\"selected\":{\"id\":\"6766\"},\"selection_policy\":{\"id\":\"6765\"}},\"id\":\"6529\",\"type\":\"ColumnDataSource\"},{\"attributes\":{\"active_drag\":\"auto\",\"active_inspect\":\"auto\",\"active_multi\":null,\"active_scroll\":\"auto\",\"active_tap\":\"auto\",\"tools\":[{\"id\":\"6536\"}]},\"id\":\"6468\",\"type\":\"Toolbar\"},{\"attributes\":{},\"id\":\"6452\",\"type\":\"DataRange1d\"},{\"attributes\":{\"fill_color\":{\"value\":\"red\"},\"line_color\":{\"value\":\"red\"},\"size\":{\"units\":\"screen\",\"value\":10},\"x\":{\"value\":1463011200000.0},\"y\":{\"value\":22.584999084472656}},\"id\":\"6502\",\"type\":\"Circle\"},{\"attributes\":{\"source\":{\"id\":\"6501\"}},\"id\":\"6505\",\"type\":\"CDSView\"},{\"attributes\":{\"source\":{\"id\":\"6529\"}},\"id\":\"6533\",\"type\":\"CDSView\"},{\"attributes\":{\"mantissas\":[1,2,5],\"max_interval\":500.0,\"num_minor_ticks\":0},\"id\":\"6485\",\"type\":\"AdaptiveTicker\"},{\"attributes\":{},\"id\":\"6484\",\"type\":\"BasicTickFormatter\"},{\"attributes\":{\"base\":60,\"mantissas\":[1,2,5,10,15,20,30],\"max_interval\":1800000.0,\"min_interval\":1000.0,\"num_minor_ticks\":0},\"id\":\"6486\",\"type\":\"AdaptiveTicker\"},{\"attributes\":{},\"id\":\"6465\",\"type\":\"BasicTicker\"},{\"attributes\":{\"source\":{\"id\":\"6474\"}},\"id\":\"6478\",\"type\":\"CDSView\"},{\"attributes\":{\"days\":[1,2,3,4,5,6,7,8,9,10,11,12,13,14,15,16,17,18,19,20,21,22,23,24,25,26,27,28,29,30,31]},\"id\":\"6488\",\"type\":\"DaysTicker\"},{\"attributes\":{\"base\":24,\"mantissas\":[1,2,4,6,8,12],\"max_interval\":43200000.0,\"min_interval\":3600000.0,\"num_minor_ticks\":0},\"id\":\"6487\",\"type\":\"AdaptiveTicker\"},{\"attributes\":{\"fill_alpha\":{\"value\":0.1},\"fill_color\":{\"value\":\"green\"},\"line_alpha\":{\"value\":0.1},\"line_color\":{\"value\":\"green\"},\"size\":{\"units\":\"screen\",\"value\":10},\"x\":{\"value\":1477353600000.0},\"y\":{\"value\":29.5625}},\"id\":\"6476\",\"type\":\"Circle\"},{\"attributes\":{\"months\":[0,1,2,3,4,5,6,7,8,9,10,11]},\"id\":\"6492\",\"type\":\"MonthsTicker\"},{\"attributes\":{\"data\":{},\"selected\":{\"id\":\"6527\"},\"selection_policy\":{\"id\":\"6526\"}},\"id\":\"6501\",\"type\":\"ColumnDataSource\"},{\"attributes\":{\"num_minor_ticks\":5,\"tickers\":[{\"id\":\"6485\"},{\"id\":\"6486\"},{\"id\":\"6487\"},{\"id\":\"6488\"},{\"id\":\"6489\"},{\"id\":\"6490\"},{\"id\":\"6491\"},{\"id\":\"6492\"},{\"id\":\"6493\"},{\"id\":\"6494\"},{\"id\":\"6495\"},{\"id\":\"6496\"}]},\"id\":\"6461\",\"type\":\"DatetimeTicker\"},{\"attributes\":{},\"id\":\"6458\",\"type\":\"LinearScale\"},{\"attributes\":{\"months\":[0,2,4,6,8,10]},\"id\":\"6493\",\"type\":\"MonthsTicker\"},{\"attributes\":{\"days\":[1,4,7,10,13,16,19,22,25,28]},\"id\":\"6489\",\"type\":\"DaysTicker\"},{\"attributes\":{},\"id\":\"6765\",\"type\":\"UnionRenderers\"},{\"attributes\":{\"days\":[1,15]},\"id\":\"6491\",\"type\":\"DaysTicker\"},{\"attributes\":{\"items\":[{\"id\":\"6500\"},{\"id\":\"6528\"}],\"location\":\"top_left\"},\"id\":\"6499\",\"type\":\"Legend\"},{\"attributes\":{\"days\":[\"%b %y\"],\"months\":[\"%b %y\"],\"years\":[\"%b %y\"]},\"id\":\"6534\",\"type\":\"DatetimeTickFormatter\"},{\"attributes\":{\"months\":[0,6]},\"id\":\"6495\",\"type\":\"MonthsTicker\"},{\"attributes\":{\"data_source\":{\"id\":\"6474\"},\"glyph\":{\"id\":\"6475\"},\"hover_glyph\":null,\"muted_glyph\":null,\"nonselection_glyph\":{\"id\":\"6476\"},\"selection_glyph\":null,\"view\":{\"id\":\"6478\"}},\"id\":\"6477\",\"type\":\"GlyphRenderer\"},{\"attributes\":{\"days\":[1,8,15,22]},\"id\":\"6490\",\"type\":\"DaysTicker\"},{\"attributes\":{\"label\":{\"value\":\"$22.58, 2016-05-12\"},\"renderers\":[{\"id\":\"6504\"}]},\"id\":\"6528\",\"type\":\"LegendItem\"},{\"attributes\":{\"axis_label\":\"Year\",\"formatter\":{\"id\":\"6534\"},\"minor_tick_in\":-6,\"ticker\":{\"id\":\"6461\"}},\"id\":\"6460\",\"type\":\"DatetimeAxis\"},{\"attributes\":{},\"id\":\"6496\",\"type\":\"YearsTicker\"},{\"attributes\":{\"axis\":{\"id\":\"6464\"},\"dimension\":1,\"ticker\":null},\"id\":\"6467\",\"type\":\"Grid\"},{\"attributes\":{\"months\":[0,4,8]},\"id\":\"6494\",\"type\":\"MonthsTicker\"},{\"attributes\":{\"data\":{},\"selected\":{\"id\":\"6498\"},\"selection_policy\":{\"id\":\"6497\"}},\"id\":\"6474\",\"type\":\"ColumnDataSource\"},{\"attributes\":{},\"id\":\"6766\",\"type\":\"Selection\"},{\"attributes\":{},\"id\":\"6526\",\"type\":\"UnionRenderers\"},{\"attributes\":{\"axis_label\":\"Price\",\"formatter\":{\"id\":\"6484\"},\"major_label_orientation\":\"vertical\",\"ticker\":{\"id\":\"6465\"}},\"id\":\"6464\",\"type\":\"LinearAxis\"},{\"attributes\":{},\"id\":\"6456\",\"type\":\"LinearScale\"},{\"attributes\":{},\"id\":\"6527\",\"type\":\"Selection\"},{\"attributes\":{\"data_source\":{\"id\":\"6501\"},\"glyph\":{\"id\":\"6502\"},\"hover_glyph\":null,\"muted_glyph\":null,\"nonselection_glyph\":{\"id\":\"6503\"},\"selection_glyph\":null,\"view\":{\"id\":\"6505\"}},\"id\":\"6504\",\"type\":\"GlyphRenderer\"}],\"root_ids\":[\"6451\"]},\"title\":\"Bokeh Application\",\"version\":\"2.1.1\"}};\n",
       "  var render_items = [{\"docid\":\"addc6686-9759-4a22-8e29-c48ef361a0db\",\"notebook_comms_target\":\"6767\",\"root_ids\":[\"6451\"],\"roots\":{\"6451\":\"4249f3af-c01c-429e-8da7-207cb743cb60\"}}];\n",
       "  root.Bokeh.embed.embed_items_notebook(docs_json, render_items);\n",
       "\n",
       "  }\n",
       "  if (root.Bokeh !== undefined) {\n",
       "    embed_document(root);\n",
       "  } else {\n",
       "    var attempts = 0;\n",
       "    var timer = setInterval(function(root) {\n",
       "      if (root.Bokeh !== undefined) {\n",
       "        clearInterval(timer);\n",
       "        embed_document(root);\n",
       "      } else {\n",
       "        attempts++;\n",
       "        if (attempts > 100) {\n",
       "          clearInterval(timer);\n",
       "          console.log(\"Bokeh: ERROR: Unable to run BokehJS code because BokehJS library is missing\");\n",
       "        }\n",
       "      }\n",
       "    }, 10, root)\n",
       "  }\n",
       "})(window);"
      ],
      "application/vnd.bokehjs_exec.v0+json": ""
     },
     "metadata": {
      "application/vnd.bokehjs_exec.v0+json": {
       "id": "6451"
      }
     },
     "output_type": "display_data"
    },
    {
     "data": {
      "text/html": [
       "<p><code>&lt;Bokeh Notebook handle for <strong>In[21]</strong>&gt;</code></p>"
      ],
      "text/plain": [
       "<bokeh.io.notebook.CommsHandle at 0x149cbc45ac0>"
      ]
     },
     "execution_count": 21,
     "metadata": {},
     "output_type": "execute_result"
    }
   ],
   "source": [
    "sub=df_app[(df_app['Date']>\"2015-12-31\") & (df_app['Date']<\"2017-01-01\")]\n",
    "output_file(\"APPLE_2016.html\", title=\"APPLE 2016\")\n",
    "p = figure(x_axis_type='datetime', y_axis_type=\"linear\",plot_height = 500,plot_width = 1000,tools=\"\")\n",
    "p.title.text = \"APPLE 2016\"\n",
    "graph(sub,p)\n",
    "show( p , notebook_handle=True) "
   ]
  },
  {
   "cell_type": "markdown",
   "metadata": {},
   "source": [
    "25 October 2016 — Apple® today announced financial results for its fiscal 2016 fourth quarter ended 24 September 2016. The Company posted quarterly revenue of 46.9 billion and quarterly net income of 9 billion, or 1.67 per diluted share. These results compare to revenue of 51.5 billion and net income of 11.1 billion, or 1.96 per diluted share, in the year-ago quarter. Gross margin was 38 percent compared to 39.9 percent in the year-ago quarter. International sales accounted for 62 percent of the quarter’s revenue.\n",
    "- https://www.apple.com/in/newsroom/2016/10/apple-reports-fourth-quarter-results/"
   ]
  },
  {
   "cell_type": "code",
   "execution_count": 22,
   "metadata": {},
   "outputs": [
    {
     "data": {
      "text/html": [
       "\n",
       "\n",
       "\n",
       "\n",
       "\n",
       "\n",
       "  <div class=\"bk-root\" id=\"542e4ef7-87fe-4261-9c07-ef4522580a84\" data-root-id=\"7206\"></div>\n"
      ]
     },
     "metadata": {},
     "output_type": "display_data"
    },
    {
     "data": {
      "application/javascript": [
       "(function(root) {\n",
       "  function embed_document(root) {\n",
       "    \n",
       "  var docs_json = {\"242f5bb6-f40c-4b88-8de8-0467f940446f\":{\"roots\":{\"references\":[{\"attributes\":{\"below\":[{\"id\":\"7215\"}],\"center\":[{\"id\":\"7218\"},{\"id\":\"7222\"},{\"id\":\"7254\"}],\"left\":[{\"id\":\"7219\"}],\"plot_height\":500,\"plot_width\":1000,\"renderers\":[{\"id\":\"7232\"},{\"id\":\"7259\"},{\"id\":\"7287\"}],\"title\":{\"id\":\"7224\"},\"toolbar\":{\"id\":\"7223\"},\"x_range\":{\"id\":\"7207\"},\"x_scale\":{\"id\":\"7211\"},\"y_range\":{\"id\":\"7209\"},\"y_scale\":{\"id\":\"7213\"}},\"id\":\"7206\",\"subtype\":\"Figure\",\"type\":\"Plot\"},{\"attributes\":{},\"id\":\"7281\",\"type\":\"UnionRenderers\"},{\"attributes\":{},\"id\":\"7239\",\"type\":\"BasicTickFormatter\"},{\"attributes\":{},\"id\":\"7252\",\"type\":\"UnionRenderers\"},{\"attributes\":{},\"id\":\"7282\",\"type\":\"Selection\"},{\"attributes\":{\"num_minor_ticks\":5,\"tickers\":[{\"id\":\"7240\"},{\"id\":\"7241\"},{\"id\":\"7242\"},{\"id\":\"7243\"},{\"id\":\"7244\"},{\"id\":\"7245\"},{\"id\":\"7246\"},{\"id\":\"7247\"},{\"id\":\"7248\"},{\"id\":\"7249\"},{\"id\":\"7250\"},{\"id\":\"7251\"}]},\"id\":\"7216\",\"type\":\"DatetimeTicker\"},{\"attributes\":{},\"id\":\"7253\",\"type\":\"Selection\"},{\"attributes\":{\"line_color\":\"purple\",\"line_width\":3,\"x\":{\"field\":\"x\"},\"y\":{\"field\":\"y\"}},\"id\":\"7285\",\"type\":\"Line\"},{\"attributes\":{\"label\":{\"value\":\"$44.1, 2017-12-18\"},\"renderers\":[{\"id\":\"7232\"}]},\"id\":\"7255\",\"type\":\"LegendItem\"},{\"attributes\":{\"active_drag\":\"auto\",\"active_inspect\":\"auto\",\"active_multi\":null,\"active_scroll\":\"auto\",\"active_tap\":\"auto\",\"tools\":[{\"id\":\"7291\"}]},\"id\":\"7223\",\"type\":\"Toolbar\"},{\"attributes\":{\"callback\":null,\"formatters\":{\"adj close\":\"printf\"},\"mode\":\"vline\",\"tooltips\":[[\"close\",\"$@{y}\"]]},\"id\":\"7291\",\"type\":\"HoverTool\"},{\"attributes\":{\"axis\":{\"id\":\"7219\"},\"dimension\":1,\"ticker\":null},\"id\":\"7222\",\"type\":\"Grid\"},{\"attributes\":{\"line_alpha\":0.1,\"line_color\":\"purple\",\"line_width\":3,\"x\":{\"field\":\"x\"},\"y\":{\"field\":\"y\"}},\"id\":\"7286\",\"type\":\"Line\"},{\"attributes\":{\"axis\":{\"id\":\"7215\"},\"ticker\":null},\"id\":\"7218\",\"type\":\"Grid\"},{\"attributes\":{\"data_source\":{\"id\":\"7229\"},\"glyph\":{\"id\":\"7230\"},\"hover_glyph\":null,\"muted_glyph\":null,\"nonselection_glyph\":{\"id\":\"7231\"},\"selection_glyph\":null,\"view\":{\"id\":\"7233\"}},\"id\":\"7232\",\"type\":\"GlyphRenderer\"},{\"attributes\":{\"data_source\":{\"id\":\"7284\"},\"glyph\":{\"id\":\"7285\"},\"hover_glyph\":null,\"muted_glyph\":null,\"nonselection_glyph\":{\"id\":\"7286\"},\"selection_glyph\":null,\"view\":{\"id\":\"7288\"}},\"id\":\"7287\",\"type\":\"GlyphRenderer\"},{\"attributes\":{\"fill_alpha\":{\"value\":0.1},\"fill_color\":{\"value\":\"green\"},\"line_alpha\":{\"value\":0.1},\"line_color\":{\"value\":\"green\"},\"size\":{\"units\":\"screen\",\"value\":10},\"x\":{\"value\":1513555200000.0},\"y\":{\"value\":44.10499954223633}},\"id\":\"7231\",\"type\":\"Circle\"},{\"attributes\":{\"fill_alpha\":{\"value\":0.1},\"fill_color\":{\"value\":\"red\"},\"line_alpha\":{\"value\":0.1},\"line_color\":{\"value\":\"red\"},\"size\":{\"units\":\"screen\",\"value\":10},\"x\":{\"value\":1483488000000.0},\"y\":{\"value\":29.0049991607666}},\"id\":\"7258\",\"type\":\"Circle\"},{\"attributes\":{\"source\":{\"id\":\"7229\"}},\"id\":\"7233\",\"type\":\"CDSView\"},{\"attributes\":{\"data\":{\"x\":{\"__ndarray__\":\"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\",\"dtype\":\"float64\",\"order\":\"little\",\"shape\":[251]},\"y\":{\"__ndarray__\":\"AAAAoJkJPUAAAACgRwE9QAAAAEAKJz1AAAAAgD16PUAAAAAgXL89QAAAAEAKxz1AAAAAAADwPUAAAAAAANA9QAAAAGCPwj1AAAAAAAAAPkAAAAAgXP89QAAAAIDr8T1AAAAAAAAAPkAAAADAHgU+QAAAAIAU/j1AAAAA4FF4PkAAAAAAKXw+QAAAAMDMfD5AAAAA4FFoPkAAAABgZlY+QAAAAAAAGEBAAAAAwPUQQEAAAABgjyJAQAAAAKBHSUBAAAAAwPVwQEAAAACgR4FAQAAAAKBwjUBAAAAAANeDQEAAAACgR6lAQAAAAOCj4EBAAAAA4FHwQEAAAABAM+tAQAAAAEAK90BAAAAAYGYWQUAAAAAghSNBQAAAAMD1EEFAAAAAwB4VQUAAAACAwh1BQAAAACCuH0FAAAAAoEd5QUAAAABguF5BQAAAAMD1eEFAAAAAQOFqQUAAAADgo3BBQAAAAAAAYEFAAAAAgMJVQUAAAADgemRBQAAAAGBmZkFAAAAAIK5fQUAAAABguI5BQAAAAIAUlkFAAAAAIK5/QUAAAABguK5BQAAAAEDhekFAAAAAoHCtQUAAAACgcJ1BQAAAAOB6lEFAAAAAACmcQUAAAACgmflBQAAAAADXA0JAAAAAgML9QUAAAADAHvVBQAAAAGBm9kFAAAAA4KMYQkAAAADgowBCQAAAAMAe9UFAAAAAQOHqQUAAAACgcOVBQAAAAAAptEFAAAAAoJm5QUAAAACgmaFBQAAAAGCPukFAAAAAYGamQUAAAACAwpVBQAAAAIAUzkFAAAAA4KPIQUAAAADgevRBQAAAAMD1EEJAAAAAgML1QUAAAACgR/lBQAAAAMDM9EFAAAAAYI9SQkAAAADgUXBCQAAAAIDrYUJAAAAAwPVQQkAAAABguJ5CQAAAAOBRIENAAAAAIK4/Q0AAAADgUShDQAAAAGBmPkNAAAAAQDODQ0AAAABgZnZDQAAAAEAKb0NAAAAAAADIQkAAAACgRxFDQAAAAIDrIUNAAAAAIK4/Q0AAAACgmTlDQAAAAEDhKkNAAAAAANc7Q0AAAAAghTNDQAAAAKBwNUNAAAAA4FEYQ0AAAACAwiVDQAAAAGBmbkNAAAAAgMI9Q0AAAABgZk5DQAAAAADXa0NAAAAAIK5fQ0AAAAAgXJ9CQAAAAKBwLUJAAAAAQOFSQkAAAADAHiVCQAAAAKBHCUJAAAAA4KPIQUAAAABA4UpCQAAAAOBRIEJAAAAAANc7QkAAAAAAKTRCQAAAAMD1SEJAAAAAgD06QkAAAAAgXPdBQAAAAGCPOkJAAAAAgML1QUAAAADgowBCQAAAAAAA8EFAAAAAQOECQkAAAAAgXNdBQAAAAIDCBUJAAAAAgOshQkAAAADA9TBCQAAAACCuN0JAAAAA4KN4QkAAAACgR6FCQAAAAIDrsUJAAAAAYI/CQkAAAADgo+BCQAAAAEDhykJAAAAA4KPIQkAAAABA4QJDQAAAACCuF0NAAAAAYLguQ0AAAACA69FCQAAAAAAAsEJAAAAAIFyXQkAAAACgmcFCQAAAAOB6pENAAAAAgD1yQ0AAAADgeoxDQAAAAIDr2UNAAAAAYI8CREAAAACA6yFEQAAAAIA9akNAAAAAIFyvQ0AAAABAM/tDQAAAAEAzM0RAAAAAYGYeREAAAAAghbtDQAAAAAAAsENAAAAAYLimQ0AAAADA9fhDQAAAACBc/0NAAAAA4KPoQ0AAAAAghftDQAAAAEAKL0RAAAAAwB5dREAAAABAM2tEQAAAAAAAgERAAAAAoJmBREAAAABgj0JEQAAAAMAePURAAAAA4FEoREAAAAAAKdRDQAAAAAAAMERAAAAAIIUbREAAAADAzPRDQAAAAMD1yENAAAAAACn8Q0AAAACgcNVDQAAAACBc10NAAAAAgD2CQ0AAAADgeixDQAAAAOB6/EJAAAAAoJnRQkAAAADgeiRDQAAAACBcR0NAAAAAwPUoQ0AAAAAA10NDQAAAAIDrOUNAAAAAIFxPQ0AAAAAgXC9DQAAAAOB6bENAAAAAoJlpQ0AAAABA4XpDQAAAAMDMfENAAAAAoJmRQ0AAAAAAAIBDQAAAACCun0NAAAAAACn8Q0AAAABACg9EQAAAAOBR+ENAAAAAIFx/Q0AAAAAAAIhDQAAAAKBwhUNAAAAAQDOjQ0AAAADAHo1DQAAAAMAerUNAAAAAoJlhREAAAABACtdEQAAAAKBHIUVAAAAA4HrcREAAAAAghQNFQAAAAAAAkEVAAAAAAADIRUAAAACA69lFQAAAACCuB0ZAAAAAACn8RUAAAACgcNVFQAAAAEAKv0VAAAAAQOFqRUAAAABgjyJFQAAAAEAzY0VAAAAAwMxERUAAAAAgXD9FQAAAAOB6pEVAAAAAYLjeRUAAAABACt9FQAAAAEDhwkVAAAAAgD2iRUAAAAAgXC9FQAAAAEAze0VAAAAAoJlhRUAAAACgmTlFQAAAAOB6NEVAAAAA4FEgRUAAAACAPSpFQAAAAADXK0VAAAAAoHCVRUAAAABgZnZFQAAAAOCjiEVAAAAAQAqHRUAAAABACr9FQAAAAKBwDUZAAAAAoEfRRUAAAABAM8tFQAAAAOBR4EVAAAAA4FHgRUAAAACAPVJFQAAAAEAzU0VAAAAAYI9iRUAAAAAgXCdFQA==\",\"dtype\":\"float64\",\"order\":\"little\",\"shape\":[251]}},\"selected\":{\"id\":\"7544\"},\"selection_policy\":{\"id\":\"7543\"}},\"id\":\"7284\",\"type\":\"ColumnDataSource\"},{\"attributes\":{\"axis_label\":\"Price\",\"formatter\":{\"id\":\"7239\"},\"major_label_orientation\":\"vertical\",\"ticker\":{\"id\":\"7220\"}},\"id\":\"7219\",\"type\":\"LinearAxis\"},{\"attributes\":{\"source\":{\"id\":\"7284\"}},\"id\":\"7288\",\"type\":\"CDSView\"},{\"attributes\":{\"items\":[{\"id\":\"7255\"},{\"id\":\"7283\"}],\"location\":\"top_left\"},\"id\":\"7254\",\"type\":\"Legend\"},{\"attributes\":{\"mantissas\":[1,2,5],\"max_interval\":500.0,\"num_minor_ticks\":0},\"id\":\"7240\",\"type\":\"AdaptiveTicker\"},{\"attributes\":{},\"id\":\"7220\",\"type\":\"BasicTicker\"},{\"attributes\":{\"base\":60,\"mantissas\":[1,2,5,10,15,20,30],\"max_interval\":1800000.0,\"min_interval\":1000.0,\"num_minor_ticks\":0},\"id\":\"7241\",\"type\":\"AdaptiveTicker\"},{\"attributes\":{},\"id\":\"7207\",\"type\":\"DataRange1d\"},{\"attributes\":{\"days\":[1,2,3,4,5,6,7,8,9,10,11,12,13,14,15,16,17,18,19,20,21,22,23,24,25,26,27,28,29,30,31]},\"id\":\"7243\",\"type\":\"DaysTicker\"},{\"attributes\":{\"data\":{},\"selected\":{\"id\":\"7253\"},\"selection_policy\":{\"id\":\"7252\"}},\"id\":\"7229\",\"type\":\"ColumnDataSource\"},{\"attributes\":{\"base\":24,\"mantissas\":[1,2,4,6,8,12],\"max_interval\":43200000.0,\"min_interval\":3600000.0,\"num_minor_ticks\":0},\"id\":\"7242\",\"type\":\"AdaptiveTicker\"},{\"attributes\":{\"months\":[0,1,2,3,4,5,6,7,8,9,10,11]},\"id\":\"7247\",\"type\":\"MonthsTicker\"},{\"attributes\":{},\"id\":\"7211\",\"type\":\"LinearScale\"},{\"attributes\":{\"months\":[0,2,4,6,8,10]},\"id\":\"7248\",\"type\":\"MonthsTicker\"},{\"attributes\":{},\"id\":\"7209\",\"type\":\"DataRange1d\"},{\"attributes\":{\"align\":\"center\",\"text\":\"APPLE 2017\",\"text_color\":{\"value\":\"black\"},\"text_font\":\"calibri\",\"text_font_size\":{\"value\":\"20px\"}},\"id\":\"7224\",\"type\":\"Title\"},{\"attributes\":{\"days\":[1,4,7,10,13,16,19,22,25,28]},\"id\":\"7244\",\"type\":\"DaysTicker\"},{\"attributes\":{},\"id\":\"7213\",\"type\":\"LinearScale\"},{\"attributes\":{\"data\":{},\"selected\":{\"id\":\"7282\"},\"selection_policy\":{\"id\":\"7281\"}},\"id\":\"7256\",\"type\":\"ColumnDataSource\"},{\"attributes\":{\"days\":[1,15]},\"id\":\"7246\",\"type\":\"DaysTicker\"},{\"attributes\":{\"months\":[0,6]},\"id\":\"7250\",\"type\":\"MonthsTicker\"},{\"attributes\":{},\"id\":\"7544\",\"type\":\"Selection\"},{\"attributes\":{\"source\":{\"id\":\"7256\"}},\"id\":\"7260\",\"type\":\"CDSView\"},{\"attributes\":{\"axis_label\":\"Year\",\"formatter\":{\"id\":\"7289\"},\"minor_tick_in\":-6,\"ticker\":{\"id\":\"7216\"}},\"id\":\"7215\",\"type\":\"DatetimeAxis\"},{\"attributes\":{\"label\":{\"value\":\"$29.0, 2017-01-04\"},\"renderers\":[{\"id\":\"7259\"}]},\"id\":\"7283\",\"type\":\"LegendItem\"},{\"attributes\":{\"data_source\":{\"id\":\"7256\"},\"glyph\":{\"id\":\"7257\"},\"hover_glyph\":null,\"muted_glyph\":null,\"nonselection_glyph\":{\"id\":\"7258\"},\"selection_glyph\":null,\"view\":{\"id\":\"7260\"}},\"id\":\"7259\",\"type\":\"GlyphRenderer\"},{\"attributes\":{\"days\":[\"%b %y\"],\"months\":[\"%b %y\"],\"years\":[\"%b %y\"]},\"id\":\"7289\",\"type\":\"DatetimeTickFormatter\"},{\"attributes\":{\"days\":[1,8,15,22]},\"id\":\"7245\",\"type\":\"DaysTicker\"},{\"attributes\":{},\"id\":\"7251\",\"type\":\"YearsTicker\"},{\"attributes\":{\"fill_color\":{\"value\":\"red\"},\"line_color\":{\"value\":\"red\"},\"size\":{\"units\":\"screen\",\"value\":10},\"x\":{\"value\":1483488000000.0},\"y\":{\"value\":29.0049991607666}},\"id\":\"7257\",\"type\":\"Circle\"},{\"attributes\":{\"months\":[0,4,8]},\"id\":\"7249\",\"type\":\"MonthsTicker\"},{\"attributes\":{\"fill_color\":{\"value\":\"green\"},\"line_color\":{\"value\":\"green\"},\"size\":{\"units\":\"screen\",\"value\":10},\"x\":{\"value\":1513555200000.0},\"y\":{\"value\":44.10499954223633}},\"id\":\"7230\",\"type\":\"Circle\"},{\"attributes\":{},\"id\":\"7543\",\"type\":\"UnionRenderers\"}],\"root_ids\":[\"7206\"]},\"title\":\"Bokeh Application\",\"version\":\"2.1.1\"}};\n",
       "  var render_items = [{\"docid\":\"242f5bb6-f40c-4b88-8de8-0467f940446f\",\"notebook_comms_target\":\"7545\",\"root_ids\":[\"7206\"],\"roots\":{\"7206\":\"542e4ef7-87fe-4261-9c07-ef4522580a84\"}}];\n",
       "  root.Bokeh.embed.embed_items_notebook(docs_json, render_items);\n",
       "\n",
       "  }\n",
       "  if (root.Bokeh !== undefined) {\n",
       "    embed_document(root);\n",
       "  } else {\n",
       "    var attempts = 0;\n",
       "    var timer = setInterval(function(root) {\n",
       "      if (root.Bokeh !== undefined) {\n",
       "        clearInterval(timer);\n",
       "        embed_document(root);\n",
       "      } else {\n",
       "        attempts++;\n",
       "        if (attempts > 100) {\n",
       "          clearInterval(timer);\n",
       "          console.log(\"Bokeh: ERROR: Unable to run BokehJS code because BokehJS library is missing\");\n",
       "        }\n",
       "      }\n",
       "    }, 10, root)\n",
       "  }\n",
       "})(window);"
      ],
      "application/vnd.bokehjs_exec.v0+json": ""
     },
     "metadata": {
      "application/vnd.bokehjs_exec.v0+json": {
       "id": "7206"
      }
     },
     "output_type": "display_data"
    },
    {
     "data": {
      "text/html": [
       "<p><code>&lt;Bokeh Notebook handle for <strong>In[22]</strong>&gt;</code></p>"
      ],
      "text/plain": [
       "<bokeh.io.notebook.CommsHandle at 0x149cbc0ed60>"
      ]
     },
     "execution_count": 22,
     "metadata": {},
     "output_type": "execute_result"
    }
   ],
   "source": [
    "sub=df_app[(df_app['Date']>\"2016-12-31\") & (df_app['Date']<\"2018-01-01\")]\n",
    "output_file(\"APPLE_2017.html\", title=\"APPLE 2017\")\n",
    "p = figure(x_axis_type='datetime', y_axis_type=\"linear\",plot_height = 500,plot_width = 1000,tools=\"\")\n",
    "p.title.text = \"APPLE 2017\"\n",
    "graph(sub,p)\n",
    "show( p , notebook_handle=True) "
   ]
  },
  {
   "cell_type": "markdown",
   "metadata": {},
   "source": [
    "Apple soared through 2017. Its lowest stock price was on the 4th Jan, the first day of the year. Since then it only went up through the year. Apple also release lot of new devices - iPad 5th Gen in March, iPad Pro, new model of MacBookPro, Macbook Air was release in June, iMac in June, Apple TV in December, iPhone 8 and iPhone 8 Plus and Apple Watch Series 3. The highest stock value was in December 18th. \n",
    "- https://www.fool.com/investing/2018/01/24/why-apple-inc-stock-soared-46-in-2017.aspx\n",
    "- https://www.macrumors.com/2017/12/28/everything-apple-introduced-in-2017/"
   ]
  },
  {
   "cell_type": "code",
   "execution_count": 23,
   "metadata": {},
   "outputs": [
    {
     "data": {
      "text/html": [
       "\n",
       "\n",
       "\n",
       "\n",
       "\n",
       "\n",
       "  <div class=\"bk-root\" id=\"b7c7cf0f-4c00-4e03-ad70-ba7b65270b18\" data-root-id=\"7984\"></div>\n"
      ]
     },
     "metadata": {},
     "output_type": "display_data"
    },
    {
     "data": {
      "application/javascript": [
       "(function(root) {\n",
       "  function embed_document(root) {\n",
       "    \n",
       "  var docs_json = {\"909e4610-2c03-46a5-8e2e-c88f9c856b81\":{\"roots\":{\"references\":[{\"attributes\":{\"below\":[{\"id\":\"7993\"}],\"center\":[{\"id\":\"7996\"},{\"id\":\"8000\"},{\"id\":\"8032\"}],\"left\":[{\"id\":\"7997\"}],\"plot_height\":500,\"plot_width\":1000,\"renderers\":[{\"id\":\"8010\"},{\"id\":\"8037\"},{\"id\":\"8065\"}],\"title\":{\"id\":\"8002\"},\"toolbar\":{\"id\":\"8001\"},\"x_range\":{\"id\":\"7985\"},\"x_scale\":{\"id\":\"7989\"},\"y_range\":{\"id\":\"7987\"},\"y_scale\":{\"id\":\"7991\"}},\"id\":\"7984\",\"subtype\":\"Figure\",\"type\":\"Plot\"},{\"attributes\":{\"items\":[{\"id\":\"8033\"},{\"id\":\"8061\"}],\"location\":\"top_left\"},\"id\":\"8032\",\"type\":\"Legend\"},{\"attributes\":{\"callback\":null,\"formatters\":{\"adj close\":\"printf\"},\"mode\":\"vline\",\"tooltips\":[[\"close\",\"$@{y}\"]]},\"id\":\"8069\",\"type\":\"HoverTool\"},{\"attributes\":{\"data_source\":{\"id\":\"8007\"},\"glyph\":{\"id\":\"8008\"},\"hover_glyph\":null,\"muted_glyph\":null,\"nonselection_glyph\":{\"id\":\"8009\"},\"selection_glyph\":null,\"view\":{\"id\":\"8011\"}},\"id\":\"8010\",\"type\":\"GlyphRenderer\"},{\"attributes\":{\"num_minor_ticks\":5,\"tickers\":[{\"id\":\"8018\"},{\"id\":\"8019\"},{\"id\":\"8020\"},{\"id\":\"8021\"},{\"id\":\"8022\"},{\"id\":\"8023\"},{\"id\":\"8024\"},{\"id\":\"8025\"},{\"id\":\"8026\"},{\"id\":\"8027\"},{\"id\":\"8028\"},{\"id\":\"8029\"}]},\"id\":\"7994\",\"type\":\"DatetimeTicker\"},{\"attributes\":{\"label\":{\"value\":\"$58.02, 2018-10-03\"},\"renderers\":[{\"id\":\"8010\"}]},\"id\":\"8033\",\"type\":\"LegendItem\"},{\"attributes\":{},\"id\":\"8344\",\"type\":\"UnionRenderers\"},{\"attributes\":{\"axis_label\":\"Price\",\"formatter\":{\"id\":\"8017\"},\"major_label_orientation\":\"vertical\",\"ticker\":{\"id\":\"7998\"}},\"id\":\"7997\",\"type\":\"LinearAxis\"},{\"attributes\":{},\"id\":\"8345\",\"type\":\"Selection\"},{\"attributes\":{\"axis\":{\"id\":\"7993\"},\"ticker\":null},\"id\":\"7996\",\"type\":\"Grid\"},{\"attributes\":{},\"id\":\"8059\",\"type\":\"UnionRenderers\"},{\"attributes\":{\"axis\":{\"id\":\"7997\"},\"dimension\":1,\"ticker\":null},\"id\":\"8000\",\"type\":\"Grid\"},{\"attributes\":{\"active_drag\":\"auto\",\"active_inspect\":\"auto\",\"active_multi\":null,\"active_scroll\":\"auto\",\"active_tap\":\"auto\",\"tools\":[{\"id\":\"8069\"}]},\"id\":\"8001\",\"type\":\"Toolbar\"},{\"attributes\":{},\"id\":\"7987\",\"type\":\"DataRange1d\"},{\"attributes\":{},\"id\":\"7998\",\"type\":\"BasicTicker\"},{\"attributes\":{},\"id\":\"8030\",\"type\":\"UnionRenderers\"},{\"attributes\":{},\"id\":\"8060\",\"type\":\"Selection\"},{\"attributes\":{},\"id\":\"8031\",\"type\":\"Selection\"},{\"attributes\":{\"days\":[1,8,15,22]},\"id\":\"8023\",\"type\":\"DaysTicker\"},{\"attributes\":{\"days\":[1,15]},\"id\":\"8024\",\"type\":\"DaysTicker\"},{\"attributes\":{},\"id\":\"8017\",\"type\":\"BasicTickFormatter\"},{\"attributes\":{},\"id\":\"7985\",\"type\":\"DataRange1d\"},{\"attributes\":{\"months\":[0,1,2,3,4,5,6,7,8,9,10,11]},\"id\":\"8025\",\"type\":\"MonthsTicker\"},{\"attributes\":{\"days\":[\"%b %y\"],\"months\":[\"%b %y\"],\"years\":[\"%b %y\"]},\"id\":\"8067\",\"type\":\"DatetimeTickFormatter\"},{\"attributes\":{\"data\":{},\"selected\":{\"id\":\"8060\"},\"selection_policy\":{\"id\":\"8059\"}},\"id\":\"8034\",\"type\":\"ColumnDataSource\"},{\"attributes\":{\"line_alpha\":0.1,\"line_color\":\"purple\",\"line_width\":3,\"x\":{\"field\":\"x\"},\"y\":{\"field\":\"y\"}},\"id\":\"8064\",\"type\":\"Line\"},{\"attributes\":{\"line_color\":\"purple\",\"line_width\":3,\"x\":{\"field\":\"x\"},\"y\":{\"field\":\"y\"}},\"id\":\"8063\",\"type\":\"Line\"},{\"attributes\":{\"base\":24,\"mantissas\":[1,2,4,6,8,12],\"max_interval\":43200000.0,\"min_interval\":3600000.0,\"num_minor_ticks\":0},\"id\":\"8020\",\"type\":\"AdaptiveTicker\"},{\"attributes\":{\"data_source\":{\"id\":\"8062\"},\"glyph\":{\"id\":\"8063\"},\"hover_glyph\":null,\"muted_glyph\":null,\"nonselection_glyph\":{\"id\":\"8064\"},\"selection_glyph\":null,\"view\":{\"id\":\"8066\"}},\"id\":\"8065\",\"type\":\"GlyphRenderer\"},{\"attributes\":{\"months\":[0,2,4,6,8,10]},\"id\":\"8026\",\"type\":\"MonthsTicker\"},{\"attributes\":{\"data\":{\"x\":{\"__ndarray__\":\"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\",\"dtype\":\"float64\",\"order\":\"little\",\"shape\":[251]},\"y\":{\"__ndarray__\":\"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\",\"dtype\":\"float64\",\"order\":\"little\",\"shape\":[251]}},\"selected\":{\"id\":\"8345\"},\"selection_policy\":{\"id\":\"8344\"}},\"id\":\"8062\",\"type\":\"ColumnDataSource\"},{\"attributes\":{\"base\":60,\"mantissas\":[1,2,5,10,15,20,30],\"max_interval\":1800000.0,\"min_interval\":1000.0,\"num_minor_ticks\":0},\"id\":\"8019\",\"type\":\"AdaptiveTicker\"},{\"attributes\":{\"source\":{\"id\":\"8062\"}},\"id\":\"8066\",\"type\":\"CDSView\"},{\"attributes\":{\"months\":[0,4,8]},\"id\":\"8027\",\"type\":\"MonthsTicker\"},{\"attributes\":{\"fill_color\":{\"value\":\"red\"},\"line_color\":{\"value\":\"red\"},\"size\":{\"units\":\"screen\",\"value\":10},\"x\":{\"value\":1545609600000.0},\"y\":{\"value\":36.70750045776367}},\"id\":\"8035\",\"type\":\"Circle\"},{\"attributes\":{\"days\":[1,2,3,4,5,6,7,8,9,10,11,12,13,14,15,16,17,18,19,20,21,22,23,24,25,26,27,28,29,30,31]},\"id\":\"8021\",\"type\":\"DaysTicker\"},{\"attributes\":{\"months\":[0,6]},\"id\":\"8028\",\"type\":\"MonthsTicker\"},{\"attributes\":{\"days\":[1,4,7,10,13,16,19,22,25,28]},\"id\":\"8022\",\"type\":\"DaysTicker\"},{\"attributes\":{\"source\":{\"id\":\"8007\"}},\"id\":\"8011\",\"type\":\"CDSView\"},{\"attributes\":{\"align\":\"center\",\"text\":\"APPLE 2018\",\"text_color\":{\"value\":\"black\"},\"text_font\":\"calibri\",\"text_font_size\":{\"value\":\"20px\"}},\"id\":\"8002\",\"type\":\"Title\"},{\"attributes\":{\"fill_color\":{\"value\":\"green\"},\"line_color\":{\"value\":\"green\"},\"size\":{\"units\":\"screen\",\"value\":10},\"x\":{\"value\":1538524800000.0},\"y\":{\"value\":58.01750183105469}},\"id\":\"8008\",\"type\":\"Circle\"},{\"attributes\":{\"data\":{},\"selected\":{\"id\":\"8031\"},\"selection_policy\":{\"id\":\"8030\"}},\"id\":\"8007\",\"type\":\"ColumnDataSource\"},{\"attributes\":{},\"id\":\"7989\",\"type\":\"LinearScale\"},{\"attributes\":{\"source\":{\"id\":\"8034\"}},\"id\":\"8038\",\"type\":\"CDSView\"},{\"attributes\":{},\"id\":\"7991\",\"type\":\"LinearScale\"},{\"attributes\":{\"fill_alpha\":{\"value\":0.1},\"fill_color\":{\"value\":\"green\"},\"line_alpha\":{\"value\":0.1},\"line_color\":{\"value\":\"green\"},\"size\":{\"units\":\"screen\",\"value\":10},\"x\":{\"value\":1538524800000.0},\"y\":{\"value\":58.01750183105469}},\"id\":\"8009\",\"type\":\"Circle\"},{\"attributes\":{\"fill_alpha\":{\"value\":0.1},\"fill_color\":{\"value\":\"red\"},\"line_alpha\":{\"value\":0.1},\"line_color\":{\"value\":\"red\"},\"size\":{\"units\":\"screen\",\"value\":10},\"x\":{\"value\":1545609600000.0},\"y\":{\"value\":36.70750045776367}},\"id\":\"8036\",\"type\":\"Circle\"},{\"attributes\":{},\"id\":\"8029\",\"type\":\"YearsTicker\"},{\"attributes\":{\"axis_label\":\"Year\",\"formatter\":{\"id\":\"8067\"},\"minor_tick_in\":-6,\"ticker\":{\"id\":\"7994\"}},\"id\":\"7993\",\"type\":\"DatetimeAxis\"},{\"attributes\":{\"data_source\":{\"id\":\"8034\"},\"glyph\":{\"id\":\"8035\"},\"hover_glyph\":null,\"muted_glyph\":null,\"nonselection_glyph\":{\"id\":\"8036\"},\"selection_glyph\":null,\"view\":{\"id\":\"8038\"}},\"id\":\"8037\",\"type\":\"GlyphRenderer\"},{\"attributes\":{\"mantissas\":[1,2,5],\"max_interval\":500.0,\"num_minor_ticks\":0},\"id\":\"8018\",\"type\":\"AdaptiveTicker\"},{\"attributes\":{\"label\":{\"value\":\"$36.71, 2018-12-24\"},\"renderers\":[{\"id\":\"8037\"}]},\"id\":\"8061\",\"type\":\"LegendItem\"}],\"root_ids\":[\"7984\"]},\"title\":\"Bokeh Application\",\"version\":\"2.1.1\"}};\n",
       "  var render_items = [{\"docid\":\"909e4610-2c03-46a5-8e2e-c88f9c856b81\",\"notebook_comms_target\":\"8346\",\"root_ids\":[\"7984\"],\"roots\":{\"7984\":\"b7c7cf0f-4c00-4e03-ad70-ba7b65270b18\"}}];\n",
       "  root.Bokeh.embed.embed_items_notebook(docs_json, render_items);\n",
       "\n",
       "  }\n",
       "  if (root.Bokeh !== undefined) {\n",
       "    embed_document(root);\n",
       "  } else {\n",
       "    var attempts = 0;\n",
       "    var timer = setInterval(function(root) {\n",
       "      if (root.Bokeh !== undefined) {\n",
       "        clearInterval(timer);\n",
       "        embed_document(root);\n",
       "      } else {\n",
       "        attempts++;\n",
       "        if (attempts > 100) {\n",
       "          clearInterval(timer);\n",
       "          console.log(\"Bokeh: ERROR: Unable to run BokehJS code because BokehJS library is missing\");\n",
       "        }\n",
       "      }\n",
       "    }, 10, root)\n",
       "  }\n",
       "})(window);"
      ],
      "application/vnd.bokehjs_exec.v0+json": ""
     },
     "metadata": {
      "application/vnd.bokehjs_exec.v0+json": {
       "id": "7984"
      }
     },
     "output_type": "display_data"
    },
    {
     "data": {
      "text/html": [
       "<p><code>&lt;Bokeh Notebook handle for <strong>In[23]</strong>&gt;</code></p>"
      ],
      "text/plain": [
       "<bokeh.io.notebook.CommsHandle at 0x149cbc9e3d0>"
      ]
     },
     "execution_count": 23,
     "metadata": {},
     "output_type": "execute_result"
    }
   ],
   "source": [
    "sub=df_app[(df_app['Date']>\"2017-12-31\") & (df_app['Date']<\"2019-01-01\")]\n",
    "output_file(\"APPLE_2018.html\", title=\"APPLE 2018\")\n",
    "p = figure(x_axis_type='datetime', y_axis_type=\"linear\",plot_height = 500,plot_width = 1000,tools=\"\")\n",
    "p.title.text = \"APPLE 2018\"\n",
    "graph(sub,p)\n",
    "show( p , notebook_handle=True) "
   ]
  },
  {
   "cell_type": "markdown",
   "metadata": {},
   "source": [
    "Apple hit 1 Trillion Dollar on August 2nd. \n",
    "\n",
    "- https://markets.businessinsider.com/news/stocks/apple-stock-price-trillion-dollar-market-cap-us-company-2018-8-1027427055?_ga=2.33264958.1693862620.1600683040-887315675.1598188175#\n",
    "\n",
    "iPhone XR was released on September 22nd. Apple shares are higher in the US Wednesday, as it has agreed a deal with one if its major chip makers, Dialog Semiconductor, to buy patents and staff in the largest such deal for the iPhone maker. The deal also includes long-term supplier contracts for Dialog Semiconductor with the US tech giant.\n",
    "July quarter was the best quarter for Apple. \n",
    "\n",
    "But since October, the stock price fell for rest of the year. Apple shares closed higher in the US Thursday, but are lower pre-market as its fourth quarter earnings showed it sold fewer iPhones in the July-September period. The tech innovator also reported forecast beating earnings and revenues, amid a higher than expected average iPhone sale price.\n",
    "\n",
    "- https://www.bbc.com/news/business-46281768\n",
    "- https://invezz.com/news/2018/10/11/apple-shares-rise-as-it-agrees-deal-for-iphone-tech/\n",
    "- https://invezz.com/news/2018/11/02/apple-shares-seen-lower-after-results-show-iphone-sales-miss/"
   ]
  },
  {
   "cell_type": "code",
   "execution_count": 24,
   "metadata": {},
   "outputs": [
    {
     "data": {
      "text/html": [
       "\n",
       "\n",
       "\n",
       "\n",
       "\n",
       "\n",
       "  <div class=\"bk-root\" id=\"f1a603e3-39e1-4541-a523-5905802ecd18\" data-root-id=\"8785\"></div>\n"
      ]
     },
     "metadata": {},
     "output_type": "display_data"
    },
    {
     "data": {
      "application/javascript": [
       "(function(root) {\n",
       "  function embed_document(root) {\n",
       "    \n",
       "  var docs_json = {\"6d25802e-55b3-416e-929b-c40ce6b473de\":{\"roots\":{\"references\":[{\"attributes\":{\"below\":[{\"id\":\"8794\"}],\"center\":[{\"id\":\"8797\"},{\"id\":\"8801\"},{\"id\":\"8833\"}],\"left\":[{\"id\":\"8798\"}],\"plot_height\":500,\"plot_width\":1000,\"renderers\":[{\"id\":\"8811\"},{\"id\":\"8838\"},{\"id\":\"8866\"}],\"title\":{\"id\":\"8803\"},\"toolbar\":{\"id\":\"8802\"},\"x_range\":{\"id\":\"8786\"},\"x_scale\":{\"id\":\"8790\"},\"y_range\":{\"id\":\"8788\"},\"y_scale\":{\"id\":\"8792\"}},\"id\":\"8785\",\"subtype\":\"Figure\",\"type\":\"Plot\"},{\"attributes\":{\"axis\":{\"id\":\"8794\"},\"ticker\":null},\"id\":\"8797\",\"type\":\"Grid\"},{\"attributes\":{},\"id\":\"8860\",\"type\":\"UnionRenderers\"},{\"attributes\":{},\"id\":\"8799\",\"type\":\"BasicTicker\"},{\"attributes\":{},\"id\":\"8818\",\"type\":\"BasicTickFormatter\"},{\"attributes\":{},\"id\":\"8831\",\"type\":\"UnionRenderers\"},{\"attributes\":{},\"id\":\"8861\",\"type\":\"Selection\"},{\"attributes\":{},\"id\":\"8832\",\"type\":\"Selection\"},{\"attributes\":{\"fill_color\":{\"value\":\"red\"},\"line_color\":{\"value\":\"red\"},\"size\":{\"units\":\"screen\",\"value\":10},\"x\":{\"value\":1546473600000.0},\"y\":{\"value\":35.54750061035156}},\"id\":\"8836\",\"type\":\"Circle\"},{\"attributes\":{\"axis_label\":\"Price\",\"formatter\":{\"id\":\"8818\"},\"major_label_orientation\":\"vertical\",\"ticker\":{\"id\":\"8799\"}},\"id\":\"8798\",\"type\":\"LinearAxis\"},{\"attributes\":{\"axis_label\":\"Year\",\"formatter\":{\"id\":\"8868\"},\"minor_tick_in\":-6,\"ticker\":{\"id\":\"8795\"}},\"id\":\"8794\",\"type\":\"DatetimeAxis\"},{\"attributes\":{},\"id\":\"8792\",\"type\":\"LinearScale\"},{\"attributes\":{\"line_color\":\"purple\",\"line_width\":3,\"x\":{\"field\":\"x\"},\"y\":{\"field\":\"y\"}},\"id\":\"8864\",\"type\":\"Line\"},{\"attributes\":{\"fill_color\":{\"value\":\"green\"},\"line_color\":{\"value\":\"green\"},\"size\":{\"units\":\"screen\",\"value\":10},\"x\":{\"value\":1577750400000.0},\"y\":{\"value\":73.4124984741211}},\"id\":\"8809\",\"type\":\"Circle\"},{\"attributes\":{\"fill_alpha\":{\"value\":0.1},\"fill_color\":{\"value\":\"red\"},\"line_alpha\":{\"value\":0.1},\"line_color\":{\"value\":\"red\"},\"size\":{\"units\":\"screen\",\"value\":10},\"x\":{\"value\":1546473600000.0},\"y\":{\"value\":35.54750061035156}},\"id\":\"8837\",\"type\":\"Circle\"},{\"attributes\":{\"callback\":null,\"formatters\":{\"adj close\":\"printf\"},\"mode\":\"vline\",\"tooltips\":[[\"close\",\"$@{y}\"]]},\"id\":\"8870\",\"type\":\"HoverTool\"},{\"attributes\":{\"axis\":{\"id\":\"8798\"},\"dimension\":1,\"ticker\":null},\"id\":\"8801\",\"type\":\"Grid\"},{\"attributes\":{\"data\":{},\"selected\":{\"id\":\"8832\"},\"selection_policy\":{\"id\":\"8831\"}},\"id\":\"8808\",\"type\":\"ColumnDataSource\"},{\"attributes\":{\"line_alpha\":0.1,\"line_color\":\"purple\",\"line_width\":3,\"x\":{\"field\":\"x\"},\"y\":{\"field\":\"y\"}},\"id\":\"8865\",\"type\":\"Line\"},{\"attributes\":{\"fill_alpha\":{\"value\":0.1},\"fill_color\":{\"value\":\"green\"},\"line_alpha\":{\"value\":0.1},\"line_color\":{\"value\":\"green\"},\"size\":{\"units\":\"screen\",\"value\":10},\"x\":{\"value\":1577750400000.0},\"y\":{\"value\":73.4124984741211}},\"id\":\"8810\",\"type\":\"Circle\"},{\"attributes\":{\"source\":{\"id\":\"8808\"}},\"id\":\"8812\",\"type\":\"CDSView\"},{\"attributes\":{\"data_source\":{\"id\":\"8863\"},\"glyph\":{\"id\":\"8864\"},\"hover_glyph\":null,\"muted_glyph\":null,\"nonselection_glyph\":{\"id\":\"8865\"},\"selection_glyph\":null,\"view\":{\"id\":\"8867\"}},\"id\":\"8866\",\"type\":\"GlyphRenderer\"},{\"attributes\":{},\"id\":\"8788\",\"type\":\"DataRange1d\"},{\"attributes\":{\"data\":{\"x\":{\"__ndarray__\":\"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\",\"dtype\":\"float64\",\"order\":\"little\",\"shape\":[252]},\"y\":{\"__ndarray__\":\"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\",\"dtype\":\"float64\",\"order\":\"little\",\"shape\":[252]}},\"selected\":{\"id\":\"9169\"},\"selection_policy\":{\"id\":\"9168\"}},\"id\":\"8863\",\"type\":\"ColumnDataSource\"},{\"attributes\":{\"label\":{\"value\":\"$73.41, 2019-12-31\"},\"renderers\":[{\"id\":\"8811\"}]},\"id\":\"8834\",\"type\":\"LegendItem\"},{\"attributes\":{},\"id\":\"9169\",\"type\":\"Selection\"},{\"attributes\":{\"align\":\"center\",\"text\":\"APPLE 2019\",\"text_color\":{\"value\":\"black\"},\"text_font\":\"calibri\",\"text_font_size\":{\"value\":\"20px\"}},\"id\":\"8803\",\"type\":\"Title\"},{\"attributes\":{\"source\":{\"id\":\"8863\"}},\"id\":\"8867\",\"type\":\"CDSView\"},{\"attributes\":{\"num_minor_ticks\":5,\"tickers\":[{\"id\":\"8819\"},{\"id\":\"8820\"},{\"id\":\"8821\"},{\"id\":\"8822\"},{\"id\":\"8823\"},{\"id\":\"8824\"},{\"id\":\"8825\"},{\"id\":\"8826\"},{\"id\":\"8827\"},{\"id\":\"8828\"},{\"id\":\"8829\"},{\"id\":\"8830\"}]},\"id\":\"8795\",\"type\":\"DatetimeTicker\"},{\"attributes\":{\"mantissas\":[1,2,5],\"max_interval\":500.0,\"num_minor_ticks\":0},\"id\":\"8819\",\"type\":\"AdaptiveTicker\"},{\"attributes\":{\"base\":60,\"mantissas\":[1,2,5,10,15,20,30],\"max_interval\":1800000.0,\"min_interval\":1000.0,\"num_minor_ticks\":0},\"id\":\"8820\",\"type\":\"AdaptiveTicker\"},{\"attributes\":{\"data_source\":{\"id\":\"8835\"},\"glyph\":{\"id\":\"8836\"},\"hover_glyph\":null,\"muted_glyph\":null,\"nonselection_glyph\":{\"id\":\"8837\"},\"selection_glyph\":null,\"view\":{\"id\":\"8839\"}},\"id\":\"8838\",\"type\":\"GlyphRenderer\"},{\"attributes\":{\"active_drag\":\"auto\",\"active_inspect\":\"auto\",\"active_multi\":null,\"active_scroll\":\"auto\",\"active_tap\":\"auto\",\"tools\":[{\"id\":\"8870\"}]},\"id\":\"8802\",\"type\":\"Toolbar\"},{\"attributes\":{\"data\":{},\"selected\":{\"id\":\"8861\"},\"selection_policy\":{\"id\":\"8860\"}},\"id\":\"8835\",\"type\":\"ColumnDataSource\"},{\"attributes\":{\"days\":[1,2,3,4,5,6,7,8,9,10,11,12,13,14,15,16,17,18,19,20,21,22,23,24,25,26,27,28,29,30,31]},\"id\":\"8822\",\"type\":\"DaysTicker\"},{\"attributes\":{\"base\":24,\"mantissas\":[1,2,4,6,8,12],\"max_interval\":43200000.0,\"min_interval\":3600000.0,\"num_minor_ticks\":0},\"id\":\"8821\",\"type\":\"AdaptiveTicker\"},{\"attributes\":{\"source\":{\"id\":\"8835\"}},\"id\":\"8839\",\"type\":\"CDSView\"},{\"attributes\":{\"months\":[0,1,2,3,4,5,6,7,8,9,10,11]},\"id\":\"8826\",\"type\":\"MonthsTicker\"},{\"attributes\":{\"months\":[0,2,4,6,8,10]},\"id\":\"8827\",\"type\":\"MonthsTicker\"},{\"attributes\":{\"items\":[{\"id\":\"8834\"},{\"id\":\"8862\"}],\"location\":\"top_left\"},\"id\":\"8833\",\"type\":\"Legend\"},{\"attributes\":{\"days\":[1,4,7,10,13,16,19,22,25,28]},\"id\":\"8823\",\"type\":\"DaysTicker\"},{\"attributes\":{\"days\":[1,15]},\"id\":\"8825\",\"type\":\"DaysTicker\"},{\"attributes\":{\"data_source\":{\"id\":\"8808\"},\"glyph\":{\"id\":\"8809\"},\"hover_glyph\":null,\"muted_glyph\":null,\"nonselection_glyph\":{\"id\":\"8810\"},\"selection_glyph\":null,\"view\":{\"id\":\"8812\"}},\"id\":\"8811\",\"type\":\"GlyphRenderer\"},{\"attributes\":{\"months\":[0,6]},\"id\":\"8829\",\"type\":\"MonthsTicker\"},{\"attributes\":{\"days\":[\"%b %y\"],\"months\":[\"%b %y\"],\"years\":[\"%b %y\"]},\"id\":\"8868\",\"type\":\"DatetimeTickFormatter\"},{\"attributes\":{\"days\":[1,8,15,22]},\"id\":\"8824\",\"type\":\"DaysTicker\"},{\"attributes\":{},\"id\":\"9168\",\"type\":\"UnionRenderers\"},{\"attributes\":{},\"id\":\"8830\",\"type\":\"YearsTicker\"},{\"attributes\":{},\"id\":\"8786\",\"type\":\"DataRange1d\"},{\"attributes\":{\"label\":{\"value\":\"$35.55, 2019-01-03\"},\"renderers\":[{\"id\":\"8838\"}]},\"id\":\"8862\",\"type\":\"LegendItem\"},{\"attributes\":{\"months\":[0,4,8]},\"id\":\"8828\",\"type\":\"MonthsTicker\"},{\"attributes\":{},\"id\":\"8790\",\"type\":\"LinearScale\"}],\"root_ids\":[\"8785\"]},\"title\":\"Bokeh Application\",\"version\":\"2.1.1\"}};\n",
       "  var render_items = [{\"docid\":\"6d25802e-55b3-416e-929b-c40ce6b473de\",\"notebook_comms_target\":\"9170\",\"root_ids\":[\"8785\"],\"roots\":{\"8785\":\"f1a603e3-39e1-4541-a523-5905802ecd18\"}}];\n",
       "  root.Bokeh.embed.embed_items_notebook(docs_json, render_items);\n",
       "\n",
       "  }\n",
       "  if (root.Bokeh !== undefined) {\n",
       "    embed_document(root);\n",
       "  } else {\n",
       "    var attempts = 0;\n",
       "    var timer = setInterval(function(root) {\n",
       "      if (root.Bokeh !== undefined) {\n",
       "        clearInterval(timer);\n",
       "        embed_document(root);\n",
       "      } else {\n",
       "        attempts++;\n",
       "        if (attempts > 100) {\n",
       "          clearInterval(timer);\n",
       "          console.log(\"Bokeh: ERROR: Unable to run BokehJS code because BokehJS library is missing\");\n",
       "        }\n",
       "      }\n",
       "    }, 10, root)\n",
       "  }\n",
       "})(window);"
      ],
      "application/vnd.bokehjs_exec.v0+json": ""
     },
     "metadata": {
      "application/vnd.bokehjs_exec.v0+json": {
       "id": "8785"
      }
     },
     "output_type": "display_data"
    },
    {
     "data": {
      "text/html": [
       "<p><code>&lt;Bokeh Notebook handle for <strong>In[24]</strong>&gt;</code></p>"
      ],
      "text/plain": [
       "<bokeh.io.notebook.CommsHandle at 0x149cbcc0a90>"
      ]
     },
     "execution_count": 24,
     "metadata": {},
     "output_type": "execute_result"
    }
   ],
   "source": [
    "sub=df_app[(df_app['Date']>\"2018-12-31\") & (df_app['Date']<\"2020-01-01\")]\n",
    "output_file(\"APPLE_2019.html\", title=\"APPLE 2019\")\n",
    "p = figure(x_axis_type='datetime', y_axis_type=\"linear\",plot_height = 500,plot_width = 1000,tools=\"\")\n",
    "p.title.text = \"APPLE 2019\"\n",
    "graph(sub,p)\n",
    "show( p , notebook_handle=True) "
   ]
  },
  {
   "cell_type": "markdown",
   "metadata": {},
   "source": [
    "Apple did relatively better in 2019. Its lowest stock price was at the beginning of the year and it has surged since then with the highest price on 31st December. In January there was loss in sales of iPhone due to the ongoing US-China trade war. \n",
    "\n",
    "The year 2019 was a busy one for Apple, spreading countless hardware and software releases out through the entire year. Ranging from several updates to the Mac lineup and the iPhone 11 Pro to the Apple Watch Series 5 and AirPods Pro, Apple had updates and releases across all of its product lineups in 2019.\n",
    "\n",
    "- https://www.macworld.com/article/3489506/apple-2019-year-in-review.html\n",
    "- https://9to5mac.com/2019/12/28/apple-announcements-2019/#:~:text=The%20year%202019%20was%20a,its%20product%20lineups%20in%202019."
   ]
  },
  {
   "cell_type": "code",
   "execution_count": 23,
   "metadata": {},
   "outputs": [
    {
     "data": {
      "text/html": [
       "\n",
       "\n",
       "\n",
       "\n",
       "\n",
       "\n",
       "  <div class=\"bk-root\" id=\"4c28330d-5da5-47b7-93dd-5a5bff877dcb\" data-root-id=\"8785\"></div>\n"
      ]
     },
     "metadata": {},
     "output_type": "display_data"
    },
    {
     "data": {
      "application/javascript": [
       "(function(root) {\n",
       "  function embed_document(root) {\n",
       "    \n",
       "  var docs_json = {\"acdf3854-0ce3-4ebb-b1df-a8fa7521d055\":{\"roots\":{\"references\":[{\"attributes\":{\"below\":[{\"id\":\"8794\"}],\"center\":[{\"id\":\"8797\"},{\"id\":\"8801\"},{\"id\":\"8833\"}],\"left\":[{\"id\":\"8798\"}],\"plot_height\":500,\"plot_width\":1000,\"renderers\":[{\"id\":\"8811\"},{\"id\":\"8838\"},{\"id\":\"8866\"}],\"title\":{\"id\":\"8803\"},\"toolbar\":{\"id\":\"8802\"},\"x_range\":{\"id\":\"8786\"},\"x_scale\":{\"id\":\"8790\"},\"y_range\":{\"id\":\"8788\"},\"y_scale\":{\"id\":\"8792\"}},\"id\":\"8785\",\"subtype\":\"Figure\",\"type\":\"Plot\"},{\"attributes\":{\"axis_label\":\"Price\",\"formatter\":{\"id\":\"8818\"},\"major_label_orientation\":\"vertical\",\"ticker\":{\"id\":\"8799\"}},\"id\":\"8798\",\"type\":\"LinearAxis\"},{\"attributes\":{\"days\":[1,15]},\"id\":\"8825\",\"type\":\"DaysTicker\"},{\"attributes\":{\"months\":[0,2,4,6,8,10]},\"id\":\"8827\",\"type\":\"MonthsTicker\"},{\"attributes\":{\"months\":[0,6]},\"id\":\"8829\",\"type\":\"MonthsTicker\"},{\"attributes\":{},\"id\":\"8830\",\"type\":\"YearsTicker\"},{\"attributes\":{},\"id\":\"9168\",\"type\":\"Selection\"},{\"attributes\":{},\"id\":\"8799\",\"type\":\"BasicTicker\"},{\"attributes\":{},\"id\":\"9169\",\"type\":\"UnionRenderers\"},{\"attributes\":{\"months\":[0,4,8]},\"id\":\"8828\",\"type\":\"MonthsTicker\"},{\"attributes\":{\"days\":[1,2,3,4,5,6,7,8,9,10,11,12,13,14,15,16,17,18,19,20,21,22,23,24,25,26,27,28,29,30,31]},\"id\":\"8822\",\"type\":\"DaysTicker\"},{\"attributes\":{\"data\":{},\"selected\":{\"id\":\"8831\"},\"selection_policy\":{\"id\":\"8832\"}},\"id\":\"8808\",\"type\":\"ColumnDataSource\"},{\"attributes\":{},\"id\":\"8786\",\"type\":\"DataRange1d\"},{\"attributes\":{},\"id\":\"8861\",\"type\":\"UnionRenderers\"},{\"attributes\":{},\"id\":\"8790\",\"type\":\"LinearScale\"},{\"attributes\":{},\"id\":\"8831\",\"type\":\"Selection\"},{\"attributes\":{},\"id\":\"8860\",\"type\":\"Selection\"},{\"attributes\":{\"fill_color\":{\"value\":\"green\"},\"line_color\":{\"value\":\"green\"},\"size\":{\"units\":\"screen\",\"value\":10},\"x\":{\"value\":1598918400000.0},\"y\":{\"value\":134.17999267578125}},\"id\":\"8809\",\"type\":\"Circle\"},{\"attributes\":{},\"id\":\"8832\",\"type\":\"UnionRenderers\"},{\"attributes\":{\"data_source\":{\"id\":\"8808\"},\"glyph\":{\"id\":\"8809\"},\"hover_glyph\":null,\"muted_glyph\":null,\"nonselection_glyph\":{\"id\":\"8810\"},\"selection_glyph\":null,\"view\":{\"id\":\"8812\"}},\"id\":\"8811\",\"type\":\"GlyphRenderer\"},{\"attributes\":{\"fill_alpha\":{\"value\":0.1},\"fill_color\":{\"value\":\"green\"},\"line_alpha\":{\"value\":0.1},\"line_color\":{\"value\":\"green\"},\"size\":{\"units\":\"screen\",\"value\":10},\"x\":{\"value\":1598918400000.0},\"y\":{\"value\":134.17999267578125}},\"id\":\"8810\",\"type\":\"Circle\"},{\"attributes\":{\"label\":{\"value\":\"$134.18, 2020-09-01\"},\"renderers\":[{\"id\":\"8811\"}]},\"id\":\"8834\",\"type\":\"LegendItem\"},{\"attributes\":{},\"id\":\"8792\",\"type\":\"LinearScale\"},{\"attributes\":{\"source\":{\"id\":\"8835\"}},\"id\":\"8839\",\"type\":\"CDSView\"},{\"attributes\":{\"line_color\":\"purple\",\"line_width\":3,\"x\":{\"field\":\"x\"},\"y\":{\"field\":\"y\"}},\"id\":\"8864\",\"type\":\"Line\"},{\"attributes\":{\"num_minor_ticks\":5,\"tickers\":[{\"id\":\"8819\"},{\"id\":\"8820\"},{\"id\":\"8821\"},{\"id\":\"8822\"},{\"id\":\"8823\"},{\"id\":\"8824\"},{\"id\":\"8825\"},{\"id\":\"8826\"},{\"id\":\"8827\"},{\"id\":\"8828\"},{\"id\":\"8829\"},{\"id\":\"8830\"}]},\"id\":\"8795\",\"type\":\"DatetimeTicker\"},{\"attributes\":{\"axis\":{\"id\":\"8794\"},\"ticker\":null},\"id\":\"8797\",\"type\":\"Grid\"},{\"attributes\":{\"align\":\"center\",\"text\":\"APPLE 2020\",\"text_color\":{\"value\":\"black\"},\"text_font\":\"calibri\",\"text_font_size\":{\"value\":\"20px\"}},\"id\":\"8803\",\"type\":\"Title\"},{\"attributes\":{\"axis_label\":\"Year\",\"formatter\":{\"id\":\"8868\"},\"minor_tick_in\":-6,\"ticker\":{\"id\":\"8795\"}},\"id\":\"8794\",\"type\":\"DatetimeAxis\"},{\"attributes\":{\"callback\":null,\"formatters\":{\"adj close\":\"printf\"},\"mode\":\"vline\",\"tooltips\":[[\"close\",\"$@{y}\"]]},\"id\":\"8870\",\"type\":\"HoverTool\"},{\"attributes\":{\"fill_color\":{\"value\":\"red\"},\"line_color\":{\"value\":\"red\"},\"size\":{\"units\":\"screen\",\"value\":10},\"x\":{\"value\":1584921600000.0},\"y\":{\"value\":56.092498779296875}},\"id\":\"8836\",\"type\":\"Circle\"},{\"attributes\":{\"active_drag\":\"auto\",\"active_inspect\":\"auto\",\"active_multi\":null,\"active_scroll\":\"auto\",\"active_tap\":\"auto\",\"tools\":[{\"id\":\"8870\"}]},\"id\":\"8802\",\"type\":\"Toolbar\"},{\"attributes\":{},\"id\":\"8788\",\"type\":\"DataRange1d\"},{\"attributes\":{\"line_alpha\":0.1,\"line_color\":\"purple\",\"line_width\":3,\"x\":{\"field\":\"x\"},\"y\":{\"field\":\"y\"}},\"id\":\"8865\",\"type\":\"Line\"},{\"attributes\":{\"data\":{},\"selected\":{\"id\":\"8860\"},\"selection_policy\":{\"id\":\"8861\"}},\"id\":\"8835\",\"type\":\"ColumnDataSource\"},{\"attributes\":{\"data_source\":{\"id\":\"8863\"},\"glyph\":{\"id\":\"8864\"},\"hover_glyph\":null,\"muted_glyph\":null,\"nonselection_glyph\":{\"id\":\"8865\"},\"selection_glyph\":null,\"view\":{\"id\":\"8867\"}},\"id\":\"8866\",\"type\":\"GlyphRenderer\"},{\"attributes\":{\"fill_alpha\":{\"value\":0.1},\"fill_color\":{\"value\":\"red\"},\"line_alpha\":{\"value\":0.1},\"line_color\":{\"value\":\"red\"},\"size\":{\"units\":\"screen\",\"value\":10},\"x\":{\"value\":1584921600000.0},\"y\":{\"value\":56.092498779296875}},\"id\":\"8837\",\"type\":\"Circle\"},{\"attributes\":{\"data\":{\"x\":{\"__ndarray__\":\"AABA1Dj2dkIAAAA6i/Z2QgAAQGuC93ZCAAAA0dT3dkIAAMA2J/h2QgAAgJx5+HZCAABAAsz4dkIAAIAzw/l2QgAAQJkV+nZCAAAA/2f6dkIAAMBkuvp2QgAAgMoM+3ZCAACAYVb8dkIAAEDHqPx2QgAAAC37/HZCAADAkk39dkIAAADERP52QgAAwCmX/nZCAACAj+n+dkIAAED1O/92QgAAAFuO/3ZCAABAjIUAd0IAAADy1wB3QgAAwFcqAXdCAACAvXwBd0IAAEAjzwF3QgAAgFTGAndCAABAuhgDd0IAAAAgawN3QgAAwIW9A3dCAACA6w8Ed0IAAICCWQV3QgAAQOirBXdCAAAATv4Fd0IAAMCzUAZ3QgAAAOVHB3dCAADASpoHd0IAAICw7Ad3QgAAQBY/CHdCAAAAfJEId0IAAECtiAl3QgAAABPbCXdCAADAeC0Kd0IAAIDefwp3QgAAQETSCndCAACAdckLd0IAAEDbGwx3QgAAAEFuDHdCAADApsAMd0IAAIAMEw13QgAAwD0KDndCAACAo1wOd0IAAEAJrw53QgAAAG8BD3dCAADA1FMPd0IAAAAGSxB3QgAAwGudEHdCAACA0e8Qd0IAAEA3QhF3QgAAAJ2UEXdCAABAzosSd0IAAAA03hJ3QgAAwJkwE3dCAACA/4ITd0IAAEBl1RN3QgAAgJbMFHdCAABA/B4Vd0IAAABicRV3QgAAwMfDFXdCAADAXg0Xd0IAAIDEXxd3QgAAQCqyF3dCAAAAkAQYd0IAAMD1Vhh3QgAAACdOGXdCAADAjKAZd0IAAIDy8hl3QgAAQFhFGndCAAAAvpcad0IAAEDvjht3QgAAAFXhG3dCAADAujMcd0IAAIAghhx3QgAAQIbYHHdCAACAt88dd0IAAEAdIh53QgAAAIN0HndCAADA6MYed0IAAIBOGR93QgAAwH8QIHdCAACA5WIgd0IAAEBLtSB3QgAAALEHIXdCAADAFlohd0IAAABIUSJ3QgAAwK2jIndCAACAE/Yid0IAAEB5SCN3QgAAAN+aI3dCAAAAduQkd0IAAMDbNiV3QgAAgEGJJXdCAABAp9sld0IAAIDY0iZ3QgAAQD4lJ3dCAAAApHcnd0IAAMAJyid3QgAAgG8cKHdCAADAoBMpd0IAAIAGZil3QgAAQGy4KXdCAAAA0goqd0IAAMA3XSp3QgAAAGlUK3dCAADAzqYrd0IAAIA0+St3QgAAQJpLLHdCAAAAAJ4sd0IAAEAxlS13QgAAAJfnLXdCAADA/Dkud0IAAIBijC53QgAAQMjeLndCAACA+dUvd0IAAEBfKDB3QgAAAMV6MHdCAADAKs0wd0IAAMDBFjJ3QgAAgCdpMndCAABAjbsyd0IAAADzDTN3QgAAwFhgM3dCAAAAilc0d0IAAMDvqTR3QgAAgFX8NHdCAABAu041d0IAAAAhoTV3QgAAQFKYNndCAAAAuOo2d0IAAMAdPTd3QgAAgIOPN3dCAABA6eE3d0IAAIAa2Th3QgAAQIArOXdCAAAA5n05d0IAAMBL0Dl3QgAAgLEiOndCAADA4hk7d0IAAIBIbDt3QgAAQK6+O3dCAAAAFBE8d0IAAMB5Yzx3QgAAAKtaPXdCAADAEK09d0IAAIB2/z13QgAAQNxRPndCAAAAQqQ+d0IAAEBzmz93QgAAANntP3dCAADAPkBAd0IAAICkkkB3QgAAQArlQHdCAACAO9xBd0IAAEChLkJ3QgAAAAeBQndCAADAbNNCd0IAAIDSJUN3QgAAwAMdRHdCAACAaW9Ed0IAAEDPwUR3QgAAADUURXdCAADAmmZFd0IAAMAxsEZ3QgAAgJcCR3dCAABA/VRHd0IAAABjp0d3QgAAQJSeSHdCAAAA+vBId0IAAMBfQ0l3QgAAgMWVSXdCAABAK+hJd0IAAIBc30p3QgAAQMIxS3dCAAAAKIRLd0I=\",\"dtype\":\"float64\",\"order\":\"little\",\"shape\":[184]},\"y\":{\"__ndarray__\":\"AAAAoJnFUkAAAABA4ZZSQAAAAMDMvFJAAAAAgD2mUkAAAABACvNSQAAAAIAUWlNAAAAAoEdlU0AAAAAgXM9TQAAAAEDhilNAAAAAoHB1U0AAAAAA17NTQAAAACCu61NAAAAAwB7JU0AAAABAM9tTQAAAACCu81NAAAAAwPXkU0AAAABAM09TQAAAAEAK21NAAAAAoHBFVEAAAACA6z1UQAAAAAApWFNAAAAAYI9KU0AAAACgme1TQAAAAEAzF1RAAAAAIFxTVEAAAADgegBUQAAAAMDMGFRAAAAAgML5U0AAAABAM3NUQAAAAIDrTVRAAAAAQDNPVEAAAAAAAPBTQAAAAIDrOVRAAAAAwMwEVEAAAADAzJBTQAAAAEDholJAAAAAoEcBUkAAAABgZkpSQAAAAOBRGFFAAAAAgMIVUUAAAADA9axSQAAAAMAeFVJAAAAAANfrUkAAAABguE5SQAAAAOB6EFJAAAAAYLiiUEAAAACgcNVRQAAAAEDhNlFAAAAAIFwHT0AAAAAghV9RQAAAAGC4Rk5AAAAAIIWbT0AAAACgcNVOQAAAAMD1mE5AAAAAIK6nTEAAAAAA1wtMQAAAAAAp3E5AAAAA4KOwTkAAAABACidQQAAAACCu905AAAAAgOvZT0AAAACgR8lPQAAAAMAeHU5AAAAAgMKdTkAAAADAHi1OQAAAACCFZ1BAAAAAQOE2UEAAAADAHqFQQAAAAADXv1BAAAAAAAAUUUAAAADAzPBRQAAAAEDhxlFAAAAAQArrUUAAAADAzKxRQAAAAEDhTlFAAAAAgOvFUEAAAACgmUFRQAAAAOB6MFFAAAAAIIWvUUAAAABguLJRQAAAAKBHaVFAAAAAIK77UUAAAADAzFxSQAAAAMAeEVJAAAAAYI9SUkAAAADA9ZhSQAAAAIAUylJAAAAAANf7UkAAAACAFGJTQAAAAAApsFNAAAAAYI92U0AAAABgZjpTQAAAAOCjWFNAAAAAIFw7U0AAAAAgXK9TQAAAAIA9klNAAAAAIK7zU0AAAACgmc1TQAAAAIA97lNAAAAAIK7LU0AAAACAwuFTQAAAAAAA5FNAAAAAQArfU0AAAACgmR1UQAAAAKBwNVRAAAAAgOtRVEAAAADAHiVUQAAAAAAAuFRAAAAAIFzXVEAAAAAA139VQAAAAKBwDVZAAAAAYGb+VEAAAADAzCxVQAAAAADXb1VAAAAAoEcBVkAAAACgcPlVQAAAACCu+1VAAAAAIIXbVUAAAACA621WQAAAAOB66FZAAAAAwPWAVkAAAACgcM1WQAAAAIAUGlZAAAAA4HqcVkAAAADAzMxWQAAAAIDCwVZAAAAAgMLBVkAAAACgmV1XQAAAAEAKS1dAAAAAgOvVV0AAAAAAKfBXQAAAAEDh+ldAAAAAYI/eV0AAAAAgrkNYQAAAAGBmblhAAAAAoHAhWEAAAADA9RRYQAAAAEDhllhAAAAAAABAWEAAAACgcFFYQAAAAIAUNldAAAAAIFwnV0AAAAAA17NXQAAAAAApUFdAAAAAYI/CV0AAAAAAKQxYQAAAAOCjkFpAAAAAAAA8W0AAAABgj2pbQAAAAAAAhFtAAAAAgMJ5XEAAAABAM8dbQAAAAGCPLlxAAAAAAABYW0AAAADgo0BcQAAAAOCjwFxAAAAAgBS6XEAAAABA4aZcQAAAAAAA5FxAAAAAoEftXEAAAACgmZFdQAAAACCuF19AAAAAQOF2X0AAAADAzDRfQAAAAKBwoV9AAAAA4KNAX0AAAAAgrjNfQAAAAKBHIWBAAAAAgMLFYEAAAADAzGxgQAAAAOBROF5AAAAAoHA9XkAAAADgejRcQAAAAOB6VF1AAAAAIFxfXEAAAAAAAABcQAAAAEAK11xAAAAAYI/iXEAAAADgUQhcQAAAAIDClVtAAAAAgMK1WkAAAADAHoVbQAAAAADX81tAAAAAAG2mW0A=\",\"dtype\":\"float64\",\"order\":\"little\",\"shape\":[184]}},\"selected\":{\"id\":\"9168\"},\"selection_policy\":{\"id\":\"9169\"}},\"id\":\"8863\",\"type\":\"ColumnDataSource\"},{\"attributes\":{},\"id\":\"8818\",\"type\":\"BasicTickFormatter\"},{\"attributes\":{\"axis\":{\"id\":\"8798\"},\"dimension\":1,\"ticker\":null},\"id\":\"8801\",\"type\":\"Grid\"},{\"attributes\":{\"data_source\":{\"id\":\"8835\"},\"glyph\":{\"id\":\"8836\"},\"hover_glyph\":null,\"muted_glyph\":null,\"nonselection_glyph\":{\"id\":\"8837\"},\"selection_glyph\":null,\"view\":{\"id\":\"8839\"}},\"id\":\"8838\",\"type\":\"GlyphRenderer\"},{\"attributes\":{\"source\":{\"id\":\"8863\"}},\"id\":\"8867\",\"type\":\"CDSView\"},{\"attributes\":{\"days\":[\"%b %y\"],\"months\":[\"%b %y\"],\"years\":[\"%b %y\"]},\"id\":\"8868\",\"type\":\"DatetimeTickFormatter\"},{\"attributes\":{\"mantissas\":[1,2,5],\"max_interval\":500.0,\"num_minor_ticks\":0},\"id\":\"8819\",\"type\":\"AdaptiveTicker\"},{\"attributes\":{\"label\":{\"value\":\"$56.09, 2020-03-23\"},\"renderers\":[{\"id\":\"8838\"}]},\"id\":\"8862\",\"type\":\"LegendItem\"},{\"attributes\":{\"base\":60,\"mantissas\":[1,2,5,10,15,20,30],\"max_interval\":1800000.0,\"min_interval\":1000.0,\"num_minor_ticks\":0},\"id\":\"8820\",\"type\":\"AdaptiveTicker\"},{\"attributes\":{\"base\":24,\"mantissas\":[1,2,4,6,8,12],\"max_interval\":43200000.0,\"min_interval\":3600000.0,\"num_minor_ticks\":0},\"id\":\"8821\",\"type\":\"AdaptiveTicker\"},{\"attributes\":{\"months\":[0,1,2,3,4,5,6,7,8,9,10,11]},\"id\":\"8826\",\"type\":\"MonthsTicker\"},{\"attributes\":{\"days\":[1,8,15,22]},\"id\":\"8824\",\"type\":\"DaysTicker\"},{\"attributes\":{\"items\":[{\"id\":\"8834\"},{\"id\":\"8862\"}],\"location\":\"top_left\"},\"id\":\"8833\",\"type\":\"Legend\"},{\"attributes\":{\"days\":[1,4,7,10,13,16,19,22,25,28]},\"id\":\"8823\",\"type\":\"DaysTicker\"},{\"attributes\":{\"source\":{\"id\":\"8808\"}},\"id\":\"8812\",\"type\":\"CDSView\"}],\"root_ids\":[\"8785\"]},\"title\":\"Bokeh Application\",\"version\":\"2.1.1\"}};\n",
       "  var render_items = [{\"docid\":\"acdf3854-0ce3-4ebb-b1df-a8fa7521d055\",\"notebook_comms_target\":\"9170\",\"root_ids\":[\"8785\"],\"roots\":{\"8785\":\"4c28330d-5da5-47b7-93dd-5a5bff877dcb\"}}];\n",
       "  root.Bokeh.embed.embed_items_notebook(docs_json, render_items);\n",
       "\n",
       "  }\n",
       "  if (root.Bokeh !== undefined) {\n",
       "    embed_document(root);\n",
       "  } else {\n",
       "    var attempts = 0;\n",
       "    var timer = setInterval(function(root) {\n",
       "      if (root.Bokeh !== undefined) {\n",
       "        clearInterval(timer);\n",
       "        embed_document(root);\n",
       "      } else {\n",
       "        attempts++;\n",
       "        if (attempts > 100) {\n",
       "          clearInterval(timer);\n",
       "          console.log(\"Bokeh: ERROR: Unable to run BokehJS code because BokehJS library is missing\");\n",
       "        }\n",
       "      }\n",
       "    }, 10, root)\n",
       "  }\n",
       "})(window);"
      ],
      "application/vnd.bokehjs_exec.v0+json": ""
     },
     "metadata": {
      "application/vnd.bokehjs_exec.v0+json": {
       "id": "8785"
      }
     },
     "output_type": "display_data"
    },
    {
     "data": {
      "text/html": [
       "<p><code>&lt;Bokeh Notebook handle for <strong>In[23]</strong>&gt;</code></p>"
      ],
      "text/plain": [
       "<bokeh.io.notebook.CommsHandle at 0x283be27a430>"
      ]
     },
     "execution_count": 23,
     "metadata": {},
     "output_type": "execute_result"
    }
   ],
   "source": [
    "sub=df_app[(df_app['Date']>\"2019-12-31\") ]\n",
    "output_file(\"APPLE_2020.html\", title=\"APPLE 2020\")\n",
    "p = figure(x_axis_type='datetime', y_axis_type=\"linear\",plot_height = 500,plot_width = 1000,tools=\"\")\n",
    "p.title.text = \"APPLE 2020\"\n",
    "graph(sub,p)\n",
    "show( p , notebook_handle=True) "
   ]
  },
  {
   "cell_type": "markdown",
   "metadata": {},
   "source": [
    "Apple become the first US company to hit a market cap of 2 trillion dollar. It’s an arbitrary milestone but a significant one all the same, testimony to the pandemic-defying performance of the iPhone maker. It’s also been just two years since Apple hit a $1 trillion market cap, meaning the company has essentially doubled in value in just over 24 months. \n",
    "\n",
    "https://www.businessinsider.in/stock-market/news/apple-hits-2-trillion-market-cap-becomes-first-us-listed-company-to-reach-milestone/articleshow/77638152.cms#:~:text=Apple%20just%20became%20the%20first,a%20%242%20trillion%20market%20value.\n",
    "\n",
    "https://www.theverge.com/2020/8/19/21375223/apple-2-trillion-market-cap-first-us-company-stock-price"
   ]
  },
  {
   "cell_type": "code",
   "execution_count": 25,
   "metadata": {},
   "outputs": [
    {
     "data": {
      "text/html": [
       "<div>\n",
       "<style scoped>\n",
       "    .dataframe tbody tr th:only-of-type {\n",
       "        vertical-align: middle;\n",
       "    }\n",
       "\n",
       "    .dataframe tbody tr th {\n",
       "        vertical-align: top;\n",
       "    }\n",
       "\n",
       "    .dataframe thead th {\n",
       "        text-align: right;\n",
       "    }\n",
       "</style>\n",
       "<table border=\"1\" class=\"dataframe\">\n",
       "  <thead>\n",
       "    <tr style=\"text-align: right;\">\n",
       "      <th></th>\n",
       "      <th>Date</th>\n",
       "      <th>Price</th>\n",
       "    </tr>\n",
       "  </thead>\n",
       "  <tbody>\n",
       "    <tr>\n",
       "      <th>0</th>\n",
       "      <td>2012-09-19</td>\n",
       "      <td>25.80</td>\n",
       "    </tr>\n",
       "    <tr>\n",
       "      <th>1</th>\n",
       "      <td>2014-11-26</td>\n",
       "      <td>29.75</td>\n",
       "    </tr>\n",
       "    <tr>\n",
       "      <th>2</th>\n",
       "      <td>2015-02-23</td>\n",
       "      <td>33.25</td>\n",
       "    </tr>\n",
       "    <tr>\n",
       "      <th>3</th>\n",
       "      <td>2016-10-25</td>\n",
       "      <td>29.56</td>\n",
       "    </tr>\n",
       "    <tr>\n",
       "      <th>4</th>\n",
       "      <td>2017-12-18</td>\n",
       "      <td>44.00</td>\n",
       "    </tr>\n",
       "    <tr>\n",
       "      <th>5</th>\n",
       "      <td>2018-03-10</td>\n",
       "      <td>58.02</td>\n",
       "    </tr>\n",
       "    <tr>\n",
       "      <th>6</th>\n",
       "      <td>2019-12-31</td>\n",
       "      <td>73.40</td>\n",
       "    </tr>\n",
       "    <tr>\n",
       "      <th>7</th>\n",
       "      <td>2020-09-01</td>\n",
       "      <td>134.18</td>\n",
       "    </tr>\n",
       "  </tbody>\n",
       "</table>\n",
       "</div>"
      ],
      "text/plain": [
       "        Date   Price\n",
       "0 2012-09-19   25.80\n",
       "1 2014-11-26   29.75\n",
       "2 2015-02-23   33.25\n",
       "3 2016-10-25   29.56\n",
       "4 2017-12-18   44.00\n",
       "5 2018-03-10   58.02\n",
       "6 2019-12-31   73.40\n",
       "7 2020-09-01  134.18"
      ]
     },
     "execution_count": 25,
     "metadata": {},
     "output_type": "execute_result"
    }
   ],
   "source": [
    "date=[\"19-09-2012\",\"26-11-2014\",\"23-02-2015\",\"25-10-2016\",\"18-12-2017\",\"2018-03-10\",\"31-12-2019\",\"2020-09-01\"]\n",
    "price=[25.8,29.75,33.25,29.56,44,58.02,73.4,134.18]\n",
    "\n",
    "d_max={'Date':date,'Price':price}\n",
    "df_max=pd.DataFrame(d_max)\n",
    "\n",
    "df_max['Date']=pd.to_datetime(df_max['Date'])\n",
    "df_max"
   ]
  },
  {
   "cell_type": "code",
   "execution_count": 26,
   "metadata": {},
   "outputs": [],
   "source": [
    "def max_min(df,p):\n",
    "    p.xaxis.axis_label = 'Year'\n",
    "    p.yaxis.axis_label = 'Price'\n",
    "\n",
    "    p.title.text_color = \"black\"\n",
    "    p.title.text_font = \"calibri\"\n",
    "    p.title.text_font_size = \"20px\"\n",
    "    p.title.align = \"center\"\n",
    "\n",
    "    p.xaxis.minor_tick_line_color = \"black\"\n",
    "    p.yaxis.major_label_orientation = \"vertical\"\n",
    "    p.xaxis.visible = True\n",
    "    p.xaxis.minor_tick_in = -6\n",
    "    \n",
    "    \n",
    "    #x axis is year, y is the price\n",
    "    y2=(df['Price'].max())\n",
    "    ind=df['Price'].idxmax()\n",
    "    x2=df['Date'][ind].date()\n",
    "    name=\"$\"+str(round(y2,2))+\", \"+str(x2)\n",
    "    p.circle(x2,y2,size = 10, color = 'green',legend_label=name)\n",
    "\n",
    "    p.legend.location = \"top_left\"\n",
    "    y1=(df['Price'].min())\n",
    "    ind=df['Price'].idxmin()\n",
    "    x1=df['Date'][ind].date()\n",
    "    name=\"$\"+str(round(y1,2))+\", \"+str(x1)\n",
    "    p.circle(x1,y1,size = 10, color = 'red',legend_label=name)\n",
    "      \n",
    "    x=df.Date\n",
    "    y=df.Price\n",
    "    p.line(x,y,line_color=\"purple\", line_width = 3)\n",
    "    \n",
    "    p.xaxis.formatter=DatetimeTickFormatter(\n",
    "        days= [\"%b %y\"],\n",
    "        months=[\"%b %y\"],\n",
    "        years=[\"%b %y\"]\n",
    "    )\n",
    "\n",
    "    p.add_tools(HoverTool(tooltips=[\n",
    "        #('date','@{x %m-%y}'),\n",
    "        ('close',  '$@{y}' )], # use @{ } for field names with spaces   \n",
    "                          formatters={\n",
    "         #                     'date':'datetime',\n",
    "                              'adj close' : 'printf', \n",
    "                          },  # use 'printf' formatter for 'adj close' field\n",
    "                                  # use default 'numeral' formatter for other fields\n",
    "    \n",
    "                          mode='vline' # display a tooltip whenever the cursor is vertically in line with a glyph\n",
    "                         ))   "
   ]
  },
  {
   "cell_type": "code",
   "execution_count": 27,
   "metadata": {},
   "outputs": [
    {
     "data": {
      "text/html": [
       "\n",
       "\n",
       "\n",
       "\n",
       "\n",
       "\n",
       "  <div class=\"bk-root\" id=\"8b84ff6a-ee18-4d8d-a280-72ca84a49f35\" data-root-id=\"9609\"></div>\n"
      ]
     },
     "metadata": {},
     "output_type": "display_data"
    },
    {
     "data": {
      "application/javascript": [
       "(function(root) {\n",
       "  function embed_document(root) {\n",
       "    \n",
       "  var docs_json = {\"b094d20c-a256-44b0-b384-5eb5f67aae9a\":{\"roots\":{\"references\":[{\"attributes\":{\"below\":[{\"id\":\"9618\"}],\"center\":[{\"id\":\"9621\"},{\"id\":\"9625\"},{\"id\":\"9657\"}],\"left\":[{\"id\":\"9622\"}],\"plot_height\":500,\"plot_width\":1000,\"renderers\":[{\"id\":\"9635\"},{\"id\":\"9662\"},{\"id\":\"9690\"}],\"title\":{\"id\":\"9627\"},\"toolbar\":{\"id\":\"9626\"},\"x_range\":{\"id\":\"9610\"},\"x_scale\":{\"id\":\"9614\"},\"y_range\":{\"id\":\"9612\"},\"y_scale\":{\"id\":\"9616\"}},\"id\":\"9609\",\"subtype\":\"Figure\",\"type\":\"Plot\"},{\"attributes\":{\"data\":{\"x\":{\"__ndarray__\":\"AACAL72dc0IAAABclp50QgAAwLs7u3RCAABAL5J/dUIAAIC4bgZ2QgAAAFDTIHZCAADACJT1dkIAAIBpb0R3Qg==\",\"dtype\":\"float64\",\"order\":\"little\",\"shape\":[8]},\"y\":{\"__ndarray__\":\"zczMzMzMOUAAAAAAAMA9QAAAAAAAoEBAj8L1KFyPPUAAAAAAAABGQMP1KFyPAk1AmpmZmZlZUkD2KFyPwsVgQA==\",\"dtype\":\"float64\",\"order\":\"little\",\"shape\":[8]}},\"selected\":{\"id\":\"10016\"},\"selection_policy\":{\"id\":\"10015\"}},\"id\":\"9687\",\"type\":\"ColumnDataSource\"},{\"attributes\":{\"fill_alpha\":{\"value\":0.1},\"fill_color\":{\"value\":\"red\"},\"line_alpha\":{\"value\":0.1},\"line_color\":{\"value\":\"red\"},\"size\":{\"units\":\"screen\",\"value\":10},\"x\":{\"value\":1348012800000.0},\"y\":{\"value\":25.8}},\"id\":\"9661\",\"type\":\"Circle\"},{\"attributes\":{\"line_color\":\"purple\",\"line_width\":3,\"x\":{\"field\":\"x\"},\"y\":{\"field\":\"y\"}},\"id\":\"9688\",\"type\":\"Line\"},{\"attributes\":{\"label\":{\"value\":\"$25.8, 2012-09-19\"},\"renderers\":[{\"id\":\"9662\"}]},\"id\":\"9686\",\"type\":\"LegendItem\"},{\"attributes\":{\"data_source\":{\"id\":\"9687\"},\"glyph\":{\"id\":\"9688\"},\"hover_glyph\":null,\"muted_glyph\":null,\"nonselection_glyph\":{\"id\":\"9689\"},\"selection_glyph\":null,\"view\":{\"id\":\"9691\"}},\"id\":\"9690\",\"type\":\"GlyphRenderer\"},{\"attributes\":{\"days\":[\"%b %y\"],\"months\":[\"%b %y\"],\"years\":[\"%b %y\"]},\"id\":\"9692\",\"type\":\"DatetimeTickFormatter\"},{\"attributes\":{\"line_alpha\":0.1,\"line_color\":\"purple\",\"line_width\":3,\"x\":{\"field\":\"x\"},\"y\":{\"field\":\"y\"}},\"id\":\"9689\",\"type\":\"Line\"},{\"attributes\":{\"data\":{},\"selected\":{\"id\":\"9656\"},\"selection_policy\":{\"id\":\"9655\"}},\"id\":\"9632\",\"type\":\"ColumnDataSource\"},{\"attributes\":{\"months\":[0,1,2,3,4,5,6,7,8,9,10,11]},\"id\":\"9650\",\"type\":\"MonthsTicker\"},{\"attributes\":{\"source\":{\"id\":\"9687\"}},\"id\":\"9691\",\"type\":\"CDSView\"},{\"attributes\":{\"fill_alpha\":{\"value\":0.1},\"fill_color\":{\"value\":\"green\"},\"line_alpha\":{\"value\":0.1},\"line_color\":{\"value\":\"green\"},\"size\":{\"units\":\"screen\",\"value\":10},\"x\":{\"value\":1598918400000.0},\"y\":{\"value\":134.18}},\"id\":\"9634\",\"type\":\"Circle\"},{\"attributes\":{\"active_drag\":\"auto\",\"active_inspect\":\"auto\",\"active_multi\":null,\"active_scroll\":\"auto\",\"active_tap\":\"auto\",\"tools\":[{\"id\":\"9694\"}]},\"id\":\"9626\",\"type\":\"Toolbar\"},{\"attributes\":{},\"id\":\"9610\",\"type\":\"DataRange1d\"},{\"attributes\":{\"days\":[1,8,15,22]},\"id\":\"9648\",\"type\":\"DaysTicker\"},{\"attributes\":{\"data_source\":{\"id\":\"9659\"},\"glyph\":{\"id\":\"9660\"},\"hover_glyph\":null,\"muted_glyph\":null,\"nonselection_glyph\":{\"id\":\"9661\"},\"selection_glyph\":null,\"view\":{\"id\":\"9663\"}},\"id\":\"9662\",\"type\":\"GlyphRenderer\"},{\"attributes\":{\"source\":{\"id\":\"9632\"}},\"id\":\"9636\",\"type\":\"CDSView\"},{\"attributes\":{\"fill_color\":{\"value\":\"green\"},\"line_color\":{\"value\":\"green\"},\"size\":{\"units\":\"screen\",\"value\":10},\"x\":{\"value\":1598918400000.0},\"y\":{\"value\":134.18}},\"id\":\"9633\",\"type\":\"Circle\"},{\"attributes\":{\"label\":{\"value\":\"$134.18, 2020-09-01\"},\"renderers\":[{\"id\":\"9635\"}]},\"id\":\"9658\",\"type\":\"LegendItem\"},{\"attributes\":{\"mantissas\":[1,2,5],\"max_interval\":500.0,\"num_minor_ticks\":0},\"id\":\"9643\",\"type\":\"AdaptiveTicker\"},{\"attributes\":{\"data\":{},\"selected\":{\"id\":\"9685\"},\"selection_policy\":{\"id\":\"9684\"}},\"id\":\"9659\",\"type\":\"ColumnDataSource\"},{\"attributes\":{\"base\":60,\"mantissas\":[1,2,5,10,15,20,30],\"max_interval\":1800000.0,\"min_interval\":1000.0,\"num_minor_ticks\":0},\"id\":\"9644\",\"type\":\"AdaptiveTicker\"},{\"attributes\":{\"items\":[{\"id\":\"9658\"},{\"id\":\"9686\"}],\"location\":\"top_left\"},\"id\":\"9657\",\"type\":\"Legend\"},{\"attributes\":{\"data_source\":{\"id\":\"9632\"},\"glyph\":{\"id\":\"9633\"},\"hover_glyph\":null,\"muted_glyph\":null,\"nonselection_glyph\":{\"id\":\"9634\"},\"selection_glyph\":null,\"view\":{\"id\":\"9636\"}},\"id\":\"9635\",\"type\":\"GlyphRenderer\"},{\"attributes\":{\"days\":[1,2,3,4,5,6,7,8,9,10,11,12,13,14,15,16,17,18,19,20,21,22,23,24,25,26,27,28,29,30,31]},\"id\":\"9646\",\"type\":\"DaysTicker\"},{\"attributes\":{\"fill_color\":{\"value\":\"red\"},\"line_color\":{\"value\":\"red\"},\"size\":{\"units\":\"screen\",\"value\":10},\"x\":{\"value\":1348012800000.0},\"y\":{\"value\":25.8}},\"id\":\"9660\",\"type\":\"Circle\"},{\"attributes\":{\"base\":24,\"mantissas\":[1,2,4,6,8,12],\"max_interval\":43200000.0,\"min_interval\":3600000.0,\"num_minor_ticks\":0},\"id\":\"9645\",\"type\":\"AdaptiveTicker\"},{\"attributes\":{\"months\":[0,2,4,6,8,10]},\"id\":\"9651\",\"type\":\"MonthsTicker\"},{\"attributes\":{\"days\":[1,4,7,10,13,16,19,22,25,28]},\"id\":\"9647\",\"type\":\"DaysTicker\"},{\"attributes\":{},\"id\":\"10015\",\"type\":\"UnionRenderers\"},{\"attributes\":{\"axis_label\":\"Price\",\"formatter\":{\"id\":\"9642\"},\"major_label_orientation\":\"vertical\",\"ticker\":{\"id\":\"9623\"}},\"id\":\"9622\",\"type\":\"LinearAxis\"},{\"attributes\":{\"days\":[1,15]},\"id\":\"9649\",\"type\":\"DaysTicker\"},{\"attributes\":{\"months\":[0,6]},\"id\":\"9653\",\"type\":\"MonthsTicker\"},{\"attributes\":{},\"id\":\"9654\",\"type\":\"YearsTicker\"},{\"attributes\":{\"axis\":{\"id\":\"9618\"},\"ticker\":null},\"id\":\"9621\",\"type\":\"Grid\"},{\"attributes\":{\"align\":\"center\",\"text\":\"APPLE MAX GRAPH\",\"text_color\":{\"value\":\"black\"},\"text_font\":\"calibri\",\"text_font_size\":{\"value\":\"20px\"}},\"id\":\"9627\",\"type\":\"Title\"},{\"attributes\":{\"months\":[0,4,8]},\"id\":\"9652\",\"type\":\"MonthsTicker\"},{\"attributes\":{},\"id\":\"9614\",\"type\":\"LinearScale\"},{\"attributes\":{},\"id\":\"10016\",\"type\":\"Selection\"},{\"attributes\":{},\"id\":\"9684\",\"type\":\"UnionRenderers\"},{\"attributes\":{},\"id\":\"9623\",\"type\":\"BasicTicker\"},{\"attributes\":{\"num_minor_ticks\":5,\"tickers\":[{\"id\":\"9643\"},{\"id\":\"9644\"},{\"id\":\"9645\"},{\"id\":\"9646\"},{\"id\":\"9647\"},{\"id\":\"9648\"},{\"id\":\"9649\"},{\"id\":\"9650\"},{\"id\":\"9651\"},{\"id\":\"9652\"},{\"id\":\"9653\"},{\"id\":\"9654\"}]},\"id\":\"9619\",\"type\":\"DatetimeTicker\"},{\"attributes\":{},\"id\":\"9685\",\"type\":\"Selection\"},{\"attributes\":{},\"id\":\"9642\",\"type\":\"BasicTickFormatter\"},{\"attributes\":{},\"id\":\"9612\",\"type\":\"DataRange1d\"},{\"attributes\":{\"axis_label\":\"Year\",\"formatter\":{\"id\":\"9692\"},\"minor_tick_in\":-6,\"ticker\":{\"id\":\"9619\"}},\"id\":\"9618\",\"type\":\"DatetimeAxis\"},{\"attributes\":{\"axis\":{\"id\":\"9622\"},\"dimension\":1,\"ticker\":null},\"id\":\"9625\",\"type\":\"Grid\"},{\"attributes\":{\"source\":{\"id\":\"9659\"}},\"id\":\"9663\",\"type\":\"CDSView\"},{\"attributes\":{},\"id\":\"9655\",\"type\":\"UnionRenderers\"},{\"attributes\":{},\"id\":\"9656\",\"type\":\"Selection\"},{\"attributes\":{},\"id\":\"9616\",\"type\":\"LinearScale\"},{\"attributes\":{\"callback\":null,\"formatters\":{\"adj close\":\"printf\"},\"mode\":\"vline\",\"tooltips\":[[\"close\",\"$@{y}\"]]},\"id\":\"9694\",\"type\":\"HoverTool\"}],\"root_ids\":[\"9609\"]},\"title\":\"Bokeh Application\",\"version\":\"2.1.1\"}};\n",
       "  var render_items = [{\"docid\":\"b094d20c-a256-44b0-b384-5eb5f67aae9a\",\"notebook_comms_target\":\"10017\",\"root_ids\":[\"9609\"],\"roots\":{\"9609\":\"8b84ff6a-ee18-4d8d-a280-72ca84a49f35\"}}];\n",
       "  root.Bokeh.embed.embed_items_notebook(docs_json, render_items);\n",
       "\n",
       "  }\n",
       "  if (root.Bokeh !== undefined) {\n",
       "    embed_document(root);\n",
       "  } else {\n",
       "    var attempts = 0;\n",
       "    var timer = setInterval(function(root) {\n",
       "      if (root.Bokeh !== undefined) {\n",
       "        clearInterval(timer);\n",
       "        embed_document(root);\n",
       "      } else {\n",
       "        attempts++;\n",
       "        if (attempts > 100) {\n",
       "          clearInterval(timer);\n",
       "          console.log(\"Bokeh: ERROR: Unable to run BokehJS code because BokehJS library is missing\");\n",
       "        }\n",
       "      }\n",
       "    }, 10, root)\n",
       "  }\n",
       "})(window);"
      ],
      "application/vnd.bokehjs_exec.v0+json": ""
     },
     "metadata": {
      "application/vnd.bokehjs_exec.v0+json": {
       "id": "9609"
      }
     },
     "output_type": "display_data"
    },
    {
     "data": {
      "text/html": [
       "<p><code>&lt;Bokeh Notebook handle for <strong>In[27]</strong>&gt;</code></p>"
      ],
      "text/plain": [
       "<bokeh.io.notebook.CommsHandle at 0x149cbce8ee0>"
      ]
     },
     "execution_count": 27,
     "metadata": {},
     "output_type": "execute_result"
    }
   ],
   "source": [
    "output_file(\"APPLE_MAX_MIN.html\")\n",
    "p = figure(x_axis_type='datetime', y_axis_type=\"linear\",plot_height = 500,plot_width = 1000,tools=\"\")\n",
    "p.title.text = \"APPLE MAX GRAPH\"\n",
    "max_min(df_max,p)\n",
    "show( p , notebook_handle=True) "
   ]
  },
  {
   "cell_type": "code",
   "execution_count": 28,
   "metadata": {},
   "outputs": [
    {
     "data": {
      "text/html": [
       "\n",
       "\n",
       "\n",
       "\n",
       "\n",
       "\n",
       "  <div class=\"bk-root\" id=\"8abddbe6-2d9a-43e6-8773-501922373491\" data-root-id=\"10456\"></div>\n"
      ]
     },
     "metadata": {},
     "output_type": "display_data"
    },
    {
     "data": {
      "application/javascript": [
       "(function(root) {\n",
       "  function embed_document(root) {\n",
       "    \n",
       "  var docs_json = {\"61de9d77-3f52-49a9-9dc0-62b8782f7cab\":{\"roots\":{\"references\":[{\"attributes\":{\"below\":[{\"id\":\"10465\"}],\"center\":[{\"id\":\"10468\"},{\"id\":\"10472\"},{\"id\":\"10504\"}],\"left\":[{\"id\":\"10469\"}],\"plot_height\":500,\"plot_width\":1000,\"renderers\":[{\"id\":\"10482\"},{\"id\":\"10509\"},{\"id\":\"10537\"}],\"title\":{\"id\":\"10474\"},\"toolbar\":{\"id\":\"10473\"},\"x_range\":{\"id\":\"10457\"},\"x_scale\":{\"id\":\"10461\"},\"y_range\":{\"id\":\"10459\"},\"y_scale\":{\"id\":\"10463\"}},\"id\":\"10456\",\"subtype\":\"Figure\",\"type\":\"Plot\"},{\"attributes\":{},\"id\":\"10502\",\"type\":\"UnionRenderers\"},{\"attributes\":{\"axis\":{\"id\":\"10469\"},\"dimension\":1,\"ticker\":null},\"id\":\"10472\",\"type\":\"Grid\"},{\"attributes\":{},\"id\":\"10503\",\"type\":\"Selection\"},{\"attributes\":{\"label\":{\"value\":\"$143.16, 2021-01-26\"},\"renderers\":[{\"id\":\"10482\"}]},\"id\":\"10505\",\"type\":\"LegendItem\"},{\"attributes\":{\"active_drag\":\"auto\",\"active_inspect\":\"auto\",\"active_multi\":null,\"active_scroll\":\"auto\",\"active_tap\":\"auto\",\"tools\":[{\"id\":\"10541\"}]},\"id\":\"10473\",\"type\":\"Toolbar\"},{\"attributes\":{\"label\":{\"value\":\"$29.0, 2017-01-04\"},\"renderers\":[{\"id\":\"10509\"}]},\"id\":\"10533\",\"type\":\"LegendItem\"},{\"attributes\":{\"fill_alpha\":{\"value\":0.1},\"fill_color\":{\"value\":\"green\"},\"line_alpha\":{\"value\":0.1},\"line_color\":{\"value\":\"green\"},\"size\":{\"units\":\"screen\",\"value\":10},\"x\":{\"value\":1611619200000.0},\"y\":{\"value\":143.16000366210938}},\"id\":\"10481\",\"type\":\"Circle\"},{\"attributes\":{\"source\":{\"id\":\"10506\"}},\"id\":\"10510\",\"type\":\"CDSView\"},{\"attributes\":{\"data\":{\"x\":{\"__ndarray__\":\"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\",\"dtype\":\"float64\",\"order\":\"little\",\"shape\":[1113]},\"y\":{\"__ndarray__\":\"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\",\"dtype\":\"float64\",\"order\":\"little\",\"shape\":[1113]}},\"selected\":{\"id\":\"10886\"},\"selection_policy\":{\"id\":\"10885\"}},\"id\":\"10534\",\"type\":\"ColumnDataSource\"},{\"attributes\":{\"days\":[\"%b %y\"],\"months\":[\"%b %y\"],\"years\":[\"%b %y\"]},\"id\":\"10539\",\"type\":\"DatetimeTickFormatter\"},{\"attributes\":{\"data_source\":{\"id\":\"10506\"},\"glyph\":{\"id\":\"10507\"},\"hover_glyph\":null,\"muted_glyph\":null,\"nonselection_glyph\":{\"id\":\"10508\"},\"selection_glyph\":null,\"view\":{\"id\":\"10510\"}},\"id\":\"10509\",\"type\":\"GlyphRenderer\"},{\"attributes\":{},\"id\":\"10885\",\"type\":\"UnionRenderers\"},{\"attributes\":{\"align\":\"center\",\"text\":\"APPLE 2017-2020\",\"text_color\":{\"value\":\"black\"},\"text_font\":\"calibri\",\"text_font_size\":{\"value\":\"20px\"}},\"id\":\"10474\",\"type\":\"Title\"},{\"attributes\":{\"days\":[1,15]},\"id\":\"10496\",\"type\":\"DaysTicker\"},{\"attributes\":{\"items\":[{\"id\":\"10505\"},{\"id\":\"10533\"}],\"location\":\"top_left\"},\"id\":\"10504\",\"type\":\"Legend\"},{\"attributes\":{\"fill_color\":{\"value\":\"red\"},\"line_color\":{\"value\":\"red\"},\"size\":{\"units\":\"screen\",\"value\":10},\"x\":{\"value\":1483488000000.0},\"y\":{\"value\":29.0049991607666}},\"id\":\"10507\",\"type\":\"Circle\"},{\"attributes\":{\"mantissas\":[1,2,5],\"max_interval\":500.0,\"num_minor_ticks\":0},\"id\":\"10490\",\"type\":\"AdaptiveTicker\"},{\"attributes\":{\"fill_color\":{\"value\":\"green\"},\"line_color\":{\"value\":\"green\"},\"size\":{\"units\":\"screen\",\"value\":10},\"x\":{\"value\":1611619200000.0},\"y\":{\"value\":143.16000366210938}},\"id\":\"10480\",\"type\":\"Circle\"},{\"attributes\":{},\"id\":\"10532\",\"type\":\"Selection\"},{\"attributes\":{\"base\":60,\"mantissas\":[1,2,5,10,15,20,30],\"max_interval\":1800000.0,\"min_interval\":1000.0,\"num_minor_ticks\":0},\"id\":\"10491\",\"type\":\"AdaptiveTicker\"},{\"attributes\":{},\"id\":\"10886\",\"type\":\"Selection\"},{\"attributes\":{\"days\":[1,2,3,4,5,6,7,8,9,10,11,12,13,14,15,16,17,18,19,20,21,22,23,24,25,26,27,28,29,30,31]},\"id\":\"10493\",\"type\":\"DaysTicker\"},{\"attributes\":{\"source\":{\"id\":\"10479\"}},\"id\":\"10483\",\"type\":\"CDSView\"},{\"attributes\":{\"base\":24,\"mantissas\":[1,2,4,6,8,12],\"max_interval\":43200000.0,\"min_interval\":3600000.0,\"num_minor_ticks\":0},\"id\":\"10492\",\"type\":\"AdaptiveTicker\"},{\"attributes\":{},\"id\":\"10470\",\"type\":\"BasicTicker\"},{\"attributes\":{\"data_source\":{\"id\":\"10479\"},\"glyph\":{\"id\":\"10480\"},\"hover_glyph\":null,\"muted_glyph\":null,\"nonselection_glyph\":{\"id\":\"10481\"},\"selection_glyph\":null,\"view\":{\"id\":\"10483\"}},\"id\":\"10482\",\"type\":\"GlyphRenderer\"},{\"attributes\":{},\"id\":\"10461\",\"type\":\"LinearScale\"},{\"attributes\":{\"months\":[0,1,2,3,4,5,6,7,8,9,10,11]},\"id\":\"10497\",\"type\":\"MonthsTicker\"},{\"attributes\":{\"callback\":null,\"formatters\":{\"adj close\":\"printf\"},\"mode\":\"vline\",\"tooltips\":[[\"close\",\"$@{y}\"]]},\"id\":\"10541\",\"type\":\"HoverTool\"},{\"attributes\":{\"source\":{\"id\":\"10534\"}},\"id\":\"10538\",\"type\":\"CDSView\"},{\"attributes\":{\"months\":[0,2,4,6,8,10]},\"id\":\"10498\",\"type\":\"MonthsTicker\"},{\"attributes\":{\"data\":{},\"selected\":{\"id\":\"10503\"},\"selection_policy\":{\"id\":\"10502\"}},\"id\":\"10479\",\"type\":\"ColumnDataSource\"},{\"attributes\":{\"days\":[1,4,7,10,13,16,19,22,25,28]},\"id\":\"10494\",\"type\":\"DaysTicker\"},{\"attributes\":{},\"id\":\"10457\",\"type\":\"DataRange1d\"},{\"attributes\":{\"months\":[0,6]},\"id\":\"10500\",\"type\":\"MonthsTicker\"},{\"attributes\":{\"days\":[1,8,15,22]},\"id\":\"10495\",\"type\":\"DaysTicker\"},{\"attributes\":{\"data\":{},\"selected\":{\"id\":\"10532\"},\"selection_policy\":{\"id\":\"10531\"}},\"id\":\"10506\",\"type\":\"ColumnDataSource\"},{\"attributes\":{},\"id\":\"10489\",\"type\":\"BasicTickFormatter\"},{\"attributes\":{},\"id\":\"10501\",\"type\":\"YearsTicker\"},{\"attributes\":{\"axis_label\":\"Year\",\"formatter\":{\"id\":\"10539\"},\"minor_tick_in\":-6,\"ticker\":{\"id\":\"10466\"}},\"id\":\"10465\",\"type\":\"DatetimeAxis\"},{\"attributes\":{},\"id\":\"10531\",\"type\":\"UnionRenderers\"},{\"attributes\":{},\"id\":\"10459\",\"type\":\"DataRange1d\"},{\"attributes\":{\"months\":[0,4,8]},\"id\":\"10499\",\"type\":\"MonthsTicker\"},{\"attributes\":{},\"id\":\"10463\",\"type\":\"LinearScale\"},{\"attributes\":{\"fill_alpha\":{\"value\":0.1},\"fill_color\":{\"value\":\"red\"},\"line_alpha\":{\"value\":0.1},\"line_color\":{\"value\":\"red\"},\"size\":{\"units\":\"screen\",\"value\":10},\"x\":{\"value\":1483488000000.0},\"y\":{\"value\":29.0049991607666}},\"id\":\"10508\",\"type\":\"Circle\"},{\"attributes\":{\"line_color\":\"purple\",\"line_width\":3,\"x\":{\"field\":\"x\"},\"y\":{\"field\":\"y\"}},\"id\":\"10535\",\"type\":\"Line\"},{\"attributes\":{\"axis_label\":\"Price\",\"formatter\":{\"id\":\"10489\"},\"major_label_orientation\":\"vertical\",\"ticker\":{\"id\":\"10470\"}},\"id\":\"10469\",\"type\":\"LinearAxis\"},{\"attributes\":{\"line_alpha\":0.1,\"line_color\":\"purple\",\"line_width\":3,\"x\":{\"field\":\"x\"},\"y\":{\"field\":\"y\"}},\"id\":\"10536\",\"type\":\"Line\"},{\"attributes\":{\"num_minor_ticks\":5,\"tickers\":[{\"id\":\"10490\"},{\"id\":\"10491\"},{\"id\":\"10492\"},{\"id\":\"10493\"},{\"id\":\"10494\"},{\"id\":\"10495\"},{\"id\":\"10496\"},{\"id\":\"10497\"},{\"id\":\"10498\"},{\"id\":\"10499\"},{\"id\":\"10500\"},{\"id\":\"10501\"}]},\"id\":\"10466\",\"type\":\"DatetimeTicker\"},{\"attributes\":{\"data_source\":{\"id\":\"10534\"},\"glyph\":{\"id\":\"10535\"},\"hover_glyph\":null,\"muted_glyph\":null,\"nonselection_glyph\":{\"id\":\"10536\"},\"selection_glyph\":null,\"view\":{\"id\":\"10538\"}},\"id\":\"10537\",\"type\":\"GlyphRenderer\"},{\"attributes\":{\"axis\":{\"id\":\"10465\"},\"ticker\":null},\"id\":\"10468\",\"type\":\"Grid\"}],\"root_ids\":[\"10456\"]},\"title\":\"Bokeh Application\",\"version\":\"2.1.1\"}};\n",
       "  var render_items = [{\"docid\":\"61de9d77-3f52-49a9-9dc0-62b8782f7cab\",\"notebook_comms_target\":\"10887\",\"root_ids\":[\"10456\"],\"roots\":{\"10456\":\"8abddbe6-2d9a-43e6-8773-501922373491\"}}];\n",
       "  root.Bokeh.embed.embed_items_notebook(docs_json, render_items);\n",
       "\n",
       "  }\n",
       "  if (root.Bokeh !== undefined) {\n",
       "    embed_document(root);\n",
       "  } else {\n",
       "    var attempts = 0;\n",
       "    var timer = setInterval(function(root) {\n",
       "      if (root.Bokeh !== undefined) {\n",
       "        clearInterval(timer);\n",
       "        embed_document(root);\n",
       "      } else {\n",
       "        attempts++;\n",
       "        if (attempts > 100) {\n",
       "          clearInterval(timer);\n",
       "          console.log(\"Bokeh: ERROR: Unable to run BokehJS code because BokehJS library is missing\");\n",
       "        }\n",
       "      }\n",
       "    }, 10, root)\n",
       "  }\n",
       "})(window);"
      ],
      "application/vnd.bokehjs_exec.v0+json": ""
     },
     "metadata": {
      "application/vnd.bokehjs_exec.v0+json": {
       "id": "10456"
      }
     },
     "output_type": "display_data"
    },
    {
     "data": {
      "text/html": [
       "<p><code>&lt;Bokeh Notebook handle for <strong>In[28]</strong>&gt;</code></p>"
      ],
      "text/plain": [
       "<bokeh.io.notebook.CommsHandle at 0x149cbd21580>"
      ]
     },
     "execution_count": 28,
     "metadata": {},
     "output_type": "execute_result"
    }
   ],
   "source": [
    "df_1720=df_app[df_app['Date']>'2016-12-31']\n",
    "sub=df_1720\n",
    "#output_file(\"APPLE_2016_2020.html\", title=\"APPLE 2017-2020\")\n",
    "p = figure(x_axis_type='datetime', y_axis_type=\"linear\",plot_height = 500,plot_width = 1000,tools=\"\")\n",
    "p.title.text = \"APPLE 2017-2020\"\n",
    "graph(sub,p)\n",
    "show( p , notebook_handle=True) "
   ]
  }
 ],
 "metadata": {
  "kernelspec": {
   "display_name": "Python 3",
   "language": "python",
   "name": "python3"
  },
  "language_info": {
   "codemirror_mode": {
    "name": "ipython",
    "version": 3
   },
   "file_extension": ".py",
   "mimetype": "text/x-python",
   "name": "python",
   "nbconvert_exporter": "python",
   "pygments_lexer": "ipython3",
   "version": "3.8.5"
  }
 },
 "nbformat": 4,
 "nbformat_minor": 4
}
